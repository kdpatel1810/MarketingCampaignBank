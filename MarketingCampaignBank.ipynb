{
 "cells": [
  {
   "cell_type": "markdown",
   "metadata": {},
   "source": [
    "* Link to the dataset: https://www.kaggle.com/janiobachmann/bank-marketing-dataset\n",
    "\n",
    "# About the dataset\n",
    "* This dataset gives you information about a marketing campaign of a financial institution, which you will have to analyze in order to find ways to look for future strategies in order to improve future marketing campaigns for the bank.\n",
    "## Input variables explained:\n",
    "### bank client data:<br> \n",
    "1 - age (numeric)<br> \n",
    "2 - job : type of job (categorical: 'admin.','blue-collar','entrepreneur','housemaid','management','retired','self-employed','services','student','technician','unemployed','unknown')<br> \n",
    "3 - marital : marital status (categorical: 'divorced','married','single','unknown'; note: 'divorced' means divorced or widowed)<br> \n",
    "4 - education (categorical: 'basic.4y','basic.6y','basic.9y','high.school','illiterate','professional.course','university.degree','unknown')<br> \n",
    "5 - default: has credit in default? (categorical: 'no','yes','unknown')<br> \n",
    "6 - balance: average yearly balance, in euros (numeric)\n",
    "7 - housing: has housing loan? (categorical: 'no','yes','unknown')<br> \n",
    "8 - loan: has personal loan? (categorical: 'no','yes','unknown')<br> \n",
    "### Related with the last contact of the current campaign:\n",
    "9 - contact: contact communication type (categorical: 'cellular','telephone')<br> \n",
    "10 - month: last contact month of year (categorical: 'jan', 'feb', 'mar', ..., 'nov', 'dec')<br> \n",
    "11 - day_of_week: last contact day of the week (categorical: 'mon','tue','wed','thu','fri')<br> \n",
    "12 - duration: last contact duration, in seconds (numeric). Important note: this attribute highly affects the output target (e.g., if duration=0 then y='no'). Yet, the duration is not known before a call is performed. Also, after the end of the call y is obviously known. Thus, this input should only be included for benchmark purposes and should be discarded if the intention is to have a realistic predictive model.<br> \n",
    "### Other attributes:\n",
    "13 - campaign: number of contacts performed during this campaign and for this client (numeric, includes last contact)<br> \n",
    "14 - pdays: number of days that passed by after the client was last contacted from a previous campaign (numeric; 999 means client was not previously contacted)<br> \n",
    "15 - previous: number of contacts performed before this campaign and for this client (numeric)<br> \n",
    "16 - poutcome: outcome of the previous marketing campaign (categorical: 'failure','nonexistent','success')<br> \n",
    "## Output variable (desired target):\n",
    "17 - y - has the client subscribed a term deposit? (binary: 'yes','no')\n",
    "* Deposite definition: What is a Term Deposit?\n",
    "A Term deposit is a deposit that a bank or a financial institurion offers with a fixed rate (often better  than just opening deposit account) in which your money will be returned back at a specific maturity time. "
   ]
  },
  {
   "cell_type": "markdown",
   "metadata": {},
   "source": [
    "## Approach\n",
    "In order to optimize marketing campaigns with the help of the dataset, we will have to take the following steps:\n",
    "* Import data from dataset and perform initial high-level analysis: look at the number of rows, look at the missing values, look at dataset columns and their values respective to the campaign outcome.\n",
    "* Clean the data: remove irrelevant columns, deal with missing and incorrect values, turn categorical columns into dummy variables.\n",
    "* Here some categorical columns have values \"unknown\". We are considering it as one category which can influence the deposite status. Hence not removing it.\n",
    "* Use machine learning techniques to predict the marketing campaign outcome and to find out factors, which affect the success of the campaign."
   ]
  },
  {
   "cell_type": "markdown",
   "metadata": {},
   "source": [
    "### Import linear algebra and data manipulation libraries"
   ]
  },
  {
   "cell_type": "code",
   "execution_count": 2,
   "metadata": {},
   "outputs": [],
   "source": [
    "import pandas as pd\n",
    "import numpy as np\n",
    "%matplotlib inline \n",
    "#import standard visualization\n",
    "import matplotlib.pyplot as plt\n",
    "import seaborn as sns"
   ]
  },
  {
   "cell_type": "code",
   "execution_count": 4,
   "metadata": {},
   "outputs": [],
   "source": [
    "df=pd.read_csv(\"bank.csv\")"
   ]
  },
  {
   "cell_type": "markdown",
   "metadata": {},
   "source": [
    "# 1. DATA PREPROCESSING"
   ]
  },
  {
   "cell_type": "markdown",
   "metadata": {},
   "source": [
    "## Checking for Missing values"
   ]
  },
  {
   "cell_type": "code",
   "execution_count": 5,
   "metadata": {},
   "outputs": [
    {
     "data": {
      "text/plain": [
       "age          11162\n",
       "job          11162\n",
       "marital      11162\n",
       "education    11162\n",
       "default      11162\n",
       "balance      11162\n",
       "housing      11162\n",
       "loan         11162\n",
       "contact      11162\n",
       "day          11162\n",
       "month        11162\n",
       "duration     11162\n",
       "campaign     11162\n",
       "pdays        11162\n",
       "previous     11162\n",
       "poutcome     11162\n",
       "deposit      11162\n",
       "dtype: int64"
      ]
     },
     "execution_count": 5,
     "metadata": {},
     "output_type": "execute_result"
    }
   ],
   "source": [
    "df.isna().count()"
   ]
  },
  {
   "cell_type": "code",
   "execution_count": 6,
   "metadata": {},
   "outputs": [
    {
     "data": {
      "text/html": [
       "<div>\n",
       "<style scoped>\n",
       "    .dataframe tbody tr th:only-of-type {\n",
       "        vertical-align: middle;\n",
       "    }\n",
       "\n",
       "    .dataframe tbody tr th {\n",
       "        vertical-align: top;\n",
       "    }\n",
       "\n",
       "    .dataframe thead th {\n",
       "        text-align: right;\n",
       "    }\n",
       "</style>\n",
       "<table border=\"1\" class=\"dataframe\">\n",
       "  <thead>\n",
       "    <tr style=\"text-align: right;\">\n",
       "      <th></th>\n",
       "      <th>age</th>\n",
       "      <th>job</th>\n",
       "      <th>marital</th>\n",
       "      <th>education</th>\n",
       "      <th>default</th>\n",
       "      <th>balance</th>\n",
       "      <th>housing</th>\n",
       "      <th>loan</th>\n",
       "      <th>contact</th>\n",
       "      <th>day</th>\n",
       "      <th>month</th>\n",
       "      <th>duration</th>\n",
       "      <th>campaign</th>\n",
       "      <th>pdays</th>\n",
       "      <th>previous</th>\n",
       "      <th>poutcome</th>\n",
       "      <th>deposit</th>\n",
       "    </tr>\n",
       "  </thead>\n",
       "  <tbody>\n",
       "    <tr>\n",
       "      <th>0</th>\n",
       "      <td>59</td>\n",
       "      <td>admin.</td>\n",
       "      <td>married</td>\n",
       "      <td>secondary</td>\n",
       "      <td>no</td>\n",
       "      <td>2343</td>\n",
       "      <td>yes</td>\n",
       "      <td>no</td>\n",
       "      <td>unknown</td>\n",
       "      <td>5</td>\n",
       "      <td>may</td>\n",
       "      <td>1042</td>\n",
       "      <td>1</td>\n",
       "      <td>-1</td>\n",
       "      <td>0</td>\n",
       "      <td>unknown</td>\n",
       "      <td>yes</td>\n",
       "    </tr>\n",
       "    <tr>\n",
       "      <th>1</th>\n",
       "      <td>56</td>\n",
       "      <td>admin.</td>\n",
       "      <td>married</td>\n",
       "      <td>secondary</td>\n",
       "      <td>no</td>\n",
       "      <td>45</td>\n",
       "      <td>no</td>\n",
       "      <td>no</td>\n",
       "      <td>unknown</td>\n",
       "      <td>5</td>\n",
       "      <td>may</td>\n",
       "      <td>1467</td>\n",
       "      <td>1</td>\n",
       "      <td>-1</td>\n",
       "      <td>0</td>\n",
       "      <td>unknown</td>\n",
       "      <td>yes</td>\n",
       "    </tr>\n",
       "    <tr>\n",
       "      <th>2</th>\n",
       "      <td>41</td>\n",
       "      <td>technician</td>\n",
       "      <td>married</td>\n",
       "      <td>secondary</td>\n",
       "      <td>no</td>\n",
       "      <td>1270</td>\n",
       "      <td>yes</td>\n",
       "      <td>no</td>\n",
       "      <td>unknown</td>\n",
       "      <td>5</td>\n",
       "      <td>may</td>\n",
       "      <td>1389</td>\n",
       "      <td>1</td>\n",
       "      <td>-1</td>\n",
       "      <td>0</td>\n",
       "      <td>unknown</td>\n",
       "      <td>yes</td>\n",
       "    </tr>\n",
       "    <tr>\n",
       "      <th>3</th>\n",
       "      <td>55</td>\n",
       "      <td>services</td>\n",
       "      <td>married</td>\n",
       "      <td>secondary</td>\n",
       "      <td>no</td>\n",
       "      <td>2476</td>\n",
       "      <td>yes</td>\n",
       "      <td>no</td>\n",
       "      <td>unknown</td>\n",
       "      <td>5</td>\n",
       "      <td>may</td>\n",
       "      <td>579</td>\n",
       "      <td>1</td>\n",
       "      <td>-1</td>\n",
       "      <td>0</td>\n",
       "      <td>unknown</td>\n",
       "      <td>yes</td>\n",
       "    </tr>\n",
       "    <tr>\n",
       "      <th>4</th>\n",
       "      <td>54</td>\n",
       "      <td>admin.</td>\n",
       "      <td>married</td>\n",
       "      <td>tertiary</td>\n",
       "      <td>no</td>\n",
       "      <td>184</td>\n",
       "      <td>no</td>\n",
       "      <td>no</td>\n",
       "      <td>unknown</td>\n",
       "      <td>5</td>\n",
       "      <td>may</td>\n",
       "      <td>673</td>\n",
       "      <td>2</td>\n",
       "      <td>-1</td>\n",
       "      <td>0</td>\n",
       "      <td>unknown</td>\n",
       "      <td>yes</td>\n",
       "    </tr>\n",
       "  </tbody>\n",
       "</table>\n",
       "</div>"
      ],
      "text/plain": [
       "   age         job  marital  education default  balance housing loan  contact  \\\n",
       "0   59      admin.  married  secondary      no     2343     yes   no  unknown   \n",
       "1   56      admin.  married  secondary      no       45      no   no  unknown   \n",
       "2   41  technician  married  secondary      no     1270     yes   no  unknown   \n",
       "3   55    services  married  secondary      no     2476     yes   no  unknown   \n",
       "4   54      admin.  married   tertiary      no      184      no   no  unknown   \n",
       "\n",
       "   day month  duration  campaign  pdays  previous poutcome deposit  \n",
       "0    5   may      1042         1     -1         0  unknown     yes  \n",
       "1    5   may      1467         1     -1         0  unknown     yes  \n",
       "2    5   may      1389         1     -1         0  unknown     yes  \n",
       "3    5   may       579         1     -1         0  unknown     yes  \n",
       "4    5   may       673         2     -1         0  unknown     yes  "
      ]
     },
     "execution_count": 6,
     "metadata": {},
     "output_type": "execute_result"
    }
   ],
   "source": [
    "df.head()"
   ]
  },
  {
   "cell_type": "markdown",
   "metadata": {},
   "source": [
    "## Slicing the dataset instances to 1500"
   ]
  },
  {
   "cell_type": "code",
   "execution_count": 7,
   "metadata": {},
   "outputs": [],
   "source": [
    "df1=df.sample(n=1500)"
   ]
  },
  {
   "cell_type": "code",
   "execution_count": 8,
   "metadata": {},
   "outputs": [],
   "source": [
    "df1=df1.sort_index()"
   ]
  },
  {
   "cell_type": "markdown",
   "metadata": {},
   "source": [
    "# Inserting missing values"
   ]
  },
  {
   "cell_type": "markdown",
   "metadata": {},
   "source": [
    "* Have inserted 10% missing values into the dataset as the dataset is clean"
   ]
  },
  {
   "cell_type": "code",
   "execution_count": 10,
   "metadata": {},
   "outputs": [],
   "source": [
    "df2 = df1.mask(np.random.random(df1.shape) < .10)"
   ]
  },
  {
   "cell_type": "code",
   "execution_count": 11,
   "metadata": {},
   "outputs": [
    {
     "data": {
      "text/html": [
       "<div>\n",
       "<style scoped>\n",
       "    .dataframe tbody tr th:only-of-type {\n",
       "        vertical-align: middle;\n",
       "    }\n",
       "\n",
       "    .dataframe tbody tr th {\n",
       "        vertical-align: top;\n",
       "    }\n",
       "\n",
       "    .dataframe thead th {\n",
       "        text-align: right;\n",
       "    }\n",
       "</style>\n",
       "<table border=\"1\" class=\"dataframe\">\n",
       "  <thead>\n",
       "    <tr style=\"text-align: right;\">\n",
       "      <th></th>\n",
       "      <th>age</th>\n",
       "      <th>job</th>\n",
       "      <th>marital</th>\n",
       "      <th>education</th>\n",
       "      <th>default</th>\n",
       "      <th>balance</th>\n",
       "      <th>housing</th>\n",
       "      <th>loan</th>\n",
       "      <th>contact</th>\n",
       "      <th>day</th>\n",
       "      <th>month</th>\n",
       "      <th>duration</th>\n",
       "      <th>campaign</th>\n",
       "      <th>pdays</th>\n",
       "      <th>previous</th>\n",
       "      <th>poutcome</th>\n",
       "      <th>deposit</th>\n",
       "    </tr>\n",
       "  </thead>\n",
       "  <tbody>\n",
       "    <tr>\n",
       "      <th>11</th>\n",
       "      <td>30.0</td>\n",
       "      <td>blue-collar</td>\n",
       "      <td>NaN</td>\n",
       "      <td>NaN</td>\n",
       "      <td>no</td>\n",
       "      <td>309.0</td>\n",
       "      <td>yes</td>\n",
       "      <td>NaN</td>\n",
       "      <td>unknown</td>\n",
       "      <td>7.0</td>\n",
       "      <td>may</td>\n",
       "      <td>1574.0</td>\n",
       "      <td>2.0</td>\n",
       "      <td>NaN</td>\n",
       "      <td>0.0</td>\n",
       "      <td>unknown</td>\n",
       "      <td>yes</td>\n",
       "    </tr>\n",
       "    <tr>\n",
       "      <th>18</th>\n",
       "      <td>41.0</td>\n",
       "      <td>admin.</td>\n",
       "      <td>married</td>\n",
       "      <td>secondary</td>\n",
       "      <td>no</td>\n",
       "      <td>55.0</td>\n",
       "      <td>yes</td>\n",
       "      <td>NaN</td>\n",
       "      <td>unknown</td>\n",
       "      <td>8.0</td>\n",
       "      <td>may</td>\n",
       "      <td>1120.0</td>\n",
       "      <td>2.0</td>\n",
       "      <td>-1.0</td>\n",
       "      <td>0.0</td>\n",
       "      <td>NaN</td>\n",
       "      <td>yes</td>\n",
       "    </tr>\n",
       "    <tr>\n",
       "      <th>20</th>\n",
       "      <td>28.0</td>\n",
       "      <td>admin.</td>\n",
       "      <td>divorced</td>\n",
       "      <td>secondary</td>\n",
       "      <td>no</td>\n",
       "      <td>785.0</td>\n",
       "      <td>yes</td>\n",
       "      <td>no</td>\n",
       "      <td>unknown</td>\n",
       "      <td>8.0</td>\n",
       "      <td>may</td>\n",
       "      <td>442.0</td>\n",
       "      <td>2.0</td>\n",
       "      <td>-1.0</td>\n",
       "      <td>0.0</td>\n",
       "      <td>unknown</td>\n",
       "      <td>yes</td>\n",
       "    </tr>\n",
       "    <tr>\n",
       "      <th>24</th>\n",
       "      <td>37.0</td>\n",
       "      <td>unemployed</td>\n",
       "      <td>single</td>\n",
       "      <td>secondary</td>\n",
       "      <td>no</td>\n",
       "      <td>381.0</td>\n",
       "      <td>yes</td>\n",
       "      <td>no</td>\n",
       "      <td>unknown</td>\n",
       "      <td>NaN</td>\n",
       "      <td>NaN</td>\n",
       "      <td>985.0</td>\n",
       "      <td>2.0</td>\n",
       "      <td>-1.0</td>\n",
       "      <td>0.0</td>\n",
       "      <td>unknown</td>\n",
       "      <td>yes</td>\n",
       "    </tr>\n",
       "    <tr>\n",
       "      <th>26</th>\n",
       "      <td>NaN</td>\n",
       "      <td>technician</td>\n",
       "      <td>single</td>\n",
       "      <td>tertiary</td>\n",
       "      <td>no</td>\n",
       "      <td>22.0</td>\n",
       "      <td>yes</td>\n",
       "      <td>no</td>\n",
       "      <td>unknown</td>\n",
       "      <td>9.0</td>\n",
       "      <td>may</td>\n",
       "      <td>483.0</td>\n",
       "      <td>3.0</td>\n",
       "      <td>-1.0</td>\n",
       "      <td>0.0</td>\n",
       "      <td>NaN</td>\n",
       "      <td>yes</td>\n",
       "    </tr>\n",
       "  </tbody>\n",
       "</table>\n",
       "</div>"
      ],
      "text/plain": [
       "     age          job   marital  education default  balance housing loan  \\\n",
       "11  30.0  blue-collar       NaN        NaN      no    309.0     yes  NaN   \n",
       "18  41.0       admin.   married  secondary      no     55.0     yes  NaN   \n",
       "20  28.0       admin.  divorced  secondary      no    785.0     yes   no   \n",
       "24  37.0   unemployed    single  secondary      no    381.0     yes   no   \n",
       "26   NaN   technician    single   tertiary      no     22.0     yes   no   \n",
       "\n",
       "    contact  day month  duration  campaign  pdays  previous poutcome deposit  \n",
       "11  unknown  7.0   may    1574.0       2.0    NaN       0.0  unknown     yes  \n",
       "18  unknown  8.0   may    1120.0       2.0   -1.0       0.0      NaN     yes  \n",
       "20  unknown  8.0   may     442.0       2.0   -1.0       0.0  unknown     yes  \n",
       "24  unknown  NaN   NaN     985.0       2.0   -1.0       0.0  unknown     yes  \n",
       "26  unknown  9.0   may     483.0       3.0   -1.0       0.0      NaN     yes  "
      ]
     },
     "execution_count": 11,
     "metadata": {},
     "output_type": "execute_result"
    }
   ],
   "source": [
    "df2.head()"
   ]
  },
  {
   "cell_type": "code",
   "execution_count": 12,
   "metadata": {},
   "outputs": [
    {
     "data": {
      "text/plain": [
       "1.62"
      ]
     },
     "execution_count": 12,
     "metadata": {},
     "output_type": "execute_result"
    }
   ],
   "source": [
    "missing_values= df2.isna().mean().round(2)\n",
    "missing_values.sum()"
   ]
  },
  {
   "cell_type": "markdown",
   "metadata": {},
   "source": [
    "* we can see that there is nearly 10% of missing values in the data, hence lets explore data by categorical and numerical column wise."
   ]
  },
  {
   "cell_type": "markdown",
   "metadata": {},
   "source": [
    "## Check for missing values in outcome variable-deposit\n",
    "* If the deposit variable has missing values, then it is better to do row deletion."
   ]
  },
  {
   "cell_type": "code",
   "execution_count": 13,
   "metadata": {},
   "outputs": [],
   "source": [
    "df3 = df2.dropna(how='all', subset=['deposit'])"
   ]
  },
  {
   "cell_type": "markdown",
   "metadata": {},
   "source": [
    "### Fill missing values \n",
    "* with most frequent values in categorical columns\n",
    "* with mean in numerical columns(as we have only less than 10% of the data is missing, filling with average should not decrease the variance much to deviate our predictions.)"
   ]
  },
  {
   "cell_type": "code",
   "execution_count": 14,
   "metadata": {},
   "outputs": [
    {
     "data": {
      "text/html": [
       "<div>\n",
       "<style scoped>\n",
       "    .dataframe tbody tr th:only-of-type {\n",
       "        vertical-align: middle;\n",
       "    }\n",
       "\n",
       "    .dataframe tbody tr th {\n",
       "        vertical-align: top;\n",
       "    }\n",
       "\n",
       "    .dataframe thead th {\n",
       "        text-align: right;\n",
       "    }\n",
       "</style>\n",
       "<table border=\"1\" class=\"dataframe\">\n",
       "  <thead>\n",
       "    <tr style=\"text-align: right;\">\n",
       "      <th></th>\n",
       "      <th>job</th>\n",
       "      <th>marital</th>\n",
       "      <th>education</th>\n",
       "      <th>default</th>\n",
       "      <th>housing</th>\n",
       "      <th>loan</th>\n",
       "      <th>contact</th>\n",
       "      <th>month</th>\n",
       "      <th>poutcome</th>\n",
       "      <th>deposit</th>\n",
       "    </tr>\n",
       "  </thead>\n",
       "  <tbody>\n",
       "    <tr>\n",
       "      <th>11</th>\n",
       "      <td>blue-collar</td>\n",
       "      <td>married</td>\n",
       "      <td>secondary</td>\n",
       "      <td>no</td>\n",
       "      <td>yes</td>\n",
       "      <td>no</td>\n",
       "      <td>unknown</td>\n",
       "      <td>may</td>\n",
       "      <td>unknown</td>\n",
       "      <td>yes</td>\n",
       "    </tr>\n",
       "    <tr>\n",
       "      <th>18</th>\n",
       "      <td>admin.</td>\n",
       "      <td>married</td>\n",
       "      <td>secondary</td>\n",
       "      <td>no</td>\n",
       "      <td>yes</td>\n",
       "      <td>no</td>\n",
       "      <td>unknown</td>\n",
       "      <td>may</td>\n",
       "      <td>unknown</td>\n",
       "      <td>yes</td>\n",
       "    </tr>\n",
       "    <tr>\n",
       "      <th>20</th>\n",
       "      <td>admin.</td>\n",
       "      <td>divorced</td>\n",
       "      <td>secondary</td>\n",
       "      <td>no</td>\n",
       "      <td>yes</td>\n",
       "      <td>no</td>\n",
       "      <td>unknown</td>\n",
       "      <td>may</td>\n",
       "      <td>unknown</td>\n",
       "      <td>yes</td>\n",
       "    </tr>\n",
       "    <tr>\n",
       "      <th>24</th>\n",
       "      <td>unemployed</td>\n",
       "      <td>single</td>\n",
       "      <td>secondary</td>\n",
       "      <td>no</td>\n",
       "      <td>yes</td>\n",
       "      <td>no</td>\n",
       "      <td>unknown</td>\n",
       "      <td>may</td>\n",
       "      <td>unknown</td>\n",
       "      <td>yes</td>\n",
       "    </tr>\n",
       "    <tr>\n",
       "      <th>26</th>\n",
       "      <td>technician</td>\n",
       "      <td>single</td>\n",
       "      <td>tertiary</td>\n",
       "      <td>no</td>\n",
       "      <td>yes</td>\n",
       "      <td>no</td>\n",
       "      <td>unknown</td>\n",
       "      <td>may</td>\n",
       "      <td>unknown</td>\n",
       "      <td>yes</td>\n",
       "    </tr>\n",
       "  </tbody>\n",
       "</table>\n",
       "</div>"
      ],
      "text/plain": [
       "            job   marital  education default housing loan  contact month  \\\n",
       "11  blue-collar   married  secondary      no     yes   no  unknown   may   \n",
       "18       admin.   married  secondary      no     yes   no  unknown   may   \n",
       "20       admin.  divorced  secondary      no     yes   no  unknown   may   \n",
       "24   unemployed    single  secondary      no     yes   no  unknown   may   \n",
       "26   technician    single   tertiary      no     yes   no  unknown   may   \n",
       "\n",
       "   poutcome deposit  \n",
       "11  unknown     yes  \n",
       "18  unknown     yes  \n",
       "20  unknown     yes  \n",
       "24  unknown     yes  \n",
       "26  unknown     yes  "
      ]
     },
     "execution_count": 14,
     "metadata": {},
     "output_type": "execute_result"
    }
   ],
   "source": [
    "df_cat_imputed=df3.select_dtypes(include='object').fillna(df3.select_dtypes(include='object').mode().iloc[0])\n",
    "df_cat_imputed.head()"
   ]
  },
  {
   "cell_type": "code",
   "execution_count": 15,
   "metadata": {},
   "outputs": [],
   "source": [
    "df_num_imputed=df3.select_dtypes(exclude ='object').fillna(df3.select_dtypes(exclude='object').mean().iloc[0])"
   ]
  },
  {
   "cell_type": "code",
   "execution_count": 16,
   "metadata": {},
   "outputs": [
    {
     "data": {
      "text/html": [
       "<div>\n",
       "<style scoped>\n",
       "    .dataframe tbody tr th:only-of-type {\n",
       "        vertical-align: middle;\n",
       "    }\n",
       "\n",
       "    .dataframe tbody tr th {\n",
       "        vertical-align: top;\n",
       "    }\n",
       "\n",
       "    .dataframe thead th {\n",
       "        text-align: right;\n",
       "    }\n",
       "</style>\n",
       "<table border=\"1\" class=\"dataframe\">\n",
       "  <thead>\n",
       "    <tr style=\"text-align: right;\">\n",
       "      <th></th>\n",
       "      <th>job</th>\n",
       "      <th>marital</th>\n",
       "      <th>education</th>\n",
       "      <th>default</th>\n",
       "      <th>housing</th>\n",
       "      <th>loan</th>\n",
       "      <th>contact</th>\n",
       "      <th>month</th>\n",
       "      <th>poutcome</th>\n",
       "      <th>deposit</th>\n",
       "      <th>age</th>\n",
       "      <th>balance</th>\n",
       "      <th>day</th>\n",
       "      <th>duration</th>\n",
       "      <th>campaign</th>\n",
       "      <th>pdays</th>\n",
       "      <th>previous</th>\n",
       "    </tr>\n",
       "  </thead>\n",
       "  <tbody>\n",
       "    <tr>\n",
       "      <th>11</th>\n",
       "      <td>blue-collar</td>\n",
       "      <td>married</td>\n",
       "      <td>secondary</td>\n",
       "      <td>no</td>\n",
       "      <td>yes</td>\n",
       "      <td>no</td>\n",
       "      <td>unknown</td>\n",
       "      <td>may</td>\n",
       "      <td>unknown</td>\n",
       "      <td>yes</td>\n",
       "      <td>30.000000</td>\n",
       "      <td>309.0</td>\n",
       "      <td>7.000000</td>\n",
       "      <td>1574.0</td>\n",
       "      <td>2.0</td>\n",
       "      <td>41.181014</td>\n",
       "      <td>0.0</td>\n",
       "    </tr>\n",
       "    <tr>\n",
       "      <th>18</th>\n",
       "      <td>admin.</td>\n",
       "      <td>married</td>\n",
       "      <td>secondary</td>\n",
       "      <td>no</td>\n",
       "      <td>yes</td>\n",
       "      <td>no</td>\n",
       "      <td>unknown</td>\n",
       "      <td>may</td>\n",
       "      <td>unknown</td>\n",
       "      <td>yes</td>\n",
       "      <td>41.000000</td>\n",
       "      <td>55.0</td>\n",
       "      <td>8.000000</td>\n",
       "      <td>1120.0</td>\n",
       "      <td>2.0</td>\n",
       "      <td>-1.000000</td>\n",
       "      <td>0.0</td>\n",
       "    </tr>\n",
       "    <tr>\n",
       "      <th>20</th>\n",
       "      <td>admin.</td>\n",
       "      <td>divorced</td>\n",
       "      <td>secondary</td>\n",
       "      <td>no</td>\n",
       "      <td>yes</td>\n",
       "      <td>no</td>\n",
       "      <td>unknown</td>\n",
       "      <td>may</td>\n",
       "      <td>unknown</td>\n",
       "      <td>yes</td>\n",
       "      <td>28.000000</td>\n",
       "      <td>785.0</td>\n",
       "      <td>8.000000</td>\n",
       "      <td>442.0</td>\n",
       "      <td>2.0</td>\n",
       "      <td>-1.000000</td>\n",
       "      <td>0.0</td>\n",
       "    </tr>\n",
       "    <tr>\n",
       "      <th>24</th>\n",
       "      <td>unemployed</td>\n",
       "      <td>single</td>\n",
       "      <td>secondary</td>\n",
       "      <td>no</td>\n",
       "      <td>yes</td>\n",
       "      <td>no</td>\n",
       "      <td>unknown</td>\n",
       "      <td>may</td>\n",
       "      <td>unknown</td>\n",
       "      <td>yes</td>\n",
       "      <td>37.000000</td>\n",
       "      <td>381.0</td>\n",
       "      <td>41.181014</td>\n",
       "      <td>985.0</td>\n",
       "      <td>2.0</td>\n",
       "      <td>-1.000000</td>\n",
       "      <td>0.0</td>\n",
       "    </tr>\n",
       "    <tr>\n",
       "      <th>26</th>\n",
       "      <td>technician</td>\n",
       "      <td>single</td>\n",
       "      <td>tertiary</td>\n",
       "      <td>no</td>\n",
       "      <td>yes</td>\n",
       "      <td>no</td>\n",
       "      <td>unknown</td>\n",
       "      <td>may</td>\n",
       "      <td>unknown</td>\n",
       "      <td>yes</td>\n",
       "      <td>41.181014</td>\n",
       "      <td>22.0</td>\n",
       "      <td>9.000000</td>\n",
       "      <td>483.0</td>\n",
       "      <td>3.0</td>\n",
       "      <td>-1.000000</td>\n",
       "      <td>0.0</td>\n",
       "    </tr>\n",
       "  </tbody>\n",
       "</table>\n",
       "</div>"
      ],
      "text/plain": [
       "            job   marital  education default housing loan  contact month  \\\n",
       "11  blue-collar   married  secondary      no     yes   no  unknown   may   \n",
       "18       admin.   married  secondary      no     yes   no  unknown   may   \n",
       "20       admin.  divorced  secondary      no     yes   no  unknown   may   \n",
       "24   unemployed    single  secondary      no     yes   no  unknown   may   \n",
       "26   technician    single   tertiary      no     yes   no  unknown   may   \n",
       "\n",
       "   poutcome deposit        age  balance        day  duration  campaign  \\\n",
       "11  unknown     yes  30.000000    309.0   7.000000    1574.0       2.0   \n",
       "18  unknown     yes  41.000000     55.0   8.000000    1120.0       2.0   \n",
       "20  unknown     yes  28.000000    785.0   8.000000     442.0       2.0   \n",
       "24  unknown     yes  37.000000    381.0  41.181014     985.0       2.0   \n",
       "26  unknown     yes  41.181014     22.0   9.000000     483.0       3.0   \n",
       "\n",
       "        pdays  previous  \n",
       "11  41.181014       0.0  \n",
       "18  -1.000000       0.0  \n",
       "20  -1.000000       0.0  \n",
       "24  -1.000000       0.0  \n",
       "26  -1.000000       0.0  "
      ]
     },
     "execution_count": 16,
     "metadata": {},
     "output_type": "execute_result"
    }
   ],
   "source": [
    "df_imputed = pd.concat([df_cat_imputed, df_num_imputed], axis=1)\n",
    "df_imputed.head()"
   ]
  },
  {
   "cell_type": "code",
   "execution_count": 15,
   "metadata": {},
   "outputs": [
    {
     "data": {
      "text/plain": [
       "job          0\n",
       "marital      0\n",
       "education    0\n",
       "default      0\n",
       "housing      0\n",
       "loan         0\n",
       "contact      0\n",
       "month        0\n",
       "poutcome     0\n",
       "deposit      0\n",
       "age          0\n",
       "balance      0\n",
       "day          0\n",
       "duration     0\n",
       "campaign     0\n",
       "pdays        0\n",
       "previous     0\n",
       "dtype: int64"
      ]
     },
     "execution_count": 15,
     "metadata": {},
     "output_type": "execute_result"
    }
   ],
   "source": [
    "df_imputed.isna().sum()"
   ]
  },
  {
   "cell_type": "markdown",
   "metadata": {},
   "source": [
    "* We will check how the categorical columns are distributed"
   ]
  },
  {
   "cell_type": "code",
   "execution_count": 16,
   "metadata": {},
   "outputs": [
    {
     "data": {
      "image/png": "[encoded data removed]",
      "text/plain": [
       "<Figure size 1440x1080 with 9 Axes>"
      ]
     },
     "metadata": {
      "needs_background": "light"
     },
     "output_type": "display_data"
    }
   ],
   "source": [
    "cat_columns = ['job', 'marital', 'education', 'default', 'housing', 'loan', 'contact', 'month','poutcome']\n",
    "fig, axs = plt.subplots(3, 3, sharex=False, sharey=False, figsize=(20, 15))\n",
    "counter = 0\n",
    "for cat_column in cat_columns:\n",
    "    value_counts = df_imputed[cat_column].value_counts()\n",
    "    trace_x = counter // 3\n",
    "    trace_y = counter % 3\n",
    "    x_pos = np.arange(0, len(value_counts))\n",
    "    \n",
    "    axs[trace_x, trace_y].bar(x_pos, value_counts.values, tick_label = value_counts.index)\n",
    "    \n",
    "    axs[trace_x, trace_y].set_title(cat_column)\n",
    "    \n",
    "    for tick in axs[trace_x, trace_y].get_xticklabels():\n",
    "        tick.set_rotation(90)\n",
    "    counter += 1\n",
    "\n",
    "plt.show()"
   ]
  },
  {
   "cell_type": "markdown",
   "metadata": {},
   "source": [
    "* We will look at the numerical columns"
   ]
  },
  {
   "cell_type": "code",
   "execution_count": 17,
   "metadata": {},
   "outputs": [
    {
     "data": {
      "text/html": [
       "<div>\n",
       "<style scoped>\n",
       "    .dataframe tbody tr th:only-of-type {\n",
       "        vertical-align: middle;\n",
       "    }\n",
       "\n",
       "    .dataframe tbody tr th {\n",
       "        vertical-align: top;\n",
       "    }\n",
       "\n",
       "    .dataframe thead th {\n",
       "        text-align: right;\n",
       "    }\n",
       "</style>\n",
       "<table border=\"1\" class=\"dataframe\">\n",
       "  <thead>\n",
       "    <tr style=\"text-align: right;\">\n",
       "      <th></th>\n",
       "      <th>age</th>\n",
       "      <th>balance</th>\n",
       "      <th>day</th>\n",
       "      <th>duration</th>\n",
       "      <th>campaign</th>\n",
       "      <th>pdays</th>\n",
       "      <th>previous</th>\n",
       "    </tr>\n",
       "  </thead>\n",
       "  <tbody>\n",
       "    <tr>\n",
       "      <th>11</th>\n",
       "      <td>30.000000</td>\n",
       "      <td>309.0</td>\n",
       "      <td>7.000000</td>\n",
       "      <td>1574.0</td>\n",
       "      <td>2.0</td>\n",
       "      <td>41.181014</td>\n",
       "      <td>0.0</td>\n",
       "    </tr>\n",
       "    <tr>\n",
       "      <th>18</th>\n",
       "      <td>41.000000</td>\n",
       "      <td>55.0</td>\n",
       "      <td>8.000000</td>\n",
       "      <td>1120.0</td>\n",
       "      <td>2.0</td>\n",
       "      <td>-1.000000</td>\n",
       "      <td>0.0</td>\n",
       "    </tr>\n",
       "    <tr>\n",
       "      <th>20</th>\n",
       "      <td>28.000000</td>\n",
       "      <td>785.0</td>\n",
       "      <td>8.000000</td>\n",
       "      <td>442.0</td>\n",
       "      <td>2.0</td>\n",
       "      <td>-1.000000</td>\n",
       "      <td>0.0</td>\n",
       "    </tr>\n",
       "    <tr>\n",
       "      <th>24</th>\n",
       "      <td>37.000000</td>\n",
       "      <td>381.0</td>\n",
       "      <td>41.181014</td>\n",
       "      <td>985.0</td>\n",
       "      <td>2.0</td>\n",
       "      <td>-1.000000</td>\n",
       "      <td>0.0</td>\n",
       "    </tr>\n",
       "    <tr>\n",
       "      <th>26</th>\n",
       "      <td>41.181014</td>\n",
       "      <td>22.0</td>\n",
       "      <td>9.000000</td>\n",
       "      <td>483.0</td>\n",
       "      <td>3.0</td>\n",
       "      <td>-1.000000</td>\n",
       "      <td>0.0</td>\n",
       "    </tr>\n",
       "  </tbody>\n",
       "</table>\n",
       "</div>"
      ],
      "text/plain": [
       "          age  balance        day  duration  campaign      pdays  previous\n",
       "11  30.000000    309.0   7.000000    1574.0       2.0  41.181014       0.0\n",
       "18  41.000000     55.0   8.000000    1120.0       2.0  -1.000000       0.0\n",
       "20  28.000000    785.0   8.000000     442.0       2.0  -1.000000       0.0\n",
       "24  37.000000    381.0  41.181014     985.0       2.0  -1.000000       0.0\n",
       "26  41.181014     22.0   9.000000     483.0       3.0  -1.000000       0.0"
      ]
     },
     "execution_count": 17,
     "metadata": {},
     "output_type": "execute_result"
    }
   ],
   "source": [
    "num_columns = ['age','balance', 'day','duration', 'campaign', 'pdays', 'previous']\n",
    "df3_num=df_imputed[num_columns]\n",
    "df3_num.head()"
   ]
  },
  {
   "cell_type": "code",
   "execution_count": 18,
   "metadata": {},
   "outputs": [
    {
     "name": "stderr",
     "output_type": "stream",
     "text": [
      "C:\\Users\\kdpat\\AppData\\Local\\Continuum\\anaconda3\\lib\\site-packages\\IPython\\core\\interactiveshell.py:3325: UserWarning: To output multiple subplots, the figure containing the passed axes is being cleared\n",
      "  exec(code_obj, self.user_global_ns, self.user_ns)\n"
     ]
    },
    {
     "data": {
      "image/png": "[encoded data removed]",
      "text/plain": [
       "<Figure size 576x576 with 9 Axes>"
      ]
     },
     "metadata": {
      "needs_background": "light"
     },
     "output_type": "display_data"
    }
   ],
   "source": [
    "fig = plt.figure(figsize = (8,8))\n",
    "ax = fig.gca()\n",
    "df3_num.hist(ax=ax)\n",
    "plt.show()"
   ]
  },
  {
   "cell_type": "markdown",
   "metadata": {},
   "source": [
    "* We can see from the above graphs, that balance,campaign, duration, pdays and previous variables have some outliers. lets look at those columns"
   ]
  },
  {
   "cell_type": "code",
   "execution_count": 19,
   "metadata": {},
   "outputs": [
    {
     "data": {
      "text/html": [
       "<div>\n",
       "<style scoped>\n",
       "    .dataframe tbody tr th:only-of-type {\n",
       "        vertical-align: middle;\n",
       "    }\n",
       "\n",
       "    .dataframe tbody tr th {\n",
       "        vertical-align: top;\n",
       "    }\n",
       "\n",
       "    .dataframe thead th {\n",
       "        text-align: right;\n",
       "    }\n",
       "</style>\n",
       "<table border=\"1\" class=\"dataframe\">\n",
       "  <thead>\n",
       "    <tr style=\"text-align: right;\">\n",
       "      <th></th>\n",
       "      <th>age</th>\n",
       "      <th>balance</th>\n",
       "      <th>day</th>\n",
       "      <th>duration</th>\n",
       "      <th>campaign</th>\n",
       "      <th>pdays</th>\n",
       "      <th>previous</th>\n",
       "    </tr>\n",
       "  </thead>\n",
       "  <tbody>\n",
       "    <tr>\n",
       "      <th>count</th>\n",
       "      <td>1336.000000</td>\n",
       "      <td>1336.000000</td>\n",
       "      <td>1336.000000</td>\n",
       "      <td>1336.000000</td>\n",
       "      <td>1336.000000</td>\n",
       "      <td>1336.000000</td>\n",
       "      <td>1336.000000</td>\n",
       "    </tr>\n",
       "    <tr>\n",
       "      <th>mean</th>\n",
       "      <td>41.358382</td>\n",
       "      <td>1303.667414</td>\n",
       "      <td>18.566535</td>\n",
       "      <td>342.884635</td>\n",
       "      <td>6.076464</td>\n",
       "      <td>50.157471</td>\n",
       "      <td>5.382572</td>\n",
       "    </tr>\n",
       "    <tr>\n",
       "      <th>std</th>\n",
       "      <td>11.563356</td>\n",
       "      <td>2916.566763</td>\n",
       "      <td>11.185343</td>\n",
       "      <td>333.136887</td>\n",
       "      <td>11.635806</td>\n",
       "      <td>102.110740</td>\n",
       "      <td>12.981265</td>\n",
       "    </tr>\n",
       "    <tr>\n",
       "      <th>min</th>\n",
       "      <td>19.000000</td>\n",
       "      <td>-2049.000000</td>\n",
       "      <td>1.000000</td>\n",
       "      <td>6.000000</td>\n",
       "      <td>1.000000</td>\n",
       "      <td>-1.000000</td>\n",
       "      <td>0.000000</td>\n",
       "    </tr>\n",
       "    <tr>\n",
       "      <th>25%</th>\n",
       "      <td>32.000000</td>\n",
       "      <td>41.358382</td>\n",
       "      <td>10.000000</td>\n",
       "      <td>109.750000</td>\n",
       "      <td>1.000000</td>\n",
       "      <td>-1.000000</td>\n",
       "      <td>0.000000</td>\n",
       "    </tr>\n",
       "    <tr>\n",
       "      <th>50%</th>\n",
       "      <td>40.000000</td>\n",
       "      <td>379.500000</td>\n",
       "      <td>17.000000</td>\n",
       "      <td>235.500000</td>\n",
       "      <td>2.000000</td>\n",
       "      <td>-1.000000</td>\n",
       "      <td>0.000000</td>\n",
       "    </tr>\n",
       "    <tr>\n",
       "      <th>75%</th>\n",
       "      <td>48.000000</td>\n",
       "      <td>1349.750000</td>\n",
       "      <td>26.000000</td>\n",
       "      <td>460.250000</td>\n",
       "      <td>3.000000</td>\n",
       "      <td>41.358382</td>\n",
       "      <td>2.000000</td>\n",
       "    </tr>\n",
       "    <tr>\n",
       "      <th>max</th>\n",
       "      <td>88.000000</td>\n",
       "      <td>45248.000000</td>\n",
       "      <td>41.358382</td>\n",
       "      <td>3094.000000</td>\n",
       "      <td>41.358382</td>\n",
       "      <td>595.000000</td>\n",
       "      <td>41.358382</td>\n",
       "    </tr>\n",
       "  </tbody>\n",
       "</table>\n",
       "</div>"
      ],
      "text/plain": [
       "               age       balance          day     duration     campaign  \\\n",
       "count  1336.000000   1336.000000  1336.000000  1336.000000  1336.000000   \n",
       "mean     41.358382   1303.667414    18.566535   342.884635     6.076464   \n",
       "std      11.563356   2916.566763    11.185343   333.136887    11.635806   \n",
       "min      19.000000  -2049.000000     1.000000     6.000000     1.000000   \n",
       "25%      32.000000     41.358382    10.000000   109.750000     1.000000   \n",
       "50%      40.000000    379.500000    17.000000   235.500000     2.000000   \n",
       "75%      48.000000   1349.750000    26.000000   460.250000     3.000000   \n",
       "max      88.000000  45248.000000    41.358382  3094.000000    41.358382   \n",
       "\n",
       "             pdays     previous  \n",
       "count  1336.000000  1336.000000  \n",
       "mean     50.157471     5.382572  \n",
       "std     102.110740    12.981265  \n",
       "min      -1.000000     0.000000  \n",
       "25%      -1.000000     0.000000  \n",
       "50%      -1.000000     0.000000  \n",
       "75%      41.358382     2.000000  \n",
       "max     595.000000    41.358382  "
      ]
     },
     "execution_count": 19,
     "metadata": {},
     "output_type": "execute_result"
    }
   ],
   "source": [
    "df3_num.describe()"
   ]
  },
  {
   "cell_type": "markdown",
   "metadata": {},
   "source": [
    "## Handling Outliers\n",
    "We can see that duration, pdays have outliers"
   ]
  },
  {
   "cell_type": "code",
   "execution_count": 20,
   "metadata": {},
   "outputs": [
    {
     "data": {
      "text/html": [
       "<div>\n",
       "<style scoped>\n",
       "    .dataframe tbody tr th:only-of-type {\n",
       "        vertical-align: middle;\n",
       "    }\n",
       "\n",
       "    .dataframe tbody tr th {\n",
       "        vertical-align: top;\n",
       "    }\n",
       "\n",
       "    .dataframe thead th {\n",
       "        text-align: right;\n",
       "    }\n",
       "</style>\n",
       "<table border=\"1\" class=\"dataframe\">\n",
       "  <thead>\n",
       "    <tr style=\"text-align: right;\">\n",
       "      <th></th>\n",
       "      <th>age</th>\n",
       "      <th>balance</th>\n",
       "      <th>day</th>\n",
       "      <th>duration</th>\n",
       "      <th>campaign</th>\n",
       "      <th>pdays</th>\n",
       "      <th>previous</th>\n",
       "    </tr>\n",
       "    <tr>\n",
       "      <th>deposit</th>\n",
       "      <th></th>\n",
       "      <th></th>\n",
       "      <th></th>\n",
       "      <th></th>\n",
       "      <th></th>\n",
       "      <th></th>\n",
       "      <th></th>\n",
       "    </tr>\n",
       "  </thead>\n",
       "  <tbody>\n",
       "    <tr>\n",
       "      <th>no</th>\n",
       "      <td>40.965690</td>\n",
       "      <td>1092.915796</td>\n",
       "      <td>18.994333</td>\n",
       "      <td>211.798943</td>\n",
       "      <td>6.697309</td>\n",
       "      <td>31.969018</td>\n",
       "      <td>4.859377</td>\n",
       "    </tr>\n",
       "    <tr>\n",
       "      <th>yes</th>\n",
       "      <td>41.809156</td>\n",
       "      <td>1545.591296</td>\n",
       "      <td>18.075460</td>\n",
       "      <td>493.359209</td>\n",
       "      <td>5.363790</td>\n",
       "      <td>71.036178</td>\n",
       "      <td>5.983151</td>\n",
       "    </tr>\n",
       "  </tbody>\n",
       "</table>\n",
       "</div>"
      ],
      "text/plain": [
       "               age      balance        day    duration  campaign      pdays  \\\n",
       "deposit                                                                       \n",
       "no       40.965690  1092.915796  18.994333  211.798943  6.697309  31.969018   \n",
       "yes      41.809156  1545.591296  18.075460  493.359209  5.363790  71.036178   \n",
       "\n",
       "         previous  \n",
       "deposit            \n",
       "no       4.859377  \n",
       "yes      5.983151  "
      ]
     },
     "execution_count": 20,
     "metadata": {},
     "output_type": "execute_result"
    }
   ],
   "source": [
    "df_imputed.groupby('deposit').mean()"
   ]
  },
  {
   "cell_type": "code",
   "execution_count": 21,
   "metadata": {},
   "outputs": [
    {
     "data": {
      "text/plain": [
       "1.5718562874251496"
      ]
     },
     "execution_count": 21,
     "metadata": {},
     "output_type": "execute_result"
    }
   ],
   "source": [
    "len(df_imputed[df_imputed['pdays'] > 400] ) / len(df_imputed) * 100"
   ]
  },
  {
   "cell_type": "code",
   "execution_count": 22,
   "metadata": {},
   "outputs": [
    {
     "data": {
      "text/plain": [
       "66.99101796407186"
      ]
     },
     "execution_count": 22,
     "metadata": {},
     "output_type": "execute_result"
    }
   ],
   "source": [
    "len(df_imputed[df_imputed['pdays'] == -1.0])/len(df_imputed)*100"
   ]
  },
  {
   "cell_type": "markdown",
   "metadata": {},
   "source": [
    "Box plot to show outliers in pdays"
   ]
  },
  {
   "cell_type": "code",
   "execution_count": 23,
   "metadata": {},
   "outputs": [
    {
     "data": {
      "image/png": "[encoded data removed]",
      "text/plain": [
       "<Figure size 432x288 with 1 Axes>"
      ]
     },
     "metadata": {
      "needs_background": "light"
     },
     "output_type": "display_data"
    }
   ],
   "source": [
    "plt.boxplot(df_imputed['pdays'])\n",
    "plt.show()"
   ]
  },
  {
   "cell_type": "markdown",
   "metadata": {},
   "source": [
    "Removing Outliers from pdays column"
   ]
  },
  {
   "cell_type": "code",
   "execution_count": 24,
   "metadata": {},
   "outputs": [
    {
     "name": "stdout",
     "output_type": "stream",
     "text": [
      "-1.0\n",
      "186.0\n"
     ]
    }
   ],
   "source": [
    "print(df_imputed['pdays'].quantile(0.10))\n",
    "print(df_imputed['pdays'].quantile(0.90))"
   ]
  },
  {
   "cell_type": "code",
   "execution_count": 25,
   "metadata": {},
   "outputs": [],
   "source": [
    "df_imputed['pdays'] = np.where(df_imputed['pdays'] >185.0, 185.0,df_imputed['pdays'])"
   ]
  },
  {
   "cell_type": "markdown",
   "metadata": {},
   "source": [
    "Box plot to show outliers in duration"
   ]
  },
  {
   "cell_type": "code",
   "execution_count": 26,
   "metadata": {},
   "outputs": [
    {
     "data": {
      "text/plain": [
       "0.5239520958083832"
      ]
     },
     "execution_count": 26,
     "metadata": {},
     "output_type": "execute_result"
    }
   ],
   "source": [
    "len (df_imputed[df_imputed['duration'] > 1700] ) / len(df_imputed) * 100"
   ]
  },
  {
   "cell_type": "code",
   "execution_count": 27,
   "metadata": {},
   "outputs": [
    {
     "data": {
      "image/png": "[encoded data removed]",
      "text/plain": [
       "<Figure size 432x288 with 1 Axes>"
      ]
     },
     "metadata": {
      "needs_background": "light"
     },
     "output_type": "display_data"
    }
   ],
   "source": [
    "plt.boxplot(df_imputed['duration'])\n",
    "plt.show()"
   ]
  },
  {
   "cell_type": "markdown",
   "metadata": {},
   "source": [
    "Removing Outliers from duration column"
   ]
  },
  {
   "cell_type": "code",
   "execution_count": 28,
   "metadata": {},
   "outputs": [
    {
     "name": "stdout",
     "output_type": "stream",
     "text": [
      "41.358381502890175\n",
      "814.0\n"
     ]
    }
   ],
   "source": [
    "print(df_imputed['duration'].quantile(0.10))\n",
    "print(df_imputed['duration'].quantile(0.90))"
   ]
  },
  {
   "cell_type": "code",
   "execution_count": 29,
   "metadata": {},
   "outputs": [],
   "source": [
    "df_imputed['duration'] = np.where(df_imputed['duration'] >777.4, 777.4,df_imputed['duration'])"
   ]
  },
  {
   "cell_type": "markdown",
   "metadata": {},
   "source": [
    "## Response column(y)-Deposit\n",
    "On the diagram we see that counts for 'yes' and 'no' values for 'deposit' are close, so we can use accuracy as a metric for a model, which predicts the campaign outcome."
   ]
  },
  {
   "cell_type": "code",
   "execution_count": 30,
   "metadata": {},
   "outputs": [
    {
     "data": {
      "text/plain": [
       "<matplotlib.axes._subplots.AxesSubplot at 0x2cda07b2400>"
      ]
     },
     "execution_count": 30,
     "metadata": {},
     "output_type": "execute_result"
    },
    {
     "data": {
      "image/png": "[encoded data removed]",
      "text/plain": [
       "<Figure size 432x288 with 1 Axes>"
      ]
     },
     "metadata": {
      "needs_background": "light"
     },
     "output_type": "display_data"
    }
   ],
   "source": [
    "value_counts = df_imputed['deposit'].value_counts()\n",
    "\n",
    "value_counts.plot.bar(title = 'Deposit value counts')"
   ]
  },
  {
   "cell_type": "code",
   "execution_count": 487,
   "metadata": {},
   "outputs": [
    {
     "data": {
      "text/html": [
       "<div>\n",
       "<style scoped>\n",
       "    .dataframe tbody tr th:only-of-type {\n",
       "        vertical-align: middle;\n",
       "    }\n",
       "\n",
       "    .dataframe tbody tr th {\n",
       "        vertical-align: top;\n",
       "    }\n",
       "\n",
       "    .dataframe thead th {\n",
       "        text-align: right;\n",
       "    }\n",
       "</style>\n",
       "<table border=\"1\" class=\"dataframe\">\n",
       "  <thead>\n",
       "    <tr style=\"text-align: right;\">\n",
       "      <th></th>\n",
       "      <th>age</th>\n",
       "      <th>balance</th>\n",
       "      <th>day</th>\n",
       "      <th>duration</th>\n",
       "      <th>campaign</th>\n",
       "      <th>pdays</th>\n",
       "      <th>previous</th>\n",
       "    </tr>\n",
       "  </thead>\n",
       "  <tbody>\n",
       "    <tr>\n",
       "      <th>count</th>\n",
       "      <td>1373.000000</td>\n",
       "      <td>1373.000000</td>\n",
       "      <td>1373.000000</td>\n",
       "      <td>1373.000000</td>\n",
       "      <td>1373.000000</td>\n",
       "      <td>1373.000000</td>\n",
       "      <td>1373.000000</td>\n",
       "    </tr>\n",
       "    <tr>\n",
       "      <th>mean</th>\n",
       "      <td>40.631068</td>\n",
       "      <td>1225.075619</td>\n",
       "      <td>18.509055</td>\n",
       "      <td>294.188054</td>\n",
       "      <td>5.731854</td>\n",
       "      <td>34.250454</td>\n",
       "      <td>4.346601</td>\n",
       "    </tr>\n",
       "    <tr>\n",
       "      <th>std</th>\n",
       "      <td>11.269938</td>\n",
       "      <td>2295.270717</td>\n",
       "      <td>10.837361</td>\n",
       "      <td>244.454253</td>\n",
       "      <td>10.943955</td>\n",
       "      <td>64.040830</td>\n",
       "      <td>11.626960</td>\n",
       "    </tr>\n",
       "    <tr>\n",
       "      <th>min</th>\n",
       "      <td>18.000000</td>\n",
       "      <td>-978.000000</td>\n",
       "      <td>1.000000</td>\n",
       "      <td>6.000000</td>\n",
       "      <td>1.000000</td>\n",
       "      <td>-1.000000</td>\n",
       "      <td>0.000000</td>\n",
       "    </tr>\n",
       "    <tr>\n",
       "      <th>25%</th>\n",
       "      <td>32.000000</td>\n",
       "      <td>40.631068</td>\n",
       "      <td>9.000000</td>\n",
       "      <td>101.000000</td>\n",
       "      <td>1.000000</td>\n",
       "      <td>-1.000000</td>\n",
       "      <td>0.000000</td>\n",
       "    </tr>\n",
       "    <tr>\n",
       "      <th>50%</th>\n",
       "      <td>40.000000</td>\n",
       "      <td>390.000000</td>\n",
       "      <td>18.000000</td>\n",
       "      <td>216.000000</td>\n",
       "      <td>2.000000</td>\n",
       "      <td>-1.000000</td>\n",
       "      <td>0.000000</td>\n",
       "    </tr>\n",
       "    <tr>\n",
       "      <th>75%</th>\n",
       "      <td>46.000000</td>\n",
       "      <td>1341.000000</td>\n",
       "      <td>26.000000</td>\n",
       "      <td>425.000000</td>\n",
       "      <td>3.000000</td>\n",
       "      <td>40.631068</td>\n",
       "      <td>1.000000</td>\n",
       "    </tr>\n",
       "    <tr>\n",
       "      <th>max</th>\n",
       "      <td>86.000000</td>\n",
       "      <td>22867.000000</td>\n",
       "      <td>40.631068</td>\n",
       "      <td>777.400000</td>\n",
       "      <td>40.631068</td>\n",
       "      <td>185.000000</td>\n",
       "      <td>40.631068</td>\n",
       "    </tr>\n",
       "  </tbody>\n",
       "</table>\n",
       "</div>"
      ],
      "text/plain": [
       "               age       balance          day     duration     campaign  \\\n",
       "count  1373.000000   1373.000000  1373.000000  1373.000000  1373.000000   \n",
       "mean     40.631068   1225.075619    18.509055   294.188054     5.731854   \n",
       "std      11.269938   2295.270717    10.837361   244.454253    10.943955   \n",
       "min      18.000000   -978.000000     1.000000     6.000000     1.000000   \n",
       "25%      32.000000     40.631068     9.000000   101.000000     1.000000   \n",
       "50%      40.000000    390.000000    18.000000   216.000000     2.000000   \n",
       "75%      46.000000   1341.000000    26.000000   425.000000     3.000000   \n",
       "max      86.000000  22867.000000    40.631068   777.400000    40.631068   \n",
       "\n",
       "             pdays     previous  \n",
       "count  1373.000000  1373.000000  \n",
       "mean     34.250454     4.346601  \n",
       "std      64.040830    11.626960  \n",
       "min      -1.000000     0.000000  \n",
       "25%      -1.000000     0.000000  \n",
       "50%      -1.000000     0.000000  \n",
       "75%      40.631068     1.000000  \n",
       "max     185.000000    40.631068  "
      ]
     },
     "execution_count": 487,
     "metadata": {},
     "output_type": "execute_result"
    }
   ],
   "source": [
    "df_imputed.describe()"
   ]
  },
  {
   "cell_type": "code",
   "execution_count": 31,
   "metadata": {},
   "outputs": [
    {
     "data": {
      "text/html": [
       "<div>\n",
       "<style scoped>\n",
       "    .dataframe tbody tr th:only-of-type {\n",
       "        vertical-align: middle;\n",
       "    }\n",
       "\n",
       "    .dataframe tbody tr th {\n",
       "        vertical-align: top;\n",
       "    }\n",
       "\n",
       "    .dataframe thead th {\n",
       "        text-align: right;\n",
       "    }\n",
       "</style>\n",
       "<table border=\"1\" class=\"dataframe\">\n",
       "  <thead>\n",
       "    <tr style=\"text-align: right;\">\n",
       "      <th></th>\n",
       "      <th>age</th>\n",
       "      <th>balance</th>\n",
       "      <th>day</th>\n",
       "      <th>duration</th>\n",
       "      <th>campaign</th>\n",
       "      <th>pdays</th>\n",
       "      <th>previous</th>\n",
       "    </tr>\n",
       "    <tr>\n",
       "      <th>deposit</th>\n",
       "      <th></th>\n",
       "      <th></th>\n",
       "      <th></th>\n",
       "      <th></th>\n",
       "      <th></th>\n",
       "      <th></th>\n",
       "      <th></th>\n",
       "    </tr>\n",
       "  </thead>\n",
       "  <tbody>\n",
       "    <tr>\n",
       "      <th>no</th>\n",
       "      <td>40.965690</td>\n",
       "      <td>1092.915796</td>\n",
       "      <td>18.994333</td>\n",
       "      <td>204.160567</td>\n",
       "      <td>6.697309</td>\n",
       "      <td>24.337365</td>\n",
       "      <td>4.859377</td>\n",
       "    </tr>\n",
       "    <tr>\n",
       "      <th>yes</th>\n",
       "      <td>41.809156</td>\n",
       "      <td>1545.591296</td>\n",
       "      <td>18.075460</td>\n",
       "      <td>428.582038</td>\n",
       "      <td>5.363790</td>\n",
       "      <td>52.721066</td>\n",
       "      <td>5.983151</td>\n",
       "    </tr>\n",
       "  </tbody>\n",
       "</table>\n",
       "</div>"
      ],
      "text/plain": [
       "               age      balance        day    duration  campaign      pdays  \\\n",
       "deposit                                                                       \n",
       "no       40.965690  1092.915796  18.994333  204.160567  6.697309  24.337365   \n",
       "yes      41.809156  1545.591296  18.075460  428.582038  5.363790  52.721066   \n",
       "\n",
       "         previous  \n",
       "deposit            \n",
       "no       4.859377  \n",
       "yes      5.983151  "
      ]
     },
     "execution_count": 31,
     "metadata": {},
     "output_type": "execute_result"
    }
   ],
   "source": [
    "df_imputed.groupby('deposit').mean()"
   ]
  },
  {
   "cell_type": "markdown",
   "metadata": {},
   "source": [
    "## Heatmap to check correlation between variables"
   ]
  },
  {
   "cell_type": "code",
   "execution_count": 32,
   "metadata": {},
   "outputs": [
    {
     "data": {
      "text/plain": [
       "<matplotlib.axes._subplots.AxesSubplot at 0x2cda0824358>"
      ]
     },
     "execution_count": 32,
     "metadata": {},
     "output_type": "execute_result"
    },
    {
     "data": {
      "image/png": "[encoded data removed]",
      "text/plain": [
       "<Figure size 1440x720 with 2 Axes>"
      ]
     },
     "metadata": {
      "needs_background": "light"
     },
     "output_type": "display_data"
    }
   ],
   "source": [
    "plt.figure(figsize=(20,10))\n",
    "sns.heatmap(data=df_imputed.corr(), annot=True, cmap='viridis')"
   ]
  },
  {
   "cell_type": "code",
   "execution_count": 33,
   "metadata": {},
   "outputs": [
    {
     "data": {
      "text/html": [
       "<style  type=\"text/css\" >\n",
       "    #T_f1834262_6fe1_11ea_9785_a1c47a3f5bb9row0_col0 {\n",
       "            background-color:  #023858;\n",
       "            color:  #f1f1f1;\n",
       "        }    #T_f1834262_6fe1_11ea_9785_a1c47a3f5bb9row0_col1 {\n",
       "            background-color:  #efe9f3;\n",
       "            color:  #000000;\n",
       "        }    #T_f1834262_6fe1_11ea_9785_a1c47a3f5bb9row0_col2 {\n",
       "            background-color:  #faf3f9;\n",
       "            color:  #000000;\n",
       "        }    #T_f1834262_6fe1_11ea_9785_a1c47a3f5bb9row0_col3 {\n",
       "            background-color:  #f2ecf5;\n",
       "            color:  #000000;\n",
       "        }    #T_f1834262_6fe1_11ea_9785_a1c47a3f5bb9row0_col4 {\n",
       "            background-color:  #f5eef6;\n",
       "            color:  #000000;\n",
       "        }    #T_f1834262_6fe1_11ea_9785_a1c47a3f5bb9row0_col5 {\n",
       "            background-color:  #f5eff6;\n",
       "            color:  #000000;\n",
       "        }    #T_f1834262_6fe1_11ea_9785_a1c47a3f5bb9row0_col6 {\n",
       "            background-color:  #fff7fb;\n",
       "            color:  #000000;\n",
       "        }    #T_f1834262_6fe1_11ea_9785_a1c47a3f5bb9row1_col0 {\n",
       "            background-color:  #e9e5f1;\n",
       "            color:  #000000;\n",
       "        }    #T_f1834262_6fe1_11ea_9785_a1c47a3f5bb9row1_col1 {\n",
       "            background-color:  #023858;\n",
       "            color:  #f1f1f1;\n",
       "        }    #T_f1834262_6fe1_11ea_9785_a1c47a3f5bb9row1_col2 {\n",
       "            background-color:  #f9f2f8;\n",
       "            color:  #000000;\n",
       "        }    #T_f1834262_6fe1_11ea_9785_a1c47a3f5bb9row1_col3 {\n",
       "            background-color:  #f1ebf4;\n",
       "            color:  #000000;\n",
       "        }    #T_f1834262_6fe1_11ea_9785_a1c47a3f5bb9row1_col4 {\n",
       "            background-color:  #f4edf6;\n",
       "            color:  #000000;\n",
       "        }    #T_f1834262_6fe1_11ea_9785_a1c47a3f5bb9row1_col5 {\n",
       "            background-color:  #f6eff7;\n",
       "            color:  #000000;\n",
       "        }    #T_f1834262_6fe1_11ea_9785_a1c47a3f5bb9row1_col6 {\n",
       "            background-color:  #faf3f9;\n",
       "            color:  #000000;\n",
       "        }    #T_f1834262_6fe1_11ea_9785_a1c47a3f5bb9row2_col0 {\n",
       "            background-color:  #f6eff7;\n",
       "            color:  #000000;\n",
       "        }    #T_f1834262_6fe1_11ea_9785_a1c47a3f5bb9row2_col1 {\n",
       "            background-color:  #faf3f9;\n",
       "            color:  #000000;\n",
       "        }    #T_f1834262_6fe1_11ea_9785_a1c47a3f5bb9row2_col2 {\n",
       "            background-color:  #023858;\n",
       "            color:  #f1f1f1;\n",
       "        }    #T_f1834262_6fe1_11ea_9785_a1c47a3f5bb9row2_col3 {\n",
       "            background-color:  #f4eef6;\n",
       "            color:  #000000;\n",
       "        }    #T_f1834262_6fe1_11ea_9785_a1c47a3f5bb9row2_col4 {\n",
       "            background-color:  #f3edf5;\n",
       "            color:  #000000;\n",
       "        }    #T_f1834262_6fe1_11ea_9785_a1c47a3f5bb9row2_col5 {\n",
       "            background-color:  #fff7fb;\n",
       "            color:  #000000;\n",
       "        }    #T_f1834262_6fe1_11ea_9785_a1c47a3f5bb9row2_col6 {\n",
       "            background-color:  #f8f1f8;\n",
       "            color:  #000000;\n",
       "        }    #T_f1834262_6fe1_11ea_9785_a1c47a3f5bb9row3_col0 {\n",
       "            background-color:  #f2ecf5;\n",
       "            color:  #000000;\n",
       "        }    #T_f1834262_6fe1_11ea_9785_a1c47a3f5bb9row3_col1 {\n",
       "            background-color:  #f7f0f7;\n",
       "            color:  #000000;\n",
       "        }    #T_f1834262_6fe1_11ea_9785_a1c47a3f5bb9row3_col2 {\n",
       "            background-color:  #f9f2f8;\n",
       "            color:  #000000;\n",
       "        }    #T_f1834262_6fe1_11ea_9785_a1c47a3f5bb9row3_col3 {\n",
       "            background-color:  #023858;\n",
       "            color:  #f1f1f1;\n",
       "        }    #T_f1834262_6fe1_11ea_9785_a1c47a3f5bb9row3_col4 {\n",
       "            background-color:  #fff7fb;\n",
       "            color:  #000000;\n",
       "        }    #T_f1834262_6fe1_11ea_9785_a1c47a3f5bb9row3_col5 {\n",
       "            background-color:  #f8f1f8;\n",
       "            color:  #000000;\n",
       "        }    #T_f1834262_6fe1_11ea_9785_a1c47a3f5bb9row3_col6 {\n",
       "            background-color:  #f6eff7;\n",
       "            color:  #000000;\n",
       "        }    #T_f1834262_6fe1_11ea_9785_a1c47a3f5bb9row4_col0 {\n",
       "            background-color:  #f5eff6;\n",
       "            color:  #000000;\n",
       "        }    #T_f1834262_6fe1_11ea_9785_a1c47a3f5bb9row4_col1 {\n",
       "            background-color:  #f9f2f8;\n",
       "            color:  #000000;\n",
       "        }    #T_f1834262_6fe1_11ea_9785_a1c47a3f5bb9row4_col2 {\n",
       "            background-color:  #f7f0f7;\n",
       "            color:  #000000;\n",
       "        }    #T_f1834262_6fe1_11ea_9785_a1c47a3f5bb9row4_col3 {\n",
       "            background-color:  #fff7fb;\n",
       "            color:  #000000;\n",
       "        }    #T_f1834262_6fe1_11ea_9785_a1c47a3f5bb9row4_col4 {\n",
       "            background-color:  #023858;\n",
       "            color:  #f1f1f1;\n",
       "        }    #T_f1834262_6fe1_11ea_9785_a1c47a3f5bb9row4_col5 {\n",
       "            background-color:  #fdf5fa;\n",
       "            color:  #000000;\n",
       "        }    #T_f1834262_6fe1_11ea_9785_a1c47a3f5bb9row4_col6 {\n",
       "            background-color:  #f7f0f7;\n",
       "            color:  #000000;\n",
       "        }    #T_f1834262_6fe1_11ea_9785_a1c47a3f5bb9row5_col0 {\n",
       "            background-color:  #f1ebf5;\n",
       "            color:  #000000;\n",
       "        }    #T_f1834262_6fe1_11ea_9785_a1c47a3f5bb9row5_col1 {\n",
       "            background-color:  #f7f0f7;\n",
       "            color:  #000000;\n",
       "        }    #T_f1834262_6fe1_11ea_9785_a1c47a3f5bb9row5_col2 {\n",
       "            background-color:  #fff7fb;\n",
       "            color:  #000000;\n",
       "        }    #T_f1834262_6fe1_11ea_9785_a1c47a3f5bb9row5_col3 {\n",
       "            background-color:  #f3edf5;\n",
       "            color:  #000000;\n",
       "        }    #T_f1834262_6fe1_11ea_9785_a1c47a3f5bb9row5_col4 {\n",
       "            background-color:  #f8f1f8;\n",
       "            color:  #000000;\n",
       "        }    #T_f1834262_6fe1_11ea_9785_a1c47a3f5bb9row5_col5 {\n",
       "            background-color:  #023858;\n",
       "            color:  #f1f1f1;\n",
       "        }    #T_f1834262_6fe1_11ea_9785_a1c47a3f5bb9row5_col6 {\n",
       "            background-color:  #eae6f1;\n",
       "            color:  #000000;\n",
       "        }    #T_f1834262_6fe1_11ea_9785_a1c47a3f5bb9row6_col0 {\n",
       "            background-color:  #fff7fb;\n",
       "            color:  #000000;\n",
       "        }    #T_f1834262_6fe1_11ea_9785_a1c47a3f5bb9row6_col1 {\n",
       "            background-color:  #fff7fb;\n",
       "            color:  #000000;\n",
       "        }    #T_f1834262_6fe1_11ea_9785_a1c47a3f5bb9row6_col2 {\n",
       "            background-color:  #fcf4fa;\n",
       "            color:  #000000;\n",
       "        }    #T_f1834262_6fe1_11ea_9785_a1c47a3f5bb9row6_col3 {\n",
       "            background-color:  #f5eff6;\n",
       "            color:  #000000;\n",
       "        }    #T_f1834262_6fe1_11ea_9785_a1c47a3f5bb9row6_col4 {\n",
       "            background-color:  #f7f0f7;\n",
       "            color:  #000000;\n",
       "        }    #T_f1834262_6fe1_11ea_9785_a1c47a3f5bb9row6_col5 {\n",
       "            background-color:  #efe9f3;\n",
       "            color:  #000000;\n",
       "        }    #T_f1834262_6fe1_11ea_9785_a1c47a3f5bb9row6_col6 {\n",
       "            background-color:  #023858;\n",
       "            color:  #f1f1f1;\n",
       "        }</style><table id=\"T_f1834262_6fe1_11ea_9785_a1c47a3f5bb9\" ><thead>    <tr>        <th class=\"blank level0\" ></th>        <th class=\"col_heading level0 col0\" >age</th>        <th class=\"col_heading level0 col1\" >balance</th>        <th class=\"col_heading level0 col2\" >day</th>        <th class=\"col_heading level0 col3\" >duration</th>        <th class=\"col_heading level0 col4\" >campaign</th>        <th class=\"col_heading level0 col5\" >pdays</th>        <th class=\"col_heading level0 col6\" >previous</th>    </tr></thead><tbody>\n",
       "                <tr>\n",
       "                        <th id=\"T_f1834262_6fe1_11ea_9785_a1c47a3f5bb9level0_row0\" class=\"row_heading level0 row0\" >age</th>\n",
       "                        <td id=\"T_f1834262_6fe1_11ea_9785_a1c47a3f5bb9row0_col0\" class=\"data row0 col0\" >1</td>\n",
       "                        <td id=\"T_f1834262_6fe1_11ea_9785_a1c47a3f5bb9row0_col1\" class=\"data row0 col1\" >0.084829</td>\n",
       "                        <td id=\"T_f1834262_6fe1_11ea_9785_a1c47a3f5bb9row0_col2\" class=\"data row0 col2\" >0.00159</td>\n",
       "                        <td id=\"T_f1834262_6fe1_11ea_9785_a1c47a3f5bb9row0_col3\" class=\"data row0 col3\" >0.0264211</td>\n",
       "                        <td id=\"T_f1834262_6fe1_11ea_9785_a1c47a3f5bb9row0_col4\" class=\"data row0 col4\" >0.00415175</td>\n",
       "                        <td id=\"T_f1834262_6fe1_11ea_9785_a1c47a3f5bb9row0_col5\" class=\"data row0 col5\" >0.0329012</td>\n",
       "                        <td id=\"T_f1834262_6fe1_11ea_9785_a1c47a3f5bb9row0_col6\" class=\"data row0 col6\" >-0.0640394</td>\n",
       "            </tr>\n",
       "            <tr>\n",
       "                        <th id=\"T_f1834262_6fe1_11ea_9785_a1c47a3f5bb9level0_row1\" class=\"row_heading level0 row1\" >balance</th>\n",
       "                        <td id=\"T_f1834262_6fe1_11ea_9785_a1c47a3f5bb9row1_col0\" class=\"data row1 col0\" >0.084829</td>\n",
       "                        <td id=\"T_f1834262_6fe1_11ea_9785_a1c47a3f5bb9row1_col1\" class=\"data row1 col1\" >1</td>\n",
       "                        <td id=\"T_f1834262_6fe1_11ea_9785_a1c47a3f5bb9row1_col2\" class=\"data row1 col2\" >0.00736273</td>\n",
       "                        <td id=\"T_f1834262_6fe1_11ea_9785_a1c47a3f5bb9row1_col3\" class=\"data row1 col3\" >0.0328238</td>\n",
       "                        <td id=\"T_f1834262_6fe1_11ea_9785_a1c47a3f5bb9row1_col4\" class=\"data row1 col4\" >0.0133838</td>\n",
       "                        <td id=\"T_f1834262_6fe1_11ea_9785_a1c47a3f5bb9row1_col5\" class=\"data row1 col5\" >0.0273016</td>\n",
       "                        <td id=\"T_f1834262_6fe1_11ea_9785_a1c47a3f5bb9row1_col6\" class=\"data row1 col6\" >-0.027088</td>\n",
       "            </tr>\n",
       "            <tr>\n",
       "                        <th id=\"T_f1834262_6fe1_11ea_9785_a1c47a3f5bb9level0_row2\" class=\"row_heading level0 row2\" >day</th>\n",
       "                        <td id=\"T_f1834262_6fe1_11ea_9785_a1c47a3f5bb9row2_col0\" class=\"data row2 col0\" >0.00159</td>\n",
       "                        <td id=\"T_f1834262_6fe1_11ea_9785_a1c47a3f5bb9row2_col1\" class=\"data row2 col1\" >0.00736273</td>\n",
       "                        <td id=\"T_f1834262_6fe1_11ea_9785_a1c47a3f5bb9row2_col2\" class=\"data row2 col2\" >1</td>\n",
       "                        <td id=\"T_f1834262_6fe1_11ea_9785_a1c47a3f5bb9row2_col3\" class=\"data row2 col3\" >0.00757057</td>\n",
       "                        <td id=\"T_f1834262_6fe1_11ea_9785_a1c47a3f5bb9row2_col4\" class=\"data row2 col4\" >0.0188104</td>\n",
       "                        <td id=\"T_f1834262_6fe1_11ea_9785_a1c47a3f5bb9row2_col5\" class=\"data row2 col5\" >-0.0340512</td>\n",
       "                        <td id=\"T_f1834262_6fe1_11ea_9785_a1c47a3f5bb9row2_col6\" class=\"data row2 col6\" >-0.0111593</td>\n",
       "            </tr>\n",
       "            <tr>\n",
       "                        <th id=\"T_f1834262_6fe1_11ea_9785_a1c47a3f5bb9level0_row3\" class=\"row_heading level0 row3\" >duration</th>\n",
       "                        <td id=\"T_f1834262_6fe1_11ea_9785_a1c47a3f5bb9row3_col0\" class=\"data row3 col0\" >0.0264211</td>\n",
       "                        <td id=\"T_f1834262_6fe1_11ea_9785_a1c47a3f5bb9row3_col1\" class=\"data row3 col1\" >0.0328238</td>\n",
       "                        <td id=\"T_f1834262_6fe1_11ea_9785_a1c47a3f5bb9row3_col2\" class=\"data row3 col2\" >0.00757057</td>\n",
       "                        <td id=\"T_f1834262_6fe1_11ea_9785_a1c47a3f5bb9row3_col3\" class=\"data row3 col3\" >1</td>\n",
       "                        <td id=\"T_f1834262_6fe1_11ea_9785_a1c47a3f5bb9row3_col4\" class=\"data row3 col4\" >-0.0688103</td>\n",
       "                        <td id=\"T_f1834262_6fe1_11ea_9785_a1c47a3f5bb9row3_col5\" class=\"data row3 col5\" >0.0182613</td>\n",
       "                        <td id=\"T_f1834262_6fe1_11ea_9785_a1c47a3f5bb9row3_col6\" class=\"data row3 col6\" >0.000968803</td>\n",
       "            </tr>\n",
       "            <tr>\n",
       "                        <th id=\"T_f1834262_6fe1_11ea_9785_a1c47a3f5bb9level0_row4\" class=\"row_heading level0 row4\" >campaign</th>\n",
       "                        <td id=\"T_f1834262_6fe1_11ea_9785_a1c47a3f5bb9row4_col0\" class=\"data row4 col0\" >0.00415175</td>\n",
       "                        <td id=\"T_f1834262_6fe1_11ea_9785_a1c47a3f5bb9row4_col1\" class=\"data row4 col1\" >0.0133838</td>\n",
       "                        <td id=\"T_f1834262_6fe1_11ea_9785_a1c47a3f5bb9row4_col2\" class=\"data row4 col2\" >0.0188104</td>\n",
       "                        <td id=\"T_f1834262_6fe1_11ea_9785_a1c47a3f5bb9row4_col3\" class=\"data row4 col3\" >-0.0688103</td>\n",
       "                        <td id=\"T_f1834262_6fe1_11ea_9785_a1c47a3f5bb9row4_col4\" class=\"data row4 col4\" >1</td>\n",
       "                        <td id=\"T_f1834262_6fe1_11ea_9785_a1c47a3f5bb9row4_col5\" class=\"data row4 col5\" >-0.0206958</td>\n",
       "                        <td id=\"T_f1834262_6fe1_11ea_9785_a1c47a3f5bb9row4_col6\" class=\"data row4 col6\" >-0.00804895</td>\n",
       "            </tr>\n",
       "            <tr>\n",
       "                        <th id=\"T_f1834262_6fe1_11ea_9785_a1c47a3f5bb9level0_row5\" class=\"row_heading level0 row5\" >pdays</th>\n",
       "                        <td id=\"T_f1834262_6fe1_11ea_9785_a1c47a3f5bb9row5_col0\" class=\"data row5 col0\" >0.0329012</td>\n",
       "                        <td id=\"T_f1834262_6fe1_11ea_9785_a1c47a3f5bb9row5_col1\" class=\"data row5 col1\" >0.0273016</td>\n",
       "                        <td id=\"T_f1834262_6fe1_11ea_9785_a1c47a3f5bb9row5_col2\" class=\"data row5 col2\" >-0.0340512</td>\n",
       "                        <td id=\"T_f1834262_6fe1_11ea_9785_a1c47a3f5bb9row5_col3\" class=\"data row5 col3\" >0.0182613</td>\n",
       "                        <td id=\"T_f1834262_6fe1_11ea_9785_a1c47a3f5bb9row5_col4\" class=\"data row5 col4\" >-0.0206958</td>\n",
       "                        <td id=\"T_f1834262_6fe1_11ea_9785_a1c47a3f5bb9row5_col5\" class=\"data row5 col5\" >1</td>\n",
       "                        <td id=\"T_f1834262_6fe1_11ea_9785_a1c47a3f5bb9row5_col6\" class=\"data row5 col6\" >0.0786002</td>\n",
       "            </tr>\n",
       "            <tr>\n",
       "                        <th id=\"T_f1834262_6fe1_11ea_9785_a1c47a3f5bb9level0_row6\" class=\"row_heading level0 row6\" >previous</th>\n",
       "                        <td id=\"T_f1834262_6fe1_11ea_9785_a1c47a3f5bb9row6_col0\" class=\"data row6 col0\" >-0.0640394</td>\n",
       "                        <td id=\"T_f1834262_6fe1_11ea_9785_a1c47a3f5bb9row6_col1\" class=\"data row6 col1\" >-0.027088</td>\n",
       "                        <td id=\"T_f1834262_6fe1_11ea_9785_a1c47a3f5bb9row6_col2\" class=\"data row6 col2\" >-0.0111593</td>\n",
       "                        <td id=\"T_f1834262_6fe1_11ea_9785_a1c47a3f5bb9row6_col3\" class=\"data row6 col3\" >0.000968803</td>\n",
       "                        <td id=\"T_f1834262_6fe1_11ea_9785_a1c47a3f5bb9row6_col4\" class=\"data row6 col4\" >-0.00804895</td>\n",
       "                        <td id=\"T_f1834262_6fe1_11ea_9785_a1c47a3f5bb9row6_col5\" class=\"data row6 col5\" >0.0786002</td>\n",
       "                        <td id=\"T_f1834262_6fe1_11ea_9785_a1c47a3f5bb9row6_col6\" class=\"data row6 col6\" >1</td>\n",
       "            </tr>\n",
       "    </tbody></table>"
      ],
      "text/plain": [
       "<pandas.io.formats.style.Styler at 0x2cda090fcf8>"
      ]
     },
     "execution_count": 33,
     "metadata": {},
     "output_type": "execute_result"
    }
   ],
   "source": [
    "# Build correlation matrix\n",
    "corr = df_imputed.corr()\n",
    "corr.style.background_gradient(cmap='PuBu')"
   ]
  },
  {
   "cell_type": "markdown",
   "metadata": {},
   "source": [
    "* From the above heatmap, it seems like there is no correlation between input numerical variables, hence we do not need to drop any variables"
   ]
  },
  {
   "cell_type": "markdown",
   "metadata": {},
   "source": [
    "## Creating dummies for categorical variables"
   ]
  },
  {
   "cell_type": "code",
   "execution_count": 34,
   "metadata": {},
   "outputs": [
    {
     "name": "stdout",
     "output_type": "stream",
     "text": [
      "Unique levels in 'job' variable: 12\n",
      "Unique levels in 'marital' variable: 3\n",
      "Unique levels in 'education' variable: 4\n",
      "Unique levels in 'default' variable: 2\n",
      "Unique levels in 'housing' variable: 2\n",
      "Unique levels in 'loan' variable: 2\n",
      "Unique levels in 'contact' variable: 3\n",
      "Unique levels in 'month' variable: 12\n",
      "Unique levels in 'poutcome' variable: 4\n",
      "Unique levels in 'deposit' variable: 2\n"
     ]
    }
   ],
   "source": [
    "print(\"Unique levels in 'job' variable:\", df_imputed.job.nunique())\n",
    "print(\"Unique levels in 'marital' variable:\", df_imputed.marital.nunique())\n",
    "print(\"Unique levels in 'education' variable:\", df_imputed.education.nunique())\n",
    "print(\"Unique levels in 'default' variable:\", df_imputed.default.nunique())\n",
    "print(\"Unique levels in 'housing' variable:\", df_imputed.housing.nunique())\n",
    "print(\"Unique levels in 'loan' variable:\", df_imputed.loan.nunique())\n",
    "print(\"Unique levels in 'contact' variable:\", df_imputed.contact.nunique())\n",
    "print(\"Unique levels in 'month' variable:\", df_imputed.month.nunique())\n",
    "print(\"Unique levels in 'poutcome' variable:\", df_imputed.poutcome.nunique())\n",
    "print(\"Unique levels in 'deposit' variable:\", df_imputed.deposit.nunique())"
   ]
  },
  {
   "cell_type": "markdown",
   "metadata": {},
   "source": [
    "* From the information above, we will create one-hot encoding for categorical variables with > 2 levels. So, 'job',  'marital', 'education', 'contact', 'month' and 'poutcome' variables have levels >2.\n",
    "* For 'default', 'housing', 'loan' and 'deposit' variables, we use create label encoding as they have just 2 unique levels."
   ]
  },
  {
   "cell_type": "code",
   "execution_count": 35,
   "metadata": {},
   "outputs": [],
   "source": [
    "dummy1= pd.get_dummies(df_imputed, columns=['job', 'marital', 'education','contact', 'month','poutcome'],\n",
    "               drop_first=False, prefix=['job', 'mar', 'edu', 'con', 'mon', 'pout'])"
   ]
  },
  {
   "cell_type": "code",
   "execution_count": 37,
   "metadata": {},
   "outputs": [
    {
     "data": {
      "text/html": [
       "<div>\n",
       "<style scoped>\n",
       "    .dataframe tbody tr th:only-of-type {\n",
       "        vertical-align: middle;\n",
       "    }\n",
       "\n",
       "    .dataframe tbody tr th {\n",
       "        vertical-align: top;\n",
       "    }\n",
       "\n",
       "    .dataframe thead th {\n",
       "        text-align: right;\n",
       "    }\n",
       "</style>\n",
       "<table border=\"1\" class=\"dataframe\">\n",
       "  <thead>\n",
       "    <tr style=\"text-align: right;\">\n",
       "      <th></th>\n",
       "      <th>default</th>\n",
       "      <th>housing</th>\n",
       "      <th>loan</th>\n",
       "      <th>deposit</th>\n",
       "      <th>age</th>\n",
       "      <th>balance</th>\n",
       "      <th>day</th>\n",
       "      <th>duration</th>\n",
       "      <th>campaign</th>\n",
       "      <th>pdays</th>\n",
       "      <th>...</th>\n",
       "      <th>mon_jun</th>\n",
       "      <th>mon_mar</th>\n",
       "      <th>mon_may</th>\n",
       "      <th>mon_nov</th>\n",
       "      <th>mon_oct</th>\n",
       "      <th>mon_sep</th>\n",
       "      <th>pout_failure</th>\n",
       "      <th>pout_other</th>\n",
       "      <th>pout_success</th>\n",
       "      <th>pout_unknown</th>\n",
       "    </tr>\n",
       "  </thead>\n",
       "  <tbody>\n",
       "    <tr>\n",
       "      <th>28</th>\n",
       "      <td>0</td>\n",
       "      <td>1</td>\n",
       "      <td>0</td>\n",
       "      <td>1</td>\n",
       "      <td>31.000000</td>\n",
       "      <td>307.0</td>\n",
       "      <td>9.000000</td>\n",
       "      <td>538.0</td>\n",
       "      <td>1.0</td>\n",
       "      <td>-1.000000</td>\n",
       "      <td>...</td>\n",
       "      <td>0</td>\n",
       "      <td>0</td>\n",
       "      <td>1</td>\n",
       "      <td>0</td>\n",
       "      <td>0</td>\n",
       "      <td>0</td>\n",
       "      <td>0</td>\n",
       "      <td>0</td>\n",
       "      <td>0</td>\n",
       "      <td>1</td>\n",
       "    </tr>\n",
       "    <tr>\n",
       "      <th>70</th>\n",
       "      <td>0</td>\n",
       "      <td>1</td>\n",
       "      <td>0</td>\n",
       "      <td>1</td>\n",
       "      <td>60.000000</td>\n",
       "      <td>313.0</td>\n",
       "      <td>15.000000</td>\n",
       "      <td>777.4</td>\n",
       "      <td>2.0</td>\n",
       "      <td>-1.000000</td>\n",
       "      <td>...</td>\n",
       "      <td>0</td>\n",
       "      <td>0</td>\n",
       "      <td>1</td>\n",
       "      <td>0</td>\n",
       "      <td>0</td>\n",
       "      <td>0</td>\n",
       "      <td>0</td>\n",
       "      <td>0</td>\n",
       "      <td>0</td>\n",
       "      <td>1</td>\n",
       "    </tr>\n",
       "    <tr>\n",
       "      <th>86</th>\n",
       "      <td>0</td>\n",
       "      <td>1</td>\n",
       "      <td>0</td>\n",
       "      <td>1</td>\n",
       "      <td>54.000000</td>\n",
       "      <td>4393.0</td>\n",
       "      <td>16.000000</td>\n",
       "      <td>777.4</td>\n",
       "      <td>3.0</td>\n",
       "      <td>-1.000000</td>\n",
       "      <td>...</td>\n",
       "      <td>0</td>\n",
       "      <td>0</td>\n",
       "      <td>1</td>\n",
       "      <td>0</td>\n",
       "      <td>0</td>\n",
       "      <td>0</td>\n",
       "      <td>0</td>\n",
       "      <td>0</td>\n",
       "      <td>0</td>\n",
       "      <td>1</td>\n",
       "    </tr>\n",
       "    <tr>\n",
       "      <th>93</th>\n",
       "      <td>0</td>\n",
       "      <td>1</td>\n",
       "      <td>0</td>\n",
       "      <td>1</td>\n",
       "      <td>31.000000</td>\n",
       "      <td>754.0</td>\n",
       "      <td>19.000000</td>\n",
       "      <td>777.4</td>\n",
       "      <td>4.0</td>\n",
       "      <td>-1.000000</td>\n",
       "      <td>...</td>\n",
       "      <td>0</td>\n",
       "      <td>0</td>\n",
       "      <td>1</td>\n",
       "      <td>0</td>\n",
       "      <td>0</td>\n",
       "      <td>0</td>\n",
       "      <td>0</td>\n",
       "      <td>0</td>\n",
       "      <td>0</td>\n",
       "      <td>1</td>\n",
       "    </tr>\n",
       "    <tr>\n",
       "      <th>95</th>\n",
       "      <td>0</td>\n",
       "      <td>1</td>\n",
       "      <td>0</td>\n",
       "      <td>1</td>\n",
       "      <td>41.358382</td>\n",
       "      <td>122.0</td>\n",
       "      <td>41.358382</td>\n",
       "      <td>777.4</td>\n",
       "      <td>2.0</td>\n",
       "      <td>41.358382</td>\n",
       "      <td>...</td>\n",
       "      <td>0</td>\n",
       "      <td>0</td>\n",
       "      <td>1</td>\n",
       "      <td>0</td>\n",
       "      <td>0</td>\n",
       "      <td>0</td>\n",
       "      <td>0</td>\n",
       "      <td>0</td>\n",
       "      <td>0</td>\n",
       "      <td>1</td>\n",
       "    </tr>\n",
       "  </tbody>\n",
       "</table>\n",
       "<p>5 rows × 49 columns</p>\n",
       "</div>"
      ],
      "text/plain": [
       "   default housing loan deposit        age  balance        day  duration  \\\n",
       "28       0       1    0       1  31.000000    307.0   9.000000     538.0   \n",
       "70       0       1    0       1  60.000000    313.0  15.000000     777.4   \n",
       "86       0       1    0       1  54.000000   4393.0  16.000000     777.4   \n",
       "93       0       1    0       1  31.000000    754.0  19.000000     777.4   \n",
       "95       0       1    0       1  41.358382    122.0  41.358382     777.4   \n",
       "\n",
       "    campaign      pdays  ...  mon_jun  mon_mar  mon_may  mon_nov  mon_oct  \\\n",
       "28       1.0  -1.000000  ...        0        0        1        0        0   \n",
       "70       2.0  -1.000000  ...        0        0        1        0        0   \n",
       "86       3.0  -1.000000  ...        0        0        1        0        0   \n",
       "93       4.0  -1.000000  ...        0        0        1        0        0   \n",
       "95       2.0  41.358382  ...        0        0        1        0        0   \n",
       "\n",
       "    mon_sep  pout_failure  pout_other  pout_success  pout_unknown  \n",
       "28        0             0           0             0             1  \n",
       "70        0             0           0             0             1  \n",
       "86        0             0           0             0             1  \n",
       "93        0             0           0             0             1  \n",
       "95        0             0           0             0             1  \n",
       "\n",
       "[5 rows x 49 columns]"
      ]
     },
     "execution_count": 37,
     "metadata": {},
     "output_type": "execute_result"
    }
   ],
   "source": [
    "dummy2=dummy1.replace(to_replace = ['yes','no'],value = ['1','0'])\n",
    "#dummy2.info()\n",
    "df_conv=dummy2.copy()\n",
    "df_conv.head()"
   ]
  },
  {
   "cell_type": "code",
   "execution_count": 39,
   "metadata": {},
   "outputs": [],
   "source": [
    "y = df_conv.deposit\n",
    "X = df_conv.drop(['deposit'], axis=1)"
   ]
  },
  {
   "cell_type": "markdown",
   "metadata": {},
   "source": [
    "## Feature Selection"
   ]
  },
  {
   "cell_type": "markdown",
   "metadata": {},
   "source": [
    "For selecting feautres we will use random forest method because it is robust, nonlinear"
   ]
  },
  {
   "cell_type": "code",
   "execution_count": 40,
   "metadata": {},
   "outputs": [],
   "source": [
    "from sklearn.preprocessing import StandardScaler\n",
    "scaler = StandardScaler()\n",
    "scaler.fit(X)\n",
    "scaled_features = scaler.transform(X)\n",
    "X_sc = pd.DataFrame(scaled_features,columns=X.columns)"
   ]
  },
  {
   "cell_type": "code",
   "execution_count": 41,
   "metadata": {},
   "outputs": [
    {
     "name": "stdout",
     "output_type": "stream",
     "text": [
      "[(68.44478110699634, 'duration'), (62.470525401397346, 'pout_unknown'), (62.323499461755546, 'pdays'), (61.94252629916416, 'previous'), (61.33437241528365, 'pout_success'), (60.50178514279063, 'housing'), (58.63256399705732, 'con_unknown'), (58.335764785097076, 'day'), (58.03437698724423, 'con_cellular'), (56.690120824449174, 'mon_may'), (55.99940148879663, 'mon_sep'), (55.92805812208796, 'mar_single'), (55.777170953918784, 'mar_married'), (55.622339430666216, 'job_retired'), (55.109382078745796, 'age'), (55.10716259969992, 'edu_tertiary'), (55.09321811992669, 'mon_mar'), (54.87104577363808, 'mon_oct'), (54.79471896989572, 'job_student'), (54.646001404838785, 'pout_other'), (54.491706047872576, 'mon_feb'), (54.041197521166104, 'con_telephone'), (53.8256337360815, 'edu_unknown'), (53.73985128659127, 'job_unemployed'), (53.53154860617547, 'campaign'), (53.44301051135301, 'mon_nov'), (53.44301051135301, 'mon_jan'), (53.44301051135301, 'mon_aug'), (53.44301051135301, 'loan'), (53.44301051135301, 'job_technician'), (53.44301051135301, 'job_services'), (53.44301051135301, 'job_self-employed'), (53.44301051135301, 'job_housemaid'), (53.44301051135301, 'job_entrepreneur'), (53.44301051135301, 'job_blue-collar'), (53.44301051135301, 'edu_secondary'), (53.44301051135301, 'edu_primary'), (53.44301051135301, 'default'), (53.36782254142819, 'mon_dec'), (53.29319567575654, 'job_unknown'), (52.77636878265315, 'balance'), (52.62485400898598, 'pout_failure'), (52.55356051821095, 'mon_apr'), (52.09965211536303, 'job_admin.'), (52.03560310394559, 'job_management'), (51.870235289716824, 'mar_divorced'), (51.795608424045184, 'mon_jul'), (51.20579641475164, 'mon_jun')]\n"
     ]
    }
   ],
   "source": [
    "from sklearn.ensemble import RandomForestClassifier\n",
    "from sklearn.model_selection import cross_val_score\n",
    "\n",
    "clf = RandomForestClassifier(n_estimators = 50, max_depth = 4)\n",
    "\n",
    "scores = []\n",
    "num_features = len(X_sc.columns)\n",
    "for i in range(num_features):\n",
    "    col = X_sc.columns[i]\n",
    "    score = np.mean(cross_val_score(clf, X_sc[col].values.reshape(-1,1), y, cv=10))\n",
    "    scores.append((float(score*100), col))\n",
    "\n",
    "print(sorted(scores, reverse = True))"
   ]
  },
  {
   "cell_type": "markdown",
   "metadata": {},
   "source": [
    "* From the above Cross value scores of the input variables, lets select the top 15 variables with highest scores\n",
    "* So the features selected for the classification modeling are:pout_success,previous, pout_unknown, age, housing, con_cellular, pdays, con_unknown, mon_may, mon_mar, job_student, balance, job_retired, mon_sep,day "
   ]
  },
  {
   "cell_type": "code",
   "execution_count": 42,
   "metadata": {},
   "outputs": [
    {
     "name": "stdout",
     "output_type": "stream",
     "text": [
      "<class 'pandas.core.frame.DataFrame'>\n",
      "Int64Index: 1336 entries, 28 to 11138\n",
      "Data columns (total 16 columns):\n",
      "duration        1336 non-null float64\n",
      "pout_success    1336 non-null uint8\n",
      "previous        1336 non-null float64\n",
      "pout_unknown    1336 non-null uint8\n",
      "age             1336 non-null float64\n",
      "housing         1336 non-null object\n",
      "con_cellular    1336 non-null uint8\n",
      "pdays           1336 non-null float64\n",
      "con_unknown     1336 non-null uint8\n",
      "mon_may         1336 non-null uint8\n",
      "mon_mar         1336 non-null uint8\n",
      "job_student     1336 non-null uint8\n",
      "balance         1336 non-null float64\n",
      "job_retired     1336 non-null uint8\n",
      "mon_sep         1336 non-null uint8\n",
      "day             1336 non-null float64\n",
      "dtypes: float64(6), object(1), uint8(9)\n",
      "memory usage: 95.2+ KB\n"
     ]
    }
   ],
   "source": [
    "df_final=X[['duration','pout_success','previous', 'pout_unknown', 'age', 'housing', 'con_cellular', 'pdays', 'con_unknown', 'mon_may', 'mon_mar', 'job_student', 'balance', 'job_retired', 'mon_sep','day']]\n",
    "df_final.info()"
   ]
  },
  {
   "cell_type": "markdown",
   "metadata": {},
   "source": [
    "# 2. Classification"
   ]
  },
  {
   "cell_type": "markdown",
   "metadata": {},
   "source": [
    "## Split the data into train and test"
   ]
  },
  {
   "cell_type": "code",
   "execution_count": 43,
   "metadata": {},
   "outputs": [],
   "source": [
    "from sklearn.metrics import roc_curve\n",
    "from sklearn.metrics import roc_auc_score\n",
    "from sklearn.metrics import confusion_matrix, accuracy_score, f1_score, precision_score, recall_score\n",
    "from sklearn.metrics import auc\n",
    "from sklearn.metrics import classification_report\n",
    "from sklearn.metrics import precision_recall_curve\n",
    "from sklearn.model_selection import GridSearchCV"
   ]
  },
  {
   "cell_type": "code",
   "execution_count": 44,
   "metadata": {},
   "outputs": [
    {
     "name": "stdout",
     "output_type": "stream",
     "text": [
      "Size of training set: 1002  size of test set: 334\n",
      "\n"
     ]
    }
   ],
   "source": [
    "from sklearn.model_selection import train_test_split\n",
    "\n",
    "X_train_org, X_test_org, y_train, y_test = train_test_split(df_final,y, random_state = 0)\n",
    "\n",
    "print(\"Size of training set: {}  size of test set:\"\n",
    "      \" {}\\n\".format(X_train_org.shape[0],X_test_org.shape[0]))"
   ]
  },
  {
   "cell_type": "markdown",
   "metadata": {},
   "source": [
    "## Feature Scaling\n",
    "* As we can see from the graphs of the input varibles, it is clear that they do not have normally distributed data, hence we are using MinMaxScaling. This will be suitable option as we have also removed the outliers"
   ]
  },
  {
   "cell_type": "code",
   "execution_count": 45,
   "metadata": {},
   "outputs": [],
   "source": [
    "from sklearn.preprocessing import MinMaxScaler\n",
    "scaler = MinMaxScaler()\n",
    "X_train2 = pd.DataFrame(scaler.fit_transform(X_train_org))\n",
    "X_test2= pd.DataFrame(scaler.transform(X_test_org))\n",
    "X_train2.columns = X_train_org.columns.values\n",
    "X_test2.columns = X_test_org.columns.values\n",
    "X_train2.index = X_train_org.index.values\n",
    "X_test2.index = X_test_org.index.values\n",
    "X_train = X_train2\n",
    "X_test = X_test2"
   ]
  },
  {
   "cell_type": "code",
   "execution_count": 46,
   "metadata": {},
   "outputs": [
    {
     "name": "stdout",
     "output_type": "stream",
     "text": [
      "Checking the balance status of y train data set\n",
      " 0    531\n",
      "1    471\n",
      "Name: deposit, dtype: int64\n"
     ]
    }
   ],
   "source": [
    "print(\"Checking the balance status of y train data set\\n\",y_train.value_counts())"
   ]
  },
  {
   "cell_type": "markdown",
   "metadata": {},
   "source": [
    "* From the above counts of 0 and 1 values for target variable, it looks not that imbalanced. Hence we can proceed."
   ]
  },
  {
   "cell_type": "markdown",
   "metadata": {},
   "source": [
    "## Grid Search & cross validation applied on all the models"
   ]
  },
  {
   "cell_type": "code",
   "execution_count": 47,
   "metadata": {},
   "outputs": [],
   "source": [
    "from sklearn.model_selection import GridSearchCV\n",
    "from sklearn.metrics import classification_report\n",
    "from sklearn.neighbors import KNeighborsClassifier\n",
    "from sklearn.linear_model import LogisticRegression\n",
    "from sklearn.svm import SVC, LinearSVC\n",
    "from sklearn.tree import DecisionTreeClassifier"
   ]
  },
  {
   "cell_type": "markdown",
   "metadata": {},
   "source": [
    "## Method1: KNN-Grid search with Cross validation"
   ]
  },
  {
   "cell_type": "code",
   "execution_count": 48,
   "metadata": {},
   "outputs": [
    {
     "name": "stdout",
     "output_type": "stream",
     "text": [
      "Best Train Accuracy score:  0.7584830339321357\n",
      "Best parameters: KNeighborsClassifier(algorithm='auto', leaf_size=1, metric='minkowski',\n",
      "                     metric_params=None, n_jobs=-1, n_neighbors=5, p=2,\n",
      "                     weights='uniform')\n",
      "Best Test Accuracy score : 0.7754491017964071\n"
     ]
    }
   ],
   "source": [
    "knn = KNeighborsClassifier()\n",
    "\n",
    "knn_param_grid = {'n_neighbors':[1,2,3,5,7,10,15,25],\n",
    "              'leaf_size':[1,3,5],\n",
    "              'algorithm':['auto', 'kd_tree'],\n",
    "              'n_jobs':[-1]}\n",
    "\n",
    "#Fit the model 5-fold cross validation\n",
    "KNN_grid = GridSearchCV(knn, knn_param_grid, cv=5)\n",
    "best_knn=KNN_grid.fit(X_train, y_train)\n",
    "y_pred = best_knn.predict(X_test)\n",
    "\n",
    "acc = accuracy_score(y_test, y_pred)\n",
    "prec = precision_score(y_test, y_pred,pos_label='1')\n",
    "rec = recall_score(y_test, y_pred, pos_label='1')\n",
    "f1 = f1_score(y_test, y_pred,pos_label='1')\n",
    "\n",
    "model_results_knn = pd.DataFrame([['KNN_GridCV', acc, prec, rec, f1]],\n",
    "               columns = ['Model', 'Accuracy', 'Precision', 'Recall', 'F1 Score'])\n",
    "Results_all=model_results_knn\n",
    "\n",
    "print(\"Best Train Accuracy score: \",KNN_grid.best_score_)\n",
    "print(\"Best parameters:\", KNN_grid.best_estimator_)\n",
    "print(\"Best Test Accuracy score :\", accuracy_score(y_test, y_pred))"
   ]
  },
  {
   "cell_type": "code",
   "execution_count": 49,
   "metadata": {},
   "outputs": [
    {
     "data": {
      "text/plain": [
       "<matplotlib.axes._subplots.AxesSubplot at 0x2cda02ee940>"
      ]
     },
     "execution_count": 49,
     "metadata": {},
     "output_type": "execute_result"
    },
    {
     "data": {
      "image/png": "[encoded data removed]",
      "text/plain": [
       "<Figure size 432x288 with 1 Axes>"
      ]
     },
     "metadata": {
      "needs_background": "light"
     },
     "output_type": "display_data"
    }
   ],
   "source": [
    "sns.lineplot(x='param_n_neighbors', y='mean_test_score', data=pd.DataFrame(KNN_grid.cv_results_))"
   ]
  },
  {
   "cell_type": "markdown",
   "metadata": {},
   "source": [
    "## Method2: Logistic Regression - Grid search with Cross validation"
   ]
  },
  {
   "cell_type": "code",
   "execution_count": 51,
   "metadata": {},
   "outputs": [
    {
     "name": "stderr",
     "output_type": "stream",
     "text": [
      "C:\\Users\\kdpat\\AppData\\Local\\Continuum\\anaconda3\\lib\\site-packages\\sklearn\\linear_model\\logistic.py:432: FutureWarning: Default solver will be changed to 'lbfgs' in 0.22. Specify a solver to silence this warning.\n",
      "  FutureWarning)\n",
      "C:\\Users\\kdpat\\AppData\\Local\\Continuum\\anaconda3\\lib\\site-packages\\sklearn\\linear_model\\logistic.py:432: FutureWarning: Default solver will be changed to 'lbfgs' in 0.22. Specify a solver to silence this warning.\n",
      "  FutureWarning)\n",
      "C:\\Users\\kdpat\\AppData\\Local\\Continuum\\anaconda3\\lib\\site-packages\\sklearn\\linear_model\\logistic.py:432: FutureWarning: Default solver will be changed to 'lbfgs' in 0.22. Specify a solver to silence this warning.\n",
      "  FutureWarning)\n",
      "C:\\Users\\kdpat\\AppData\\Local\\Continuum\\anaconda3\\lib\\site-packages\\sklearn\\linear_model\\logistic.py:432: FutureWarning: Default solver will be changed to 'lbfgs' in 0.22. Specify a solver to silence this warning.\n",
      "  FutureWarning)\n",
      "C:\\Users\\kdpat\\AppData\\Local\\Continuum\\anaconda3\\lib\\site-packages\\sklearn\\linear_model\\logistic.py:432: FutureWarning: Default solver will be changed to 'lbfgs' in 0.22. Specify a solver to silence this warning.\n",
      "  FutureWarning)\n",
      "C:\\Users\\kdpat\\AppData\\Local\\Continuum\\anaconda3\\lib\\site-packages\\sklearn\\linear_model\\logistic.py:432: FutureWarning: Default solver will be changed to 'lbfgs' in 0.22. Specify a solver to silence this warning.\n",
      "  FutureWarning)\n",
      "C:\\Users\\kdpat\\AppData\\Local\\Continuum\\anaconda3\\lib\\site-packages\\sklearn\\linear_model\\logistic.py:432: FutureWarning: Default solver will be changed to 'lbfgs' in 0.22. Specify a solver to silence this warning.\n",
      "  FutureWarning)\n",
      "C:\\Users\\kdpat\\AppData\\Local\\Continuum\\anaconda3\\lib\\site-packages\\sklearn\\linear_model\\logistic.py:432: FutureWarning: Default solver will be changed to 'lbfgs' in 0.22. Specify a solver to silence this warning.\n",
      "  FutureWarning)\n",
      "C:\\Users\\kdpat\\AppData\\Local\\Continuum\\anaconda3\\lib\\site-packages\\sklearn\\linear_model\\logistic.py:432: FutureWarning: Default solver will be changed to 'lbfgs' in 0.22. Specify a solver to silence this warning.\n",
      "  FutureWarning)\n",
      "C:\\Users\\kdpat\\AppData\\Local\\Continuum\\anaconda3\\lib\\site-packages\\sklearn\\linear_model\\logistic.py:432: FutureWarning: Default solver will be changed to 'lbfgs' in 0.22. Specify a solver to silence this warning.\n",
      "  FutureWarning)\n",
      "C:\\Users\\kdpat\\AppData\\Local\\Continuum\\anaconda3\\lib\\site-packages\\sklearn\\linear_model\\logistic.py:432: FutureWarning: Default solver will be changed to 'lbfgs' in 0.22. Specify a solver to silence this warning.\n",
      "  FutureWarning)\n",
      "C:\\Users\\kdpat\\AppData\\Local\\Continuum\\anaconda3\\lib\\site-packages\\sklearn\\linear_model\\logistic.py:432: FutureWarning: Default solver will be changed to 'lbfgs' in 0.22. Specify a solver to silence this warning.\n",
      "  FutureWarning)\n",
      "C:\\Users\\kdpat\\AppData\\Local\\Continuum\\anaconda3\\lib\\site-packages\\sklearn\\linear_model\\logistic.py:432: FutureWarning: Default solver will be changed to 'lbfgs' in 0.22. Specify a solver to silence this warning.\n",
      "  FutureWarning)\n",
      "C:\\Users\\kdpat\\AppData\\Local\\Continuum\\anaconda3\\lib\\site-packages\\sklearn\\linear_model\\logistic.py:432: FutureWarning: Default solver will be changed to 'lbfgs' in 0.22. Specify a solver to silence this warning.\n",
      "  FutureWarning)\n",
      "C:\\Users\\kdpat\\AppData\\Local\\Continuum\\anaconda3\\lib\\site-packages\\sklearn\\linear_model\\logistic.py:432: FutureWarning: Default solver will be changed to 'lbfgs' in 0.22. Specify a solver to silence this warning.\n",
      "  FutureWarning)\n",
      "C:\\Users\\kdpat\\AppData\\Local\\Continuum\\anaconda3\\lib\\site-packages\\sklearn\\linear_model\\logistic.py:432: FutureWarning: Default solver will be changed to 'lbfgs' in 0.22. Specify a solver to silence this warning.\n",
      "  FutureWarning)\n",
      "C:\\Users\\kdpat\\AppData\\Local\\Continuum\\anaconda3\\lib\\site-packages\\sklearn\\linear_model\\logistic.py:432: FutureWarning: Default solver will be changed to 'lbfgs' in 0.22. Specify a solver to silence this warning.\n",
      "  FutureWarning)\n",
      "C:\\Users\\kdpat\\AppData\\Local\\Continuum\\anaconda3\\lib\\site-packages\\sklearn\\linear_model\\logistic.py:432: FutureWarning: Default solver will be changed to 'lbfgs' in 0.22. Specify a solver to silence this warning.\n",
      "  FutureWarning)\n",
      "C:\\Users\\kdpat\\AppData\\Local\\Continuum\\anaconda3\\lib\\site-packages\\sklearn\\linear_model\\logistic.py:432: FutureWarning: Default solver will be changed to 'lbfgs' in 0.22. Specify a solver to silence this warning.\n",
      "  FutureWarning)\n",
      "C:\\Users\\kdpat\\AppData\\Local\\Continuum\\anaconda3\\lib\\site-packages\\sklearn\\linear_model\\logistic.py:432: FutureWarning: Default solver will be changed to 'lbfgs' in 0.22. Specify a solver to silence this warning.\n",
      "  FutureWarning)\n",
      "C:\\Users\\kdpat\\AppData\\Local\\Continuum\\anaconda3\\lib\\site-packages\\sklearn\\linear_model\\logistic.py:432: FutureWarning: Default solver will be changed to 'lbfgs' in 0.22. Specify a solver to silence this warning.\n",
      "  FutureWarning)\n",
      "C:\\Users\\kdpat\\AppData\\Local\\Continuum\\anaconda3\\lib\\site-packages\\sklearn\\linear_model\\logistic.py:432: FutureWarning: Default solver will be changed to 'lbfgs' in 0.22. Specify a solver to silence this warning.\n",
      "  FutureWarning)\n",
      "C:\\Users\\kdpat\\AppData\\Local\\Continuum\\anaconda3\\lib\\site-packages\\sklearn\\linear_model\\logistic.py:432: FutureWarning: Default solver will be changed to 'lbfgs' in 0.22. Specify a solver to silence this warning.\n",
      "  FutureWarning)\n",
      "C:\\Users\\kdpat\\AppData\\Local\\Continuum\\anaconda3\\lib\\site-packages\\sklearn\\linear_model\\logistic.py:432: FutureWarning: Default solver will be changed to 'lbfgs' in 0.22. Specify a solver to silence this warning.\n",
      "  FutureWarning)\n",
      "C:\\Users\\kdpat\\AppData\\Local\\Continuum\\anaconda3\\lib\\site-packages\\sklearn\\linear_model\\logistic.py:432: FutureWarning: Default solver will be changed to 'lbfgs' in 0.22. Specify a solver to silence this warning.\n",
      "  FutureWarning)\n",
      "C:\\Users\\kdpat\\AppData\\Local\\Continuum\\anaconda3\\lib\\site-packages\\sklearn\\linear_model\\logistic.py:432: FutureWarning: Default solver will be changed to 'lbfgs' in 0.22. Specify a solver to silence this warning.\n",
      "  FutureWarning)\n",
      "C:\\Users\\kdpat\\AppData\\Local\\Continuum\\anaconda3\\lib\\site-packages\\sklearn\\linear_model\\logistic.py:432: FutureWarning: Default solver will be changed to 'lbfgs' in 0.22. Specify a solver to silence this warning.\n",
      "  FutureWarning)\n",
      "C:\\Users\\kdpat\\AppData\\Local\\Continuum\\anaconda3\\lib\\site-packages\\sklearn\\linear_model\\logistic.py:432: FutureWarning: Default solver will be changed to 'lbfgs' in 0.22. Specify a solver to silence this warning.\n",
      "  FutureWarning)\n",
      "C:\\Users\\kdpat\\AppData\\Local\\Continuum\\anaconda3\\lib\\site-packages\\sklearn\\linear_model\\logistic.py:432: FutureWarning: Default solver will be changed to 'lbfgs' in 0.22. Specify a solver to silence this warning.\n",
      "  FutureWarning)\n",
      "C:\\Users\\kdpat\\AppData\\Local\\Continuum\\anaconda3\\lib\\site-packages\\sklearn\\linear_model\\logistic.py:432: FutureWarning: Default solver will be changed to 'lbfgs' in 0.22. Specify a solver to silence this warning.\n",
      "  FutureWarning)\n",
      "C:\\Users\\kdpat\\AppData\\Local\\Continuum\\anaconda3\\lib\\site-packages\\sklearn\\linear_model\\logistic.py:432: FutureWarning: Default solver will be changed to 'lbfgs' in 0.22. Specify a solver to silence this warning.\n",
      "  FutureWarning)\n",
      "C:\\Users\\kdpat\\AppData\\Local\\Continuum\\anaconda3\\lib\\site-packages\\sklearn\\linear_model\\logistic.py:432: FutureWarning: Default solver will be changed to 'lbfgs' in 0.22. Specify a solver to silence this warning.\n",
      "  FutureWarning)\n",
      "C:\\Users\\kdpat\\AppData\\Local\\Continuum\\anaconda3\\lib\\site-packages\\sklearn\\linear_model\\logistic.py:432: FutureWarning: Default solver will be changed to 'lbfgs' in 0.22. Specify a solver to silence this warning.\n",
      "  FutureWarning)\n",
      "C:\\Users\\kdpat\\AppData\\Local\\Continuum\\anaconda3\\lib\\site-packages\\sklearn\\linear_model\\logistic.py:432: FutureWarning: Default solver will be changed to 'lbfgs' in 0.22. Specify a solver to silence this warning.\n",
      "  FutureWarning)\n",
      "C:\\Users\\kdpat\\AppData\\Local\\Continuum\\anaconda3\\lib\\site-packages\\sklearn\\linear_model\\logistic.py:432: FutureWarning: Default solver will be changed to 'lbfgs' in 0.22. Specify a solver to silence this warning.\n",
      "  FutureWarning)\n",
      "C:\\Users\\kdpat\\AppData\\Local\\Continuum\\anaconda3\\lib\\site-packages\\sklearn\\linear_model\\logistic.py:432: FutureWarning: Default solver will be changed to 'lbfgs' in 0.22. Specify a solver to silence this warning.\n",
      "  FutureWarning)\n",
      "C:\\Users\\kdpat\\AppData\\Local\\Continuum\\anaconda3\\lib\\site-packages\\sklearn\\linear_model\\logistic.py:432: FutureWarning: Default solver will be changed to 'lbfgs' in 0.22. Specify a solver to silence this warning.\n",
      "  FutureWarning)\n",
      "C:\\Users\\kdpat\\AppData\\Local\\Continuum\\anaconda3\\lib\\site-packages\\sklearn\\linear_model\\logistic.py:432: FutureWarning: Default solver will be changed to 'lbfgs' in 0.22. Specify a solver to silence this warning.\n",
      "  FutureWarning)\n",
      "C:\\Users\\kdpat\\AppData\\Local\\Continuum\\anaconda3\\lib\\site-packages\\sklearn\\linear_model\\logistic.py:432: FutureWarning: Default solver will be changed to 'lbfgs' in 0.22. Specify a solver to silence this warning.\n",
      "  FutureWarning)\n",
      "C:\\Users\\kdpat\\AppData\\Local\\Continuum\\anaconda3\\lib\\site-packages\\sklearn\\linear_model\\logistic.py:432: FutureWarning: Default solver will be changed to 'lbfgs' in 0.22. Specify a solver to silence this warning.\n",
      "  FutureWarning)\n",
      "C:\\Users\\kdpat\\AppData\\Local\\Continuum\\anaconda3\\lib\\site-packages\\sklearn\\linear_model\\logistic.py:432: FutureWarning: Default solver will be changed to 'lbfgs' in 0.22. Specify a solver to silence this warning.\n",
      "  FutureWarning)\n",
      "C:\\Users\\kdpat\\AppData\\Local\\Continuum\\anaconda3\\lib\\site-packages\\sklearn\\linear_model\\logistic.py:432: FutureWarning: Default solver will be changed to 'lbfgs' in 0.22. Specify a solver to silence this warning.\n",
      "  FutureWarning)\n",
      "C:\\Users\\kdpat\\AppData\\Local\\Continuum\\anaconda3\\lib\\site-packages\\sklearn\\linear_model\\logistic.py:432: FutureWarning: Default solver will be changed to 'lbfgs' in 0.22. Specify a solver to silence this warning.\n",
      "  FutureWarning)\n"
     ]
    },
    {
     "name": "stdout",
     "output_type": "stream",
     "text": [
      "Best Train Accuracy score:  0.783433133732535\n",
      "Best parameters: LogisticRegression(C=1.5, class_weight=None, dual=False, fit_intercept=True,\n",
      "                   intercept_scaling=1, l1_ratio=None, max_iter=100,\n",
      "                   multi_class='warn', n_jobs=None, penalty='l1',\n",
      "                   random_state=0, solver='warn', tol=0.0001, verbose=0,\n",
      "                   warm_start=False)\n",
      "Best Test Accuracy score : 0.7844311377245509\n"
     ]
    },
    {
     "name": "stderr",
     "output_type": "stream",
     "text": [
      "C:\\Users\\kdpat\\AppData\\Local\\Continuum\\anaconda3\\lib\\site-packages\\sklearn\\linear_model\\logistic.py:432: FutureWarning: Default solver will be changed to 'lbfgs' in 0.22. Specify a solver to silence this warning.\n",
      "  FutureWarning)\n",
      "C:\\Users\\kdpat\\AppData\\Local\\Continuum\\anaconda3\\lib\\site-packages\\sklearn\\linear_model\\logistic.py:432: FutureWarning: Default solver will be changed to 'lbfgs' in 0.22. Specify a solver to silence this warning.\n",
      "  FutureWarning)\n",
      "C:\\Users\\kdpat\\AppData\\Local\\Continuum\\anaconda3\\lib\\site-packages\\sklearn\\linear_model\\logistic.py:432: FutureWarning: Default solver will be changed to 'lbfgs' in 0.22. Specify a solver to silence this warning.\n",
      "  FutureWarning)\n",
      "C:\\Users\\kdpat\\AppData\\Local\\Continuum\\anaconda3\\lib\\site-packages\\sklearn\\linear_model\\logistic.py:432: FutureWarning: Default solver will be changed to 'lbfgs' in 0.22. Specify a solver to silence this warning.\n",
      "  FutureWarning)\n",
      "C:\\Users\\kdpat\\AppData\\Local\\Continuum\\anaconda3\\lib\\site-packages\\sklearn\\linear_model\\logistic.py:432: FutureWarning: Default solver will be changed to 'lbfgs' in 0.22. Specify a solver to silence this warning.\n",
      "  FutureWarning)\n",
      "C:\\Users\\kdpat\\AppData\\Local\\Continuum\\anaconda3\\lib\\site-packages\\sklearn\\linear_model\\logistic.py:432: FutureWarning: Default solver will be changed to 'lbfgs' in 0.22. Specify a solver to silence this warning.\n",
      "  FutureWarning)\n",
      "C:\\Users\\kdpat\\AppData\\Local\\Continuum\\anaconda3\\lib\\site-packages\\sklearn\\linear_model\\logistic.py:432: FutureWarning: Default solver will be changed to 'lbfgs' in 0.22. Specify a solver to silence this warning.\n",
      "  FutureWarning)\n",
      "C:\\Users\\kdpat\\AppData\\Local\\Continuum\\anaconda3\\lib\\site-packages\\sklearn\\linear_model\\logistic.py:432: FutureWarning: Default solver will be changed to 'lbfgs' in 0.22. Specify a solver to silence this warning.\n",
      "  FutureWarning)\n",
      "C:\\Users\\kdpat\\AppData\\Local\\Continuum\\anaconda3\\lib\\site-packages\\sklearn\\linear_model\\logistic.py:432: FutureWarning: Default solver will be changed to 'lbfgs' in 0.22. Specify a solver to silence this warning.\n",
      "  FutureWarning)\n",
      "C:\\Users\\kdpat\\AppData\\Local\\Continuum\\anaconda3\\lib\\site-packages\\sklearn\\linear_model\\logistic.py:432: FutureWarning: Default solver will be changed to 'lbfgs' in 0.22. Specify a solver to silence this warning.\n",
      "  FutureWarning)\n",
      "C:\\Users\\kdpat\\AppData\\Local\\Continuum\\anaconda3\\lib\\site-packages\\sklearn\\linear_model\\logistic.py:432: FutureWarning: Default solver will be changed to 'lbfgs' in 0.22. Specify a solver to silence this warning.\n",
      "  FutureWarning)\n",
      "C:\\Users\\kdpat\\AppData\\Local\\Continuum\\anaconda3\\lib\\site-packages\\sklearn\\linear_model\\logistic.py:432: FutureWarning: Default solver will be changed to 'lbfgs' in 0.22. Specify a solver to silence this warning.\n",
      "  FutureWarning)\n",
      "C:\\Users\\kdpat\\AppData\\Local\\Continuum\\anaconda3\\lib\\site-packages\\sklearn\\linear_model\\logistic.py:432: FutureWarning: Default solver will be changed to 'lbfgs' in 0.22. Specify a solver to silence this warning.\n",
      "  FutureWarning)\n",
      "C:\\Users\\kdpat\\AppData\\Local\\Continuum\\anaconda3\\lib\\site-packages\\sklearn\\linear_model\\logistic.py:432: FutureWarning: Default solver will be changed to 'lbfgs' in 0.22. Specify a solver to silence this warning.\n",
      "  FutureWarning)\n",
      "C:\\Users\\kdpat\\AppData\\Local\\Continuum\\anaconda3\\lib\\site-packages\\sklearn\\linear_model\\logistic.py:432: FutureWarning: Default solver will be changed to 'lbfgs' in 0.22. Specify a solver to silence this warning.\n",
      "  FutureWarning)\n",
      "C:\\Users\\kdpat\\AppData\\Local\\Continuum\\anaconda3\\lib\\site-packages\\sklearn\\linear_model\\logistic.py:432: FutureWarning: Default solver will be changed to 'lbfgs' in 0.22. Specify a solver to silence this warning.\n",
      "  FutureWarning)\n",
      "C:\\Users\\kdpat\\AppData\\Local\\Continuum\\anaconda3\\lib\\site-packages\\sklearn\\linear_model\\logistic.py:432: FutureWarning: Default solver will be changed to 'lbfgs' in 0.22. Specify a solver to silence this warning.\n",
      "  FutureWarning)\n",
      "C:\\Users\\kdpat\\AppData\\Local\\Continuum\\anaconda3\\lib\\site-packages\\sklearn\\linear_model\\logistic.py:432: FutureWarning: Default solver will be changed to 'lbfgs' in 0.22. Specify a solver to silence this warning.\n",
      "  FutureWarning)\n",
      "C:\\Users\\kdpat\\AppData\\Local\\Continuum\\anaconda3\\lib\\site-packages\\sklearn\\linear_model\\logistic.py:432: FutureWarning: Default solver will be changed to 'lbfgs' in 0.22. Specify a solver to silence this warning.\n",
      "  FutureWarning)\n",
      "C:\\Users\\kdpat\\AppData\\Local\\Continuum\\anaconda3\\lib\\site-packages\\sklearn\\linear_model\\logistic.py:432: FutureWarning: Default solver will be changed to 'lbfgs' in 0.22. Specify a solver to silence this warning.\n",
      "  FutureWarning)\n",
      "C:\\Users\\kdpat\\AppData\\Local\\Continuum\\anaconda3\\lib\\site-packages\\sklearn\\linear_model\\logistic.py:432: FutureWarning: Default solver will be changed to 'lbfgs' in 0.22. Specify a solver to silence this warning.\n",
      "  FutureWarning)\n",
      "C:\\Users\\kdpat\\AppData\\Local\\Continuum\\anaconda3\\lib\\site-packages\\sklearn\\linear_model\\logistic.py:432: FutureWarning: Default solver will be changed to 'lbfgs' in 0.22. Specify a solver to silence this warning.\n",
      "  FutureWarning)\n",
      "C:\\Users\\kdpat\\AppData\\Local\\Continuum\\anaconda3\\lib\\site-packages\\sklearn\\linear_model\\logistic.py:432: FutureWarning: Default solver will be changed to 'lbfgs' in 0.22. Specify a solver to silence this warning.\n",
      "  FutureWarning)\n",
      "C:\\Users\\kdpat\\AppData\\Local\\Continuum\\anaconda3\\lib\\site-packages\\sklearn\\linear_model\\logistic.py:432: FutureWarning: Default solver will be changed to 'lbfgs' in 0.22. Specify a solver to silence this warning.\n",
      "  FutureWarning)\n",
      "C:\\Users\\kdpat\\AppData\\Local\\Continuum\\anaconda3\\lib\\site-packages\\sklearn\\linear_model\\logistic.py:432: FutureWarning: Default solver will be changed to 'lbfgs' in 0.22. Specify a solver to silence this warning.\n",
      "  FutureWarning)\n",
      "C:\\Users\\kdpat\\AppData\\Local\\Continuum\\anaconda3\\lib\\site-packages\\sklearn\\linear_model\\logistic.py:432: FutureWarning: Default solver will be changed to 'lbfgs' in 0.22. Specify a solver to silence this warning.\n",
      "  FutureWarning)\n",
      "C:\\Users\\kdpat\\AppData\\Local\\Continuum\\anaconda3\\lib\\site-packages\\sklearn\\linear_model\\logistic.py:432: FutureWarning: Default solver will be changed to 'lbfgs' in 0.22. Specify a solver to silence this warning.\n",
      "  FutureWarning)\n",
      "C:\\Users\\kdpat\\AppData\\Local\\Continuum\\anaconda3\\lib\\site-packages\\sklearn\\linear_model\\logistic.py:432: FutureWarning: Default solver will be changed to 'lbfgs' in 0.22. Specify a solver to silence this warning.\n",
      "  FutureWarning)\n"
     ]
    }
   ],
   "source": [
    "lreg=LogisticRegression(random_state = 0)\n",
    "penalty = ['l1', 'l2']\n",
    "# Create regularization hyperparameter space\n",
    "C = [0.001,0.01,0.1,0.2,0.8,1.2,1.5]\n",
    "hyperparameters = dict(C=C, penalty=penalty)\n",
    "\n",
    "# Create grid search using 5-fold cross validation\n",
    "GS_lreg = GridSearchCV(lreg, hyperparameters, cv=5, verbose=0)\n",
    "# Fit grid search\n",
    "LR_best_model = GS_lreg.fit(X_train, y_train)\n",
    "y_pred = GS_lreg.predict(X_test)\n",
    "\n",
    "acc = accuracy_score(y_test, y_pred)\n",
    "prec = precision_score(y_test, y_pred,pos_label='1')\n",
    "rec = recall_score(y_test, y_pred, pos_label='1')\n",
    "f1 = f1_score(y_test, y_pred,pos_label='1')\n",
    "\n",
    "model_results_lr = pd.DataFrame([['Logistic Regression_GridCV', acc, prec, rec, f1]],columns = ['Model', 'Accuracy', 'Precision', 'Recall', 'F1 Score'])\n",
    "Results_all = Results_all.append(model_results_lr, ignore_index = True)\n",
    "\n",
    "print(\"Best Train Accuracy score: \",GS_lreg.best_score_)\n",
    "print(\"Best parameters:\", GS_lreg.best_estimator_)\n",
    "print(\"Best Test Accuracy score :\", accuracy_score(y_test, y_pred))"
   ]
  },
  {
   "cell_type": "code",
   "execution_count": 397,
   "metadata": {},
   "outputs": [
    {
     "data": {
      "text/plain": [
       "<matplotlib.axes._subplots.AxesSubplot at 0x13d095b10>"
      ]
     },
     "execution_count": 397,
     "metadata": {},
     "output_type": "execute_result"
    },
    {
     "data": {
      "image/png": "[encoded data removed]",
      "text/plain": [
       "<Figure size 432x288 with 1 Axes>"
      ]
     },
     "metadata": {
      "needs_background": "light"
     },
     "output_type": "display_data"
    }
   ],
   "source": [
    "sns.lineplot(x='param_C', y='mean_test_score', data=pd.DataFrame(GS_lreg.cv_results_))"
   ]
  },
  {
   "cell_type": "markdown",
   "metadata": {},
   "source": [
    "## Method3: Linear SVC - Gridsearch with Cross Validation"
   ]
  },
  {
   "cell_type": "code",
   "execution_count": 454,
   "metadata": {},
   "outputs": [
    {
     "name": "stdout",
     "output_type": "stream",
     "text": [
      "Fitting 5 folds for each of 6 candidates, totalling 30 fits\n",
      "[CV] C=0.001 .........................................................\n",
      "[CV] ............................. C=0.001, score=0.734, total=   0.0s\n",
      "[CV] C=0.001 .........................................................\n",
      "[CV] ............................. C=0.001, score=0.704, total=   0.0s\n",
      "[CV] C=0.001 .........................................................\n",
      "[CV] ............................. C=0.001, score=0.695, total=   0.0s\n",
      "[CV] C=0.001 .........................................................\n",
      "[CV] ............................. C=0.001, score=0.703, total=   0.0s\n",
      "[CV] C=0.001 .........................................................\n",
      "[CV] ............................. C=0.001, score=0.697, total=   0.0s\n",
      "[CV] C=0.01 ..........................................................\n",
      "[CV] .............................. C=0.01, score=0.764, total=   0.0s\n",
      "[CV] C=0.01 ..........................................................\n",
      "[CV] .............................. C=0.01, score=0.798, total=   0.0s\n",
      "[CV] C=0.01 ..........................................................\n",
      "[CV] .............................. C=0.01, score=0.739, total=   0.0s\n",
      "[CV] C=0.01 ..........................................................\n",
      "[CV] .............................. C=0.01, score=0.792, total=   0.0s\n",
      "[CV] C=0.01 ..........................................................\n",
      "[CV] .............................. C=0.01, score=0.736, total=   0.0s\n",
      "[CV] C=0.1 ...........................................................\n",
      "[CV] ............................... C=0.1, score=0.788, total=   0.0s\n",
      "[CV] C=0.1 ...........................................................\n",
      "[CV] ............................... C=0.1, score=0.813, total=   0.0s\n",
      "[CV] C=0.1 ...........................................................\n",
      "[CV] ............................... C=0.1, score=0.724, total=   0.0s\n",
      "[CV] C=0.1 ...........................................................\n",
      "[CV] ............................... C=0.1, score=0.812, total=   0.0s\n",
      "[CV] C=0.1 ...........................................................\n",
      "[CV] ............................... C=0.1, score=0.746, total=   0.0s\n",
      "[CV] C=1 .............................................................\n",
      "[CV] ................................. C=1, score=0.788, total=   0.0s\n",
      "[CV] C=1 .............................................................\n",
      "[CV] ................................. C=1, score=0.808, total=   0.0s\n",
      "[CV] C=1 .............................................................\n",
      "[CV] ................................. C=1, score=0.719, total=   0.0s\n",
      "[CV] C=1 .............................................................\n",
      "[CV] ................................. C=1, score=0.807, total=   0.0s\n",
      "[CV] C=1 .............................................................\n",
      "[CV] ................................. C=1, score=0.741, total=   0.0s\n",
      "[CV] C=10 ............................................................\n",
      "[CV] ................................ C=10, score=0.788, total=   0.0s\n",
      "[CV] C=10 ............................................................\n",
      "[CV] ................................ C=10, score=0.808, total=   0.0s\n",
      "[CV] C=10 ............................................................\n"
     ]
    },
    {
     "name": "stderr",
     "output_type": "stream",
     "text": [
      "[Parallel(n_jobs=1)]: Using backend SequentialBackend with 1 concurrent workers.\n",
      "[Parallel(n_jobs=1)]: Done   1 out of   1 | elapsed:    0.0s remaining:    0.0s\n",
      "[Parallel(n_jobs=1)]: Done   2 out of   2 | elapsed:    0.0s remaining:    0.0s\n",
      "/Users/swetha/opt/anaconda3/lib/python3.7/site-packages/sklearn/svm/base.py:929: ConvergenceWarning: Liblinear failed to converge, increase the number of iterations.\n",
      "  \"the number of iterations.\", ConvergenceWarning)\n",
      "/Users/swetha/opt/anaconda3/lib/python3.7/site-packages/sklearn/svm/base.py:929: ConvergenceWarning: Liblinear failed to converge, increase the number of iterations.\n",
      "  \"the number of iterations.\", ConvergenceWarning)\n",
      "/Users/swetha/opt/anaconda3/lib/python3.7/site-packages/sklearn/svm/base.py:929: ConvergenceWarning: Liblinear failed to converge, increase the number of iterations.\n",
      "  \"the number of iterations.\", ConvergenceWarning)\n",
      "/Users/swetha/opt/anaconda3/lib/python3.7/site-packages/sklearn/svm/base.py:929: ConvergenceWarning: Liblinear failed to converge, increase the number of iterations.\n",
      "  \"the number of iterations.\", ConvergenceWarning)\n",
      "/Users/swetha/opt/anaconda3/lib/python3.7/site-packages/sklearn/svm/base.py:929: ConvergenceWarning: Liblinear failed to converge, increase the number of iterations.\n",
      "  \"the number of iterations.\", ConvergenceWarning)\n",
      "/Users/swetha/opt/anaconda3/lib/python3.7/site-packages/sklearn/svm/base.py:929: ConvergenceWarning: Liblinear failed to converge, increase the number of iterations.\n",
      "  \"the number of iterations.\", ConvergenceWarning)\n",
      "/Users/swetha/opt/anaconda3/lib/python3.7/site-packages/sklearn/svm/base.py:929: ConvergenceWarning: Liblinear failed to converge, increase the number of iterations.\n",
      "  \"the number of iterations.\", ConvergenceWarning)\n",
      "/Users/swetha/opt/anaconda3/lib/python3.7/site-packages/sklearn/svm/base.py:929: ConvergenceWarning: Liblinear failed to converge, increase the number of iterations.\n",
      "  \"the number of iterations.\", ConvergenceWarning)\n",
      "/Users/swetha/opt/anaconda3/lib/python3.7/site-packages/sklearn/svm/base.py:929: ConvergenceWarning: Liblinear failed to converge, increase the number of iterations.\n",
      "  \"the number of iterations.\", ConvergenceWarning)\n"
     ]
    },
    {
     "name": "stdout",
     "output_type": "stream",
     "text": [
      "[CV] ................................ C=10, score=0.724, total=   0.0s\n",
      "[CV] C=10 ............................................................\n",
      "[CV] ................................ C=10, score=0.812, total=   0.0s\n",
      "[CV] C=10 ............................................................\n",
      "[CV] ................................ C=10, score=0.741, total=   0.0s\n",
      "[CV] C=100 ...........................................................\n",
      "[CV] ............................... C=100, score=0.783, total=   0.0s\n",
      "[CV] C=100 ...........................................................\n",
      "[CV] ............................... C=100, score=0.793, total=   0.0s\n",
      "[CV] C=100 ...........................................................\n",
      "[CV] ............................... C=100, score=0.724, total=   0.0s\n",
      "[CV] C=100 ...........................................................\n",
      "[CV] ............................... C=100, score=0.807, total=   0.0s\n",
      "[CV] C=100 ...........................................................\n",
      "[CV] ............................... C=100, score=0.716, total=   0.0s\n",
      "Best Train Accuracy score:  0.7766798418972332\n",
      "Best parameters: LinearSVC(C=0.1, class_weight=None, dual=True, fit_intercept=True,\n",
      "          intercept_scaling=1, loss='squared_hinge', max_iter=1000,\n",
      "          multi_class='ovr', penalty='l2', random_state=None, tol=0.0001,\n",
      "          verbose=0)\n",
      "Best Test Accuracy score : 0.7958579881656804\n"
     ]
    },
    {
     "name": "stderr",
     "output_type": "stream",
     "text": [
      "/Users/swetha/opt/anaconda3/lib/python3.7/site-packages/sklearn/svm/base.py:929: ConvergenceWarning: Liblinear failed to converge, increase the number of iterations.\n",
      "  \"the number of iterations.\", ConvergenceWarning)\n",
      "[Parallel(n_jobs=1)]: Done  30 out of  30 | elapsed:    0.4s finished\n"
     ]
    }
   ],
   "source": [
    "classifier_LinSVM = LinearSVC()\n",
    "# Grid serach for hyperparameter tuning\n",
    "param_grid_svm = {'C': [0.001, 0.01, 0.10, 1, 10,100]}  \n",
    " \n",
    "Linsvm_grid = GridSearchCV(classifier_LinSVM, param_grid_svm, refit = True, verbose = 3, cv = 5) \n",
    "  \n",
    "# fitting the model for grid search \n",
    "LinSVM_best_model= Linsvm_grid.fit(X_train, y_train) \n",
    "#Predict test data using best model\n",
    "y_pred=LinSVM_best_model.predict(X_test)\n",
    "\n",
    "acc = accuracy_score(y_test, y_pred)\n",
    "prec = precision_score(y_test, y_pred,pos_label='1')\n",
    "rec = recall_score(y_test, y_pred, pos_label='1')\n",
    "f1 = f1_score(y_test, y_pred,pos_label='1')\n",
    "\n",
    "\n",
    "model_results_Linsvm = pd.DataFrame([['LinearSVM_GridCV', acc, prec, rec, f1]],\n",
    "               columns = ['Model', 'Accuracy', 'Precision', 'Recall', 'F1 Score'])\n",
    "Results_all = Results_all.append(model_results_Linsvm, ignore_index = True)\n",
    "\n",
    "print(\"Best Train Accuracy score: \",Linsvm_grid.best_score_)\n",
    "print(\"Best parameters:\", Linsvm_grid.best_estimator_)\n",
    "print(\"Best Test Accuracy score :\", accuracy_score(y_test, y_pred))"
   ]
  },
  {
   "cell_type": "code",
   "execution_count": 399,
   "metadata": {},
   "outputs": [
    {
     "data": {
      "text/plain": [
       "<matplotlib.axes._subplots.AxesSubplot at 0x13cd9b990>"
      ]
     },
     "execution_count": 399,
     "metadata": {},
     "output_type": "execute_result"
    },
    {
     "data": {
      "image/png": "[encoded data removed]",
      "text/plain": [
       "<Figure size 432x288 with 1 Axes>"
      ]
     },
     "metadata": {
      "needs_background": "light"
     },
     "output_type": "display_data"
    }
   ],
   "source": [
    "sns.lineplot(x='param_C', y='mean_test_score', data=pd.DataFrame(Linsvm_grid.cv_results_))"
   ]
  },
  {
   "cell_type": "markdown",
   "metadata": {},
   "source": [
    "## Method4: SVM_lin - Grid search with Cross Validation"
   ]
  },
  {
   "cell_type": "code",
   "execution_count": 52,
   "metadata": {},
   "outputs": [
    {
     "name": "stdout",
     "output_type": "stream",
     "text": [
      "Fitting 5 folds for each of 35 candidates, totalling 175 fits\n",
      "[CV] C=0.001, gamma=1, kernel=linear .................................\n",
      "[CV] ..... C=0.001, gamma=1, kernel=linear, score=0.530, total=   0.0s\n",
      "[CV] C=0.001, gamma=1, kernel=linear .................................\n",
      "[CV] ..... C=0.001, gamma=1, kernel=linear, score=0.530, total=   0.0s\n",
      "[CV] C=0.001, gamma=1, kernel=linear .................................\n",
      "[CV] ..... C=0.001, gamma=1, kernel=linear, score=0.530, total=   0.0s\n",
      "[CV] C=0.001, gamma=1, kernel=linear .................................\n",
      "[CV] ..... C=0.001, gamma=1, kernel=linear, score=0.530, total=   0.0s\n",
      "[CV] C=0.001, gamma=1, kernel=linear .................................\n",
      "[CV] ..... C=0.001, gamma=1, kernel=linear, score=0.530, total=   0.0s\n",
      "[CV] C=0.001, gamma=0.1, kernel=linear ...............................\n",
      "[CV] ... C=0.001, gamma=0.1, kernel=linear, score=0.530, total=   0.0s\n",
      "[CV] C=0.001, gamma=0.1, kernel=linear ...............................\n",
      "[CV] ... C=0.001, gamma=0.1, kernel=linear, score=0.530, total=   0.0s\n",
      "[CV] C=0.001, gamma=0.1, kernel=linear ...............................\n",
      "[CV] ... C=0.001, gamma=0.1, kernel=linear, score=0.530, total=   0.0s\n",
      "[CV] C=0.001, gamma=0.1, kernel=linear ...............................\n",
      "[CV] ... C=0.001, gamma=0.1, kernel=linear, score=0.530, total=   0.0s\n",
      "[CV] C=0.001, gamma=0.1, kernel=linear ...............................\n",
      "[CV] ... C=0.001, gamma=0.1, kernel=linear, score=0.530, total=   0.0s\n",
      "[CV] C=0.001, gamma=0.01, kernel=linear ..............................\n"
     ]
    },
    {
     "name": "stderr",
     "output_type": "stream",
     "text": [
      "[Parallel(n_jobs=1)]: Using backend SequentialBackend with 1 concurrent workers.\n",
      "[Parallel(n_jobs=1)]: Done   1 out of   1 | elapsed:    0.0s remaining:    0.0s\n",
      "[Parallel(n_jobs=1)]: Done   2 out of   2 | elapsed:    0.0s remaining:    0.0s\n"
     ]
    },
    {
     "name": "stdout",
     "output_type": "stream",
     "text": [
      "[CV] .. C=0.001, gamma=0.01, kernel=linear, score=0.530, total=   0.0s\n",
      "[CV] C=0.001, gamma=0.01, kernel=linear ..............................\n",
      "[CV] .. C=0.001, gamma=0.01, kernel=linear, score=0.530, total=   0.0s\n",
      "[CV] C=0.001, gamma=0.01, kernel=linear ..............................\n",
      "[CV] .. C=0.001, gamma=0.01, kernel=linear, score=0.530, total=   0.0s\n",
      "[CV] C=0.001, gamma=0.01, kernel=linear ..............................\n",
      "[CV] .. C=0.001, gamma=0.01, kernel=linear, score=0.530, total=   0.0s\n",
      "[CV] C=0.001, gamma=0.01, kernel=linear ..............................\n",
      "[CV] .. C=0.001, gamma=0.01, kernel=linear, score=0.530, total=   0.0s\n",
      "[CV] C=0.001, gamma=0.001, kernel=linear .............................\n",
      "[CV] . C=0.001, gamma=0.001, kernel=linear, score=0.530, total=   0.0s\n",
      "[CV] C=0.001, gamma=0.001, kernel=linear .............................\n",
      "[CV] . C=0.001, gamma=0.001, kernel=linear, score=0.530, total=   0.0s\n",
      "[CV] C=0.001, gamma=0.001, kernel=linear .............................\n",
      "[CV] . C=0.001, gamma=0.001, kernel=linear, score=0.530, total=   0.0s\n",
      "[CV] C=0.001, gamma=0.001, kernel=linear .............................\n",
      "[CV] . C=0.001, gamma=0.001, kernel=linear, score=0.530, total=   0.0s\n",
      "[CV] C=0.001, gamma=0.001, kernel=linear .............................\n",
      "[CV] . C=0.001, gamma=0.001, kernel=linear, score=0.530, total=   0.0s\n",
      "[CV] C=0.001, gamma=0.0001, kernel=linear ............................\n",
      "[CV]  C=0.001, gamma=0.0001, kernel=linear, score=0.530, total=   0.0s\n",
      "[CV] C=0.001, gamma=0.0001, kernel=linear ............................\n",
      "[CV]  C=0.001, gamma=0.0001, kernel=linear, score=0.530, total=   0.0s\n",
      "[CV] C=0.001, gamma=0.0001, kernel=linear ............................\n",
      "[CV]  C=0.001, gamma=0.0001, kernel=linear, score=0.530, total=   0.0s\n",
      "[CV] C=0.001, gamma=0.0001, kernel=linear ............................\n",
      "[CV]  C=0.001, gamma=0.0001, kernel=linear, score=0.530, total=   0.0s\n",
      "[CV] C=0.001, gamma=0.0001, kernel=linear ............................\n",
      "[CV]  C=0.001, gamma=0.0001, kernel=linear, score=0.530, total=   0.0s\n",
      "[CV] C=0.01, gamma=1, kernel=linear ..................................\n",
      "[CV] ...... C=0.01, gamma=1, kernel=linear, score=0.782, total=   0.0s\n",
      "[CV] C=0.01, gamma=1, kernel=linear ..................................\n",
      "[CV] ...... C=0.01, gamma=1, kernel=linear, score=0.735, total=   0.0s\n",
      "[CV] C=0.01, gamma=1, kernel=linear ..................................\n",
      "[CV] ...... C=0.01, gamma=1, kernel=linear, score=0.695, total=   0.0s\n",
      "[CV] C=0.01, gamma=1, kernel=linear ..................................\n",
      "[CV] ...... C=0.01, gamma=1, kernel=linear, score=0.725, total=   0.0s\n",
      "[CV] C=0.01, gamma=1, kernel=linear ..................................\n",
      "[CV] ...... C=0.01, gamma=1, kernel=linear, score=0.695, total=   0.0s\n",
      "[CV] C=0.01, gamma=0.1, kernel=linear ................................\n",
      "[CV] .... C=0.01, gamma=0.1, kernel=linear, score=0.782, total=   0.0s\n",
      "[CV] C=0.01, gamma=0.1, kernel=linear ................................\n",
      "[CV] .... C=0.01, gamma=0.1, kernel=linear, score=0.735, total=   0.0s\n",
      "[CV] C=0.01, gamma=0.1, kernel=linear ................................\n",
      "[CV] .... C=0.01, gamma=0.1, kernel=linear, score=0.695, total=   0.0s\n",
      "[CV] C=0.01, gamma=0.1, kernel=linear ................................\n",
      "[CV] .... C=0.01, gamma=0.1, kernel=linear, score=0.725, total=   0.0s\n",
      "[CV] C=0.01, gamma=0.1, kernel=linear ................................\n",
      "[CV] .... C=0.01, gamma=0.1, kernel=linear, score=0.695, total=   0.0s\n",
      "[CV] C=0.01, gamma=0.01, kernel=linear ...............................\n",
      "[CV] ... C=0.01, gamma=0.01, kernel=linear, score=0.782, total=   0.0s\n",
      "[CV] C=0.01, gamma=0.01, kernel=linear ...............................\n",
      "[CV] ... C=0.01, gamma=0.01, kernel=linear, score=0.735, total=   0.0s\n",
      "[CV] C=0.01, gamma=0.01, kernel=linear ...............................\n",
      "[CV] ... C=0.01, gamma=0.01, kernel=linear, score=0.695, total=   0.0s\n",
      "[CV] C=0.01, gamma=0.01, kernel=linear ...............................\n",
      "[CV] ... C=0.01, gamma=0.01, kernel=linear, score=0.725, total=   0.0s\n",
      "[CV] C=0.01, gamma=0.01, kernel=linear ...............................\n",
      "[CV] ... C=0.01, gamma=0.01, kernel=linear, score=0.695, total=   0.0s\n",
      "[CV] C=0.01, gamma=0.001, kernel=linear ..............................\n",
      "[CV] .. C=0.01, gamma=0.001, kernel=linear, score=0.782, total=   0.0s\n",
      "[CV] C=0.01, gamma=0.001, kernel=linear ..............................\n",
      "[CV] .. C=0.01, gamma=0.001, kernel=linear, score=0.735, total=   0.0s\n",
      "[CV] C=0.01, gamma=0.001, kernel=linear ..............................\n",
      "[CV] .. C=0.01, gamma=0.001, kernel=linear, score=0.695, total=   0.0s\n",
      "[CV] C=0.01, gamma=0.001, kernel=linear ..............................\n",
      "[CV] .. C=0.01, gamma=0.001, kernel=linear, score=0.725, total=   0.0s\n",
      "[CV] C=0.01, gamma=0.001, kernel=linear ..............................\n",
      "[CV] .. C=0.01, gamma=0.001, kernel=linear, score=0.695, total=   0.0s\n",
      "[CV] C=0.01, gamma=0.0001, kernel=linear .............................\n",
      "[CV] . C=0.01, gamma=0.0001, kernel=linear, score=0.782, total=   0.0s\n",
      "[CV] C=0.01, gamma=0.0001, kernel=linear .............................\n",
      "[CV] . C=0.01, gamma=0.0001, kernel=linear, score=0.735, total=   0.0s\n",
      "[CV] C=0.01, gamma=0.0001, kernel=linear .............................\n",
      "[CV] . C=0.01, gamma=0.0001, kernel=linear, score=0.695, total=   0.0s\n",
      "[CV] C=0.01, gamma=0.0001, kernel=linear .............................\n",
      "[CV] . C=0.01, gamma=0.0001, kernel=linear, score=0.725, total=   0.0s\n",
      "[CV] C=0.01, gamma=0.0001, kernel=linear .............................\n",
      "[CV] . C=0.01, gamma=0.0001, kernel=linear, score=0.695, total=   0.0s\n",
      "[CV] C=0.1, gamma=1, kernel=linear ...................................\n",
      "[CV] ....... C=0.1, gamma=1, kernel=linear, score=0.812, total=   0.0s\n",
      "[CV] C=0.1, gamma=1, kernel=linear ...................................\n",
      "[CV] ....... C=0.1, gamma=1, kernel=linear, score=0.775, total=   0.0s\n",
      "[CV] C=0.1, gamma=1, kernel=linear ...................................\n",
      "[CV] ....... C=0.1, gamma=1, kernel=linear, score=0.760, total=   0.0s\n",
      "[CV] C=0.1, gamma=1, kernel=linear ...................................\n",
      "[CV] ....... C=0.1, gamma=1, kernel=linear, score=0.790, total=   0.0s\n",
      "[CV] C=0.1, gamma=1, kernel=linear ...................................\n",
      "[CV] ....... C=0.1, gamma=1, kernel=linear, score=0.755, total=   0.0s\n",
      "[CV] C=0.1, gamma=0.1, kernel=linear .................................\n",
      "[CV] ..... C=0.1, gamma=0.1, kernel=linear, score=0.812, total=   0.0s\n",
      "[CV] C=0.1, gamma=0.1, kernel=linear .................................\n",
      "[CV] ..... C=0.1, gamma=0.1, kernel=linear, score=0.775, total=   0.0s\n",
      "[CV] C=0.1, gamma=0.1, kernel=linear .................................\n",
      "[CV] ..... C=0.1, gamma=0.1, kernel=linear, score=0.760, total=   0.0s\n",
      "[CV] C=0.1, gamma=0.1, kernel=linear .................................\n",
      "[CV] ..... C=0.1, gamma=0.1, kernel=linear, score=0.790, total=   0.0s\n",
      "[CV] C=0.1, gamma=0.1, kernel=linear .................................\n",
      "[CV] ..... C=0.1, gamma=0.1, kernel=linear, score=0.755, total=   0.0s\n",
      "[CV] C=0.1, gamma=0.01, kernel=linear ................................\n",
      "[CV] .... C=0.1, gamma=0.01, kernel=linear, score=0.812, total=   0.0s\n",
      "[CV] C=0.1, gamma=0.01, kernel=linear ................................\n",
      "[CV] .... C=0.1, gamma=0.01, kernel=linear, score=0.775, total=   0.0s\n",
      "[CV] C=0.1, gamma=0.01, kernel=linear ................................\n",
      "[CV] .... C=0.1, gamma=0.01, kernel=linear, score=0.760, total=   0.0s\n",
      "[CV] C=0.1, gamma=0.01, kernel=linear ................................\n",
      "[CV] .... C=0.1, gamma=0.01, kernel=linear, score=0.790, total=   0.0s\n",
      "[CV] C=0.1, gamma=0.01, kernel=linear ................................\n",
      "[CV] .... C=0.1, gamma=0.01, kernel=linear, score=0.755, total=   0.0s\n",
      "[CV] C=0.1, gamma=0.001, kernel=linear ...............................\n",
      "[CV] ... C=0.1, gamma=0.001, kernel=linear, score=0.812, total=   0.0s\n",
      "[CV] C=0.1, gamma=0.001, kernel=linear ...............................\n",
      "[CV] ... C=0.1, gamma=0.001, kernel=linear, score=0.775, total=   0.0s\n",
      "[CV] C=0.1, gamma=0.001, kernel=linear ...............................\n",
      "[CV] ... C=0.1, gamma=0.001, kernel=linear, score=0.760, total=   0.0s\n",
      "[CV] C=0.1, gamma=0.001, kernel=linear ...............................\n",
      "[CV] ... C=0.1, gamma=0.001, kernel=linear, score=0.790, total=   0.0s\n",
      "[CV] C=0.1, gamma=0.001, kernel=linear ...............................\n",
      "[CV] ... C=0.1, gamma=0.001, kernel=linear, score=0.755, total=   0.0s\n",
      "[CV] C=0.1, gamma=0.0001, kernel=linear ..............................\n",
      "[CV] .. C=0.1, gamma=0.0001, kernel=linear, score=0.812, total=   0.0s\n",
      "[CV] C=0.1, gamma=0.0001, kernel=linear ..............................\n",
      "[CV] .. C=0.1, gamma=0.0001, kernel=linear, score=0.775, total=   0.0s\n",
      "[CV] C=0.1, gamma=0.0001, kernel=linear ..............................\n",
      "[CV] .. C=0.1, gamma=0.0001, kernel=linear, score=0.760, total=   0.0s\n",
      "[CV] C=0.1, gamma=0.0001, kernel=linear ..............................\n",
      "[CV] .. C=0.1, gamma=0.0001, kernel=linear, score=0.790, total=   0.0s\n",
      "[CV] C=0.1, gamma=0.0001, kernel=linear ..............................\n",
      "[CV] .. C=0.1, gamma=0.0001, kernel=linear, score=0.755, total=   0.0s\n",
      "[CV] C=1, gamma=1, kernel=linear .....................................\n",
      "[CV] ......... C=1, gamma=1, kernel=linear, score=0.797, total=   0.0s\n",
      "[CV] C=1, gamma=1, kernel=linear .....................................\n",
      "[CV] ......... C=1, gamma=1, kernel=linear, score=0.765, total=   0.0s\n",
      "[CV] C=1, gamma=1, kernel=linear .....................................\n",
      "[CV] ......... C=1, gamma=1, kernel=linear, score=0.765, total=   0.0s\n",
      "[CV] C=1, gamma=1, kernel=linear .....................................\n",
      "[CV] ......... C=1, gamma=1, kernel=linear, score=0.795, total=   0.0s\n",
      "[CV] C=1, gamma=1, kernel=linear .....................................\n"
     ]
    },
    {
     "name": "stdout",
     "output_type": "stream",
     "text": [
      "[CV] ......... C=1, gamma=1, kernel=linear, score=0.760, total=   0.0s\n",
      "[CV] C=1, gamma=0.1, kernel=linear ...................................\n",
      "[CV] ....... C=1, gamma=0.1, kernel=linear, score=0.797, total=   0.0s\n",
      "[CV] C=1, gamma=0.1, kernel=linear ...................................\n",
      "[CV] ....... C=1, gamma=0.1, kernel=linear, score=0.765, total=   0.0s\n",
      "[CV] C=1, gamma=0.1, kernel=linear ...................................\n",
      "[CV] ....... C=1, gamma=0.1, kernel=linear, score=0.765, total=   0.0s\n",
      "[CV] C=1, gamma=0.1, kernel=linear ...................................\n",
      "[CV] ....... C=1, gamma=0.1, kernel=linear, score=0.795, total=   0.0s\n",
      "[CV] C=1, gamma=0.1, kernel=linear ...................................\n",
      "[CV] ....... C=1, gamma=0.1, kernel=linear, score=0.760, total=   0.0s\n",
      "[CV] C=1, gamma=0.01, kernel=linear ..................................\n",
      "[CV] ...... C=1, gamma=0.01, kernel=linear, score=0.797, total=   0.0s\n",
      "[CV] C=1, gamma=0.01, kernel=linear ..................................\n",
      "[CV] ...... C=1, gamma=0.01, kernel=linear, score=0.765, total=   0.0s\n",
      "[CV] C=1, gamma=0.01, kernel=linear ..................................\n",
      "[CV] ...... C=1, gamma=0.01, kernel=linear, score=0.765, total=   0.0s\n",
      "[CV] C=1, gamma=0.01, kernel=linear ..................................\n",
      "[CV] ...... C=1, gamma=0.01, kernel=linear, score=0.795, total=   0.0s\n",
      "[CV] C=1, gamma=0.01, kernel=linear ..................................\n",
      "[CV] ...... C=1, gamma=0.01, kernel=linear, score=0.760, total=   0.0s\n",
      "[CV] C=1, gamma=0.001, kernel=linear .................................\n",
      "[CV] ..... C=1, gamma=0.001, kernel=linear, score=0.797, total=   0.0s\n",
      "[CV] C=1, gamma=0.001, kernel=linear .................................\n",
      "[CV] ..... C=1, gamma=0.001, kernel=linear, score=0.765, total=   0.0s\n",
      "[CV] C=1, gamma=0.001, kernel=linear .................................\n",
      "[CV] ..... C=1, gamma=0.001, kernel=linear, score=0.765, total=   0.0s\n",
      "[CV] C=1, gamma=0.001, kernel=linear .................................\n",
      "[CV] ..... C=1, gamma=0.001, kernel=linear, score=0.795, total=   0.0s\n",
      "[CV] C=1, gamma=0.001, kernel=linear .................................\n",
      "[CV] ..... C=1, gamma=0.001, kernel=linear, score=0.760, total=   0.0s\n",
      "[CV] C=1, gamma=0.0001, kernel=linear ................................\n",
      "[CV] .... C=1, gamma=0.0001, kernel=linear, score=0.797, total=   0.0s\n",
      "[CV] C=1, gamma=0.0001, kernel=linear ................................\n",
      "[CV] .... C=1, gamma=0.0001, kernel=linear, score=0.765, total=   0.0s\n",
      "[CV] C=1, gamma=0.0001, kernel=linear ................................\n",
      "[CV] .... C=1, gamma=0.0001, kernel=linear, score=0.765, total=   0.0s\n",
      "[CV] C=1, gamma=0.0001, kernel=linear ................................\n",
      "[CV] .... C=1, gamma=0.0001, kernel=linear, score=0.795, total=   0.0s\n",
      "[CV] C=1, gamma=0.0001, kernel=linear ................................\n",
      "[CV] .... C=1, gamma=0.0001, kernel=linear, score=0.760, total=   0.0s\n",
      "[CV] C=10, gamma=1, kernel=linear ....................................\n",
      "[CV] ........ C=10, gamma=1, kernel=linear, score=0.787, total=   0.0s\n",
      "[CV] C=10, gamma=1, kernel=linear ....................................\n",
      "[CV] ........ C=10, gamma=1, kernel=linear, score=0.770, total=   0.0s\n",
      "[CV] C=10, gamma=1, kernel=linear ....................................\n",
      "[CV] ........ C=10, gamma=1, kernel=linear, score=0.755, total=   0.0s\n",
      "[CV] C=10, gamma=1, kernel=linear ....................................\n",
      "[CV] ........ C=10, gamma=1, kernel=linear, score=0.800, total=   0.0s\n",
      "[CV] C=10, gamma=1, kernel=linear ....................................\n",
      "[CV] ........ C=10, gamma=1, kernel=linear, score=0.760, total=   0.0s\n",
      "[CV] C=10, gamma=0.1, kernel=linear ..................................\n",
      "[CV] ...... C=10, gamma=0.1, kernel=linear, score=0.787, total=   0.0s\n",
      "[CV] C=10, gamma=0.1, kernel=linear ..................................\n",
      "[CV] ...... C=10, gamma=0.1, kernel=linear, score=0.770, total=   0.0s\n",
      "[CV] C=10, gamma=0.1, kernel=linear ..................................\n",
      "[CV] ...... C=10, gamma=0.1, kernel=linear, score=0.755, total=   0.0s\n",
      "[CV] C=10, gamma=0.1, kernel=linear ..................................\n",
      "[CV] ...... C=10, gamma=0.1, kernel=linear, score=0.800, total=   0.0s\n",
      "[CV] C=10, gamma=0.1, kernel=linear ..................................\n",
      "[CV] ...... C=10, gamma=0.1, kernel=linear, score=0.760, total=   0.0s\n",
      "[CV] C=10, gamma=0.01, kernel=linear .................................\n",
      "[CV] ..... C=10, gamma=0.01, kernel=linear, score=0.787, total=   0.0s\n",
      "[CV] C=10, gamma=0.01, kernel=linear .................................\n",
      "[CV] ..... C=10, gamma=0.01, kernel=linear, score=0.770, total=   0.0s\n",
      "[CV] C=10, gamma=0.01, kernel=linear .................................\n",
      "[CV] ..... C=10, gamma=0.01, kernel=linear, score=0.755, total=   0.0s\n",
      "[CV] C=10, gamma=0.01, kernel=linear .................................\n",
      "[CV] ..... C=10, gamma=0.01, kernel=linear, score=0.800, total=   0.0s\n",
      "[CV] C=10, gamma=0.01, kernel=linear .................................\n",
      "[CV] ..... C=10, gamma=0.01, kernel=linear, score=0.760, total=   0.0s\n",
      "[CV] C=10, gamma=0.001, kernel=linear ................................\n",
      "[CV] .... C=10, gamma=0.001, kernel=linear, score=0.787, total=   0.0s\n",
      "[CV] C=10, gamma=0.001, kernel=linear ................................\n",
      "[CV] .... C=10, gamma=0.001, kernel=linear, score=0.770, total=   0.0s\n",
      "[CV] C=10, gamma=0.001, kernel=linear ................................\n",
      "[CV] .... C=10, gamma=0.001, kernel=linear, score=0.755, total=   0.0s\n",
      "[CV] C=10, gamma=0.001, kernel=linear ................................\n",
      "[CV] .... C=10, gamma=0.001, kernel=linear, score=0.800, total=   0.0s\n",
      "[CV] C=10, gamma=0.001, kernel=linear ................................\n",
      "[CV] .... C=10, gamma=0.001, kernel=linear, score=0.760, total=   0.0s\n",
      "[CV] C=10, gamma=0.0001, kernel=linear ...............................\n",
      "[CV] ... C=10, gamma=0.0001, kernel=linear, score=0.787, total=   0.0s\n",
      "[CV] C=10, gamma=0.0001, kernel=linear ...............................\n",
      "[CV] ... C=10, gamma=0.0001, kernel=linear, score=0.770, total=   0.0s\n",
      "[CV] C=10, gamma=0.0001, kernel=linear ...............................\n",
      "[CV] ... C=10, gamma=0.0001, kernel=linear, score=0.755, total=   0.0s\n",
      "[CV] C=10, gamma=0.0001, kernel=linear ...............................\n",
      "[CV] ... C=10, gamma=0.0001, kernel=linear, score=0.800, total=   0.0s\n",
      "[CV] C=10, gamma=0.0001, kernel=linear ...............................\n",
      "[CV] ... C=10, gamma=0.0001, kernel=linear, score=0.760, total=   0.0s\n",
      "[CV] C=50, gamma=1, kernel=linear ....................................\n",
      "[CV] ........ C=50, gamma=1, kernel=linear, score=0.787, total=   0.0s\n",
      "[CV] C=50, gamma=1, kernel=linear ....................................\n",
      "[CV] ........ C=50, gamma=1, kernel=linear, score=0.770, total=   0.0s\n",
      "[CV] C=50, gamma=1, kernel=linear ....................................\n",
      "[CV] ........ C=50, gamma=1, kernel=linear, score=0.755, total=   0.0s\n",
      "[CV] C=50, gamma=1, kernel=linear ....................................\n",
      "[CV] ........ C=50, gamma=1, kernel=linear, score=0.800, total=   0.0s\n",
      "[CV] C=50, gamma=1, kernel=linear ....................................\n",
      "[CV] ........ C=50, gamma=1, kernel=linear, score=0.765, total=   0.0s\n",
      "[CV] C=50, gamma=0.1, kernel=linear ..................................\n",
      "[CV] ...... C=50, gamma=0.1, kernel=linear, score=0.787, total=   0.0s\n",
      "[CV] C=50, gamma=0.1, kernel=linear ..................................\n",
      "[CV] ...... C=50, gamma=0.1, kernel=linear, score=0.770, total=   0.0s\n",
      "[CV] C=50, gamma=0.1, kernel=linear ..................................\n",
      "[CV] ...... C=50, gamma=0.1, kernel=linear, score=0.755, total=   0.0s\n",
      "[CV] C=50, gamma=0.1, kernel=linear ..................................\n",
      "[CV] ...... C=50, gamma=0.1, kernel=linear, score=0.800, total=   0.0s\n",
      "[CV] C=50, gamma=0.1, kernel=linear ..................................\n",
      "[CV] ...... C=50, gamma=0.1, kernel=linear, score=0.765, total=   0.0s\n",
      "[CV] C=50, gamma=0.01, kernel=linear .................................\n",
      "[CV] ..... C=50, gamma=0.01, kernel=linear, score=0.787, total=   0.0s\n",
      "[CV] C=50, gamma=0.01, kernel=linear .................................\n",
      "[CV] ..... C=50, gamma=0.01, kernel=linear, score=0.770, total=   0.0s\n",
      "[CV] C=50, gamma=0.01, kernel=linear .................................\n"
     ]
    },
    {
     "name": "stdout",
     "output_type": "stream",
     "text": [
      "[CV] ..... C=50, gamma=0.01, kernel=linear, score=0.755, total=   0.0s\n",
      "[CV] C=50, gamma=0.01, kernel=linear .................................\n",
      "[CV] ..... C=50, gamma=0.01, kernel=linear, score=0.800, total=   0.0s\n",
      "[CV] C=50, gamma=0.01, kernel=linear .................................\n",
      "[CV] ..... C=50, gamma=0.01, kernel=linear, score=0.765, total=   0.0s\n",
      "[CV] C=50, gamma=0.001, kernel=linear ................................\n",
      "[CV] .... C=50, gamma=0.001, kernel=linear, score=0.787, total=   0.0s\n",
      "[CV] C=50, gamma=0.001, kernel=linear ................................\n",
      "[CV] .... C=50, gamma=0.001, kernel=linear, score=0.770, total=   0.0s\n",
      "[CV] C=50, gamma=0.001, kernel=linear ................................\n",
      "[CV] .... C=50, gamma=0.001, kernel=linear, score=0.755, total=   0.0s\n",
      "[CV] C=50, gamma=0.001, kernel=linear ................................\n",
      "[CV] .... C=50, gamma=0.001, kernel=linear, score=0.800, total=   0.0s\n",
      "[CV] C=50, gamma=0.001, kernel=linear ................................\n",
      "[CV] .... C=50, gamma=0.001, kernel=linear, score=0.765, total=   0.0s\n",
      "[CV] C=50, gamma=0.0001, kernel=linear ...............................\n",
      "[CV] ... C=50, gamma=0.0001, kernel=linear, score=0.787, total=   0.0s\n",
      "[CV] C=50, gamma=0.0001, kernel=linear ...............................\n",
      "[CV] ... C=50, gamma=0.0001, kernel=linear, score=0.770, total=   0.0s\n",
      "[CV] C=50, gamma=0.0001, kernel=linear ...............................\n",
      "[CV] ... C=50, gamma=0.0001, kernel=linear, score=0.755, total=   0.0s\n",
      "[CV] C=50, gamma=0.0001, kernel=linear ...............................\n",
      "[CV] ... C=50, gamma=0.0001, kernel=linear, score=0.800, total=   0.0s\n",
      "[CV] C=50, gamma=0.0001, kernel=linear ...............................\n",
      "[CV] ... C=50, gamma=0.0001, kernel=linear, score=0.765, total=   0.0s\n",
      "[CV] C=100, gamma=1, kernel=linear ...................................\n",
      "[CV] ....... C=100, gamma=1, kernel=linear, score=0.787, total=   0.1s\n",
      "[CV] C=100, gamma=1, kernel=linear ...................................\n",
      "[CV] ....... C=100, gamma=1, kernel=linear, score=0.770, total=   0.1s\n",
      "[CV] C=100, gamma=1, kernel=linear ...................................\n",
      "[CV] ....... C=100, gamma=1, kernel=linear, score=0.755, total=   0.1s\n",
      "[CV] C=100, gamma=1, kernel=linear ...................................\n",
      "[CV] ....... C=100, gamma=1, kernel=linear, score=0.800, total=   0.1s\n",
      "[CV] C=100, gamma=1, kernel=linear ...................................\n",
      "[CV] ....... C=100, gamma=1, kernel=linear, score=0.765, total=   0.1s\n",
      "[CV] C=100, gamma=0.1, kernel=linear .................................\n",
      "[CV] ..... C=100, gamma=0.1, kernel=linear, score=0.787, total=   0.1s\n",
      "[CV] C=100, gamma=0.1, kernel=linear .................................\n",
      "[CV] ..... C=100, gamma=0.1, kernel=linear, score=0.770, total=   0.1s\n",
      "[CV] C=100, gamma=0.1, kernel=linear .................................\n",
      "[CV] ..... C=100, gamma=0.1, kernel=linear, score=0.755, total=   0.1s\n",
      "[CV] C=100, gamma=0.1, kernel=linear .................................\n",
      "[CV] ..... C=100, gamma=0.1, kernel=linear, score=0.800, total=   0.1s\n",
      "[CV] C=100, gamma=0.1, kernel=linear .................................\n",
      "[CV] ..... C=100, gamma=0.1, kernel=linear, score=0.765, total=   0.1s\n",
      "[CV] C=100, gamma=0.01, kernel=linear ................................\n",
      "[CV] .... C=100, gamma=0.01, kernel=linear, score=0.787, total=   0.1s\n",
      "[CV] C=100, gamma=0.01, kernel=linear ................................\n",
      "[CV] .... C=100, gamma=0.01, kernel=linear, score=0.770, total=   0.1s\n",
      "[CV] C=100, gamma=0.01, kernel=linear ................................\n",
      "[CV] .... C=100, gamma=0.01, kernel=linear, score=0.755, total=   0.1s\n",
      "[CV] C=100, gamma=0.01, kernel=linear ................................\n",
      "[CV] .... C=100, gamma=0.01, kernel=linear, score=0.800, total=   0.1s\n",
      "[CV] C=100, gamma=0.01, kernel=linear ................................\n",
      "[CV] .... C=100, gamma=0.01, kernel=linear, score=0.765, total=   0.1s\n",
      "[CV] C=100, gamma=0.001, kernel=linear ...............................\n",
      "[CV] ... C=100, gamma=0.001, kernel=linear, score=0.787, total=   0.1s\n",
      "[CV] C=100, gamma=0.001, kernel=linear ...............................\n",
      "[CV] ... C=100, gamma=0.001, kernel=linear, score=0.770, total=   0.1s\n",
      "[CV] C=100, gamma=0.001, kernel=linear ...............................\n",
      "[CV] ... C=100, gamma=0.001, kernel=linear, score=0.755, total=   0.1s\n",
      "[CV] C=100, gamma=0.001, kernel=linear ...............................\n",
      "[CV] ... C=100, gamma=0.001, kernel=linear, score=0.800, total=   0.1s\n",
      "[CV] C=100, gamma=0.001, kernel=linear ...............................\n",
      "[CV] ... C=100, gamma=0.001, kernel=linear, score=0.765, total=   0.1s\n",
      "[CV] C=100, gamma=0.0001, kernel=linear ..............................\n",
      "[CV] .. C=100, gamma=0.0001, kernel=linear, score=0.787, total=   0.1s\n",
      "[CV] C=100, gamma=0.0001, kernel=linear ..............................\n",
      "[CV] .. C=100, gamma=0.0001, kernel=linear, score=0.770, total=   0.1s\n",
      "[CV] C=100, gamma=0.0001, kernel=linear ..............................\n",
      "[CV] .. C=100, gamma=0.0001, kernel=linear, score=0.755, total=   0.1s\n",
      "[CV] C=100, gamma=0.0001, kernel=linear ..............................\n",
      "[CV] .. C=100, gamma=0.0001, kernel=linear, score=0.800, total=   0.1s\n",
      "[CV] C=100, gamma=0.0001, kernel=linear ..............................\n",
      "[CV] .. C=100, gamma=0.0001, kernel=linear, score=0.765, total=   0.1s\n",
      "Best Train Accuracy score:  0.7784431137724551\n",
      "Best parameters: SVC(C=0.1, cache_size=200, class_weight=None, coef0=0.0,\n",
      "    decision_function_shape='ovr', degree=3, gamma=1, kernel='linear',\n",
      "    max_iter=-1, probability=False, random_state=None, shrinking=True,\n",
      "    tol=0.001, verbose=False)\n",
      "Best Test Accuracy score : 0.7874251497005988\n"
     ]
    },
    {
     "name": "stderr",
     "output_type": "stream",
     "text": [
      "[Parallel(n_jobs=1)]: Done 175 out of 175 | elapsed:    4.5s finished\n"
     ]
    }
   ],
   "source": [
    "classifier_SVM_lin = SVC()\n",
    "# Grid serach for hyperparameter tuning \n",
    "param_grid_svm_lin = {'C': [0.001,0.01,0.1, 1, 10, 50,100],  \n",
    "              'gamma': [1, 0.1, 0.01, 0.001, 0.0001], \n",
    "              'kernel': ['linear']}  \n",
    "svm_lin_grid = GridSearchCV(classifier_SVM_lin, param_grid_svm_lin, refit = True, verbose = 3, cv = 5) \n",
    "  \n",
    "# fitting the model for grid search \n",
    "SVMlin_best_model= svm_lin_grid.fit(X_train, y_train) \n",
    "#Predict test data using best model\n",
    "y_pred = SVMlin_best_model.predict(X_test)\n",
    "\n",
    "acc = accuracy_score(y_test, y_pred)\n",
    "prec = precision_score(y_test, y_pred,pos_label='1')\n",
    "rec = recall_score(y_test, y_pred, pos_label='1')\n",
    "f1 = f1_score(y_test, y_pred,pos_label='1')\n",
    "\n",
    "model_results_svm = pd.DataFrame([['SVM (Linear)_GridCV', acc, prec, rec, f1]],\n",
    "               columns = ['Model', 'Accuracy', 'Precision', 'Recall', 'F1 Score'])\n",
    "Results_all = Results_all.append(model_results_svm, ignore_index = True)\n",
    "\n",
    "print(\"Best Train Accuracy score: \",svm_lin_grid.best_score_)\n",
    "print(\"Best parameters:\", svm_lin_grid.best_estimator_)\n",
    "print(\"Best Test Accuracy score :\", accuracy_score(y_test, y_pred))"
   ]
  },
  {
   "cell_type": "code",
   "execution_count": 53,
   "metadata": {},
   "outputs": [
    {
     "data": {
      "text/plain": [
       "<matplotlib.axes._subplots.AxesSubplot at 0x2cda0781d68>"
      ]
     },
     "execution_count": 53,
     "metadata": {},
     "output_type": "execute_result"
    },
    {
     "data": {
      "image/png": "[encoded data removed]",
      "text/plain": [
       "<Figure size 432x288 with 1 Axes>"
      ]
     },
     "metadata": {
      "needs_background": "light"
     },
     "output_type": "display_data"
    }
   ],
   "source": [
    "sns.lineplot(x='param_C', y='mean_test_score', data=pd.DataFrame(svm_lin_grid.cv_results_))\n",
    "#pd.DataFrame(svm_lin_grid.cv_results_)"
   ]
  },
  {
   "cell_type": "code",
   "execution_count": 54,
   "metadata": {},
   "outputs": [
    {
     "name": "stderr",
     "output_type": "stream",
     "text": [
      "C:\\Users\\kdpat\\AppData\\Local\\Continuum\\anaconda3\\lib\\site-packages\\sklearn\\externals\\six.py:31: DeprecationWarning: The module is deprecated in version 0.21 and will be removed in version 0.23 since we've dropped support for Python 2.7. Please rely on the official version of six (https://pypi.org/project/six/).\n",
      "  \"(https://pypi.org/project/six/).\", DeprecationWarning)\n",
      "C:\\Users\\kdpat\\AppData\\Local\\Continuum\\anaconda3\\lib\\site-packages\\sklearn\\externals\\joblib\\__init__.py:15: DeprecationWarning: sklearn.externals.joblib is deprecated in 0.21 and will be removed in 0.23. Please import this functionality directly from joblib, which can be installed with: pip install joblib. If this warning is raised when loading pickled models, you may need to re-serialize those models with scikit-learn 0.21+.\n",
      "  warnings.warn(msg, category=DeprecationWarning)\n"
     ]
    },
    {
     "data": {
      "text/plain": [
       "<matplotlib.collections.PolyCollection at 0x2cda30e4b00>"
      ]
     },
     "execution_count": 54,
     "metadata": {},
     "output_type": "execute_result"
    },
    {
     "data": {
      "image/png": "[encoded data removed]",
      "text/plain": [
       "<Figure size 432x288 with 1 Axes>"
      ]
     },
     "metadata": {
      "needs_background": "light"
     },
     "output_type": "display_data"
    }
   ],
   "source": [
    "%matplotlib inline \n",
    "import mglearn\n",
    "scores = np.array(pd.DataFrame(svm_lin_grid.cv_results_).mean_test_score).reshape(7, 5)\n",
    "\n",
    "# plot the mean cross-validation scores\n",
    "mglearn.tools.heatmap(scores, xlabel='gamma', xticklabels=param_grid_svm_lin['gamma'], ylabel='C', yticklabels=param_grid_svm_lin['C'], cmap=\"viridis\")"
   ]
  },
  {
   "cell_type": "markdown",
   "metadata": {},
   "source": [
    "## Method5: SVM_rbf - Grid Search with Cross Validation"
   ]
  },
  {
   "cell_type": "code",
   "execution_count": 456,
   "metadata": {},
   "outputs": [
    {
     "name": "stdout",
     "output_type": "stream",
     "text": [
      "Fitting 5 folds for each of 25 candidates, totalling 125 fits\n",
      "[CV] C=0.1, gamma=1, kernel=rbf ......................................\n",
      "[CV] .......... C=0.1, gamma=1, kernel=rbf, score=0.852, total=   0.0s\n",
      "[CV] C=0.1, gamma=1, kernel=rbf ......................................\n",
      "[CV] .......... C=0.1, gamma=1, kernel=rbf, score=0.825, total=   0.0s\n",
      "[CV] C=0.1, gamma=1, kernel=rbf ......................................\n",
      "[CV] .......... C=0.1, gamma=1, kernel=rbf, score=0.789, total=   0.0s\n",
      "[CV] C=0.1, gamma=1, kernel=rbf ......................................\n",
      "[CV] .......... C=0.1, gamma=1, kernel=rbf, score=0.846, total=   0.0s\n",
      "[CV] C=0.1, gamma=1, kernel=rbf ......................................\n",
      "[CV] .......... C=0.1, gamma=1, kernel=rbf, score=0.761, total=   0.0s\n",
      "[CV] C=0.1, gamma=0.1, kernel=rbf ....................................\n",
      "[CV] ........ C=0.1, gamma=0.1, kernel=rbf, score=0.840, total=   0.0s\n",
      "[CV] C=0.1, gamma=0.1, kernel=rbf ....................................\n"
     ]
    },
    {
     "name": "stderr",
     "output_type": "stream",
     "text": [
      "[Parallel(n_jobs=1)]: Using backend SequentialBackend with 1 concurrent workers.\n",
      "[Parallel(n_jobs=1)]: Done   1 out of   1 | elapsed:    0.0s remaining:    0.0s\n",
      "[Parallel(n_jobs=1)]: Done   2 out of   2 | elapsed:    0.1s remaining:    0.0s\n"
     ]
    },
    {
     "name": "stdout",
     "output_type": "stream",
     "text": [
      "[CV] ........ C=0.1, gamma=0.1, kernel=rbf, score=0.861, total=   0.0s\n",
      "[CV] C=0.1, gamma=0.1, kernel=rbf ....................................\n",
      "[CV] ........ C=0.1, gamma=0.1, kernel=rbf, score=0.784, total=   0.0s\n",
      "[CV] C=0.1, gamma=0.1, kernel=rbf ....................................\n",
      "[CV] ........ C=0.1, gamma=0.1, kernel=rbf, score=0.842, total=   0.0s\n",
      "[CV] C=0.1, gamma=0.1, kernel=rbf ....................................\n",
      "[CV] ........ C=0.1, gamma=0.1, kernel=rbf, score=0.777, total=   0.0s\n",
      "[CV] C=0.1, gamma=0.01, kernel=rbf ...................................\n",
      "[CV] ....... C=0.1, gamma=0.01, kernel=rbf, score=0.807, total=   0.0s\n",
      "[CV] C=0.1, gamma=0.01, kernel=rbf ...................................\n",
      "[CV] ....... C=0.1, gamma=0.01, kernel=rbf, score=0.802, total=   0.0s\n",
      "[CV] C=0.1, gamma=0.01, kernel=rbf ...................................\n",
      "[CV] ....... C=0.1, gamma=0.01, kernel=rbf, score=0.732, total=   0.0s\n",
      "[CV] C=0.1, gamma=0.01, kernel=rbf ...................................\n",
      "[CV] ....... C=0.1, gamma=0.01, kernel=rbf, score=0.776, total=   0.0s\n",
      "[CV] C=0.1, gamma=0.01, kernel=rbf ...................................\n",
      "[CV] ....... C=0.1, gamma=0.01, kernel=rbf, score=0.741, total=   0.0s\n",
      "[CV] C=0.1, gamma=0.001, kernel=rbf ..................................\n",
      "[CV] ...... C=0.1, gamma=0.001, kernel=rbf, score=0.806, total=   0.0s\n",
      "[CV] C=0.1, gamma=0.001, kernel=rbf ..................................\n",
      "[CV] ...... C=0.1, gamma=0.001, kernel=rbf, score=0.801, total=   0.0s\n",
      "[CV] C=0.1, gamma=0.001, kernel=rbf ..................................\n",
      "[CV] ...... C=0.1, gamma=0.001, kernel=rbf, score=0.731, total=   0.0s\n",
      "[CV] C=0.1, gamma=0.001, kernel=rbf ..................................\n",
      "[CV] ...... C=0.1, gamma=0.001, kernel=rbf, score=0.775, total=   0.0s\n",
      "[CV] C=0.1, gamma=0.001, kernel=rbf ..................................\n",
      "[CV] ...... C=0.1, gamma=0.001, kernel=rbf, score=0.740, total=   0.0s\n",
      "[CV] C=0.1, gamma=0.0001, kernel=rbf .................................\n",
      "[CV] ..... C=0.1, gamma=0.0001, kernel=rbf, score=0.806, total=   0.0s\n",
      "[CV] C=0.1, gamma=0.0001, kernel=rbf .................................\n",
      "[CV] ..... C=0.1, gamma=0.0001, kernel=rbf, score=0.801, total=   0.0s\n",
      "[CV] C=0.1, gamma=0.0001, kernel=rbf .................................\n",
      "[CV] ..... C=0.1, gamma=0.0001, kernel=rbf, score=0.731, total=   0.0s\n",
      "[CV] C=0.1, gamma=0.0001, kernel=rbf .................................\n",
      "[CV] ..... C=0.1, gamma=0.0001, kernel=rbf, score=0.774, total=   0.0s\n",
      "[CV] C=0.1, gamma=0.0001, kernel=rbf .................................\n",
      "[CV] ..... C=0.1, gamma=0.0001, kernel=rbf, score=0.740, total=   0.0s\n",
      "[CV] C=1, gamma=1, kernel=rbf ........................................\n",
      "[CV] ............ C=1, gamma=1, kernel=rbf, score=0.846, total=   0.0s\n",
      "[CV] C=1, gamma=1, kernel=rbf ........................................\n",
      "[CV] ............ C=1, gamma=1, kernel=rbf, score=0.856, total=   0.0s\n",
      "[CV] C=1, gamma=1, kernel=rbf ........................................\n",
      "[CV] ............ C=1, gamma=1, kernel=rbf, score=0.791, total=   0.0s\n",
      "[CV] C=1, gamma=1, kernel=rbf ........................................\n",
      "[CV] ............ C=1, gamma=1, kernel=rbf, score=0.864, total=   0.0s\n",
      "[CV] C=1, gamma=1, kernel=rbf ........................................\n",
      "[CV] ............ C=1, gamma=1, kernel=rbf, score=0.771, total=   0.0s\n",
      "[CV] C=1, gamma=0.1, kernel=rbf ......................................\n",
      "[CV] .......... C=1, gamma=0.1, kernel=rbf, score=0.861, total=   0.0s\n",
      "[CV] C=1, gamma=0.1, kernel=rbf ......................................\n",
      "[CV] .......... C=1, gamma=0.1, kernel=rbf, score=0.860, total=   0.0s\n",
      "[CV] C=1, gamma=0.1, kernel=rbf ......................................\n",
      "[CV] .......... C=1, gamma=0.1, kernel=rbf, score=0.797, total=   0.0s\n",
      "[CV] C=1, gamma=0.1, kernel=rbf ......................................\n",
      "[CV] .......... C=1, gamma=0.1, kernel=rbf, score=0.869, total=   0.0s\n",
      "[CV] C=1, gamma=0.1, kernel=rbf ......................................\n",
      "[CV] .......... C=1, gamma=0.1, kernel=rbf, score=0.786, total=   0.0s\n",
      "[CV] C=1, gamma=0.01, kernel=rbf .....................................\n",
      "[CV] ......... C=1, gamma=0.01, kernel=rbf, score=0.843, total=   0.0s\n",
      "[CV] C=1, gamma=0.01, kernel=rbf .....................................\n",
      "[CV] ......... C=1, gamma=0.01, kernel=rbf, score=0.869, total=   0.0s\n",
      "[CV] C=1, gamma=0.01, kernel=rbf .....................................\n",
      "[CV] ......... C=1, gamma=0.01, kernel=rbf, score=0.784, total=   0.0s\n",
      "[CV] C=1, gamma=0.01, kernel=rbf .....................................\n",
      "[CV] ......... C=1, gamma=0.01, kernel=rbf, score=0.846, total=   0.0s\n",
      "[CV] C=1, gamma=0.01, kernel=rbf .....................................\n",
      "[CV] ......... C=1, gamma=0.01, kernel=rbf, score=0.783, total=   0.0s\n",
      "[CV] C=1, gamma=0.001, kernel=rbf ....................................\n",
      "[CV] ........ C=1, gamma=0.001, kernel=rbf, score=0.806, total=   0.0s\n",
      "[CV] C=1, gamma=0.001, kernel=rbf ....................................\n",
      "[CV] ........ C=1, gamma=0.001, kernel=rbf, score=0.801, total=   0.0s\n",
      "[CV] C=1, gamma=0.001, kernel=rbf ....................................\n",
      "[CV] ........ C=1, gamma=0.001, kernel=rbf, score=0.731, total=   0.0s\n",
      "[CV] C=1, gamma=0.001, kernel=rbf ....................................\n",
      "[CV] ........ C=1, gamma=0.001, kernel=rbf, score=0.775, total=   0.0s\n",
      "[CV] C=1, gamma=0.001, kernel=rbf ....................................\n",
      "[CV] ........ C=1, gamma=0.001, kernel=rbf, score=0.740, total=   0.0s\n",
      "[CV] C=1, gamma=0.0001, kernel=rbf ...................................\n",
      "[CV] ....... C=1, gamma=0.0001, kernel=rbf, score=0.806, total=   0.0s\n",
      "[CV] C=1, gamma=0.0001, kernel=rbf ...................................\n",
      "[CV] ....... C=1, gamma=0.0001, kernel=rbf, score=0.801, total=   0.0s\n",
      "[CV] C=1, gamma=0.0001, kernel=rbf ...................................\n",
      "[CV] ....... C=1, gamma=0.0001, kernel=rbf, score=0.731, total=   0.0s\n",
      "[CV] C=1, gamma=0.0001, kernel=rbf ...................................\n",
      "[CV] ....... C=1, gamma=0.0001, kernel=rbf, score=0.775, total=   0.0s\n",
      "[CV] C=1, gamma=0.0001, kernel=rbf ...................................\n",
      "[CV] ....... C=1, gamma=0.0001, kernel=rbf, score=0.740, total=   0.0s\n",
      "[CV] C=10, gamma=1, kernel=rbf .......................................\n",
      "[CV] ........... C=10, gamma=1, kernel=rbf, score=0.807, total=   0.0s\n",
      "[CV] C=10, gamma=1, kernel=rbf .......................................\n",
      "[CV] ........... C=10, gamma=1, kernel=rbf, score=0.841, total=   0.0s\n",
      "[CV] C=10, gamma=1, kernel=rbf .......................................\n",
      "[CV] ........... C=10, gamma=1, kernel=rbf, score=0.763, total=   0.0s\n",
      "[CV] C=10, gamma=1, kernel=rbf .......................................\n",
      "[CV] ........... C=10, gamma=1, kernel=rbf, score=0.853, total=   0.0s\n",
      "[CV] C=10, gamma=1, kernel=rbf .......................................\n",
      "[CV] ........... C=10, gamma=1, kernel=rbf, score=0.770, total=   0.0s\n",
      "[CV] C=10, gamma=0.1, kernel=rbf .....................................\n",
      "[CV] ......... C=10, gamma=0.1, kernel=rbf, score=0.865, total=   0.0s\n",
      "[CV] C=10, gamma=0.1, kernel=rbf .....................................\n",
      "[CV] ......... C=10, gamma=0.1, kernel=rbf, score=0.852, total=   0.0s\n",
      "[CV] C=10, gamma=0.1, kernel=rbf .....................................\n",
      "[CV] ......... C=10, gamma=0.1, kernel=rbf, score=0.803, total=   0.0s\n",
      "[CV] C=10, gamma=0.1, kernel=rbf .....................................\n",
      "[CV] ......... C=10, gamma=0.1, kernel=rbf, score=0.867, total=   0.0s\n",
      "[CV] C=10, gamma=0.1, kernel=rbf .....................................\n",
      "[CV] ......... C=10, gamma=0.1, kernel=rbf, score=0.784, total=   0.0s\n",
      "[CV] C=10, gamma=0.01, kernel=rbf ....................................\n",
      "[CV] ........ C=10, gamma=0.01, kernel=rbf, score=0.857, total=   0.0s\n",
      "[CV] C=10, gamma=0.01, kernel=rbf ....................................\n",
      "[CV] ........ C=10, gamma=0.01, kernel=rbf, score=0.864, total=   0.0s\n",
      "[CV] C=10, gamma=0.01, kernel=rbf ....................................\n",
      "[CV] ........ C=10, gamma=0.01, kernel=rbf, score=0.793, total=   0.0s\n",
      "[CV] C=10, gamma=0.01, kernel=rbf ....................................\n",
      "[CV] ........ C=10, gamma=0.01, kernel=rbf, score=0.867, total=   0.0s\n",
      "[CV] C=10, gamma=0.01, kernel=rbf ....................................\n",
      "[CV] ........ C=10, gamma=0.01, kernel=rbf, score=0.786, total=   0.0s\n",
      "[CV] C=10, gamma=0.001, kernel=rbf ...................................\n",
      "[CV] ....... C=10, gamma=0.001, kernel=rbf, score=0.843, total=   0.0s\n",
      "[CV] C=10, gamma=0.001, kernel=rbf ...................................\n",
      "[CV] ....... C=10, gamma=0.001, kernel=rbf, score=0.870, total=   0.0s\n",
      "[CV] C=10, gamma=0.001, kernel=rbf ...................................\n",
      "[CV] ....... C=10, gamma=0.001, kernel=rbf, score=0.784, total=   0.0s\n",
      "[CV] C=10, gamma=0.001, kernel=rbf ...................................\n",
      "[CV] ....... C=10, gamma=0.001, kernel=rbf, score=0.846, total=   0.0s\n",
      "[CV] C=10, gamma=0.001, kernel=rbf ...................................\n",
      "[CV] ....... C=10, gamma=0.001, kernel=rbf, score=0.783, total=   0.0s\n",
      "[CV] C=10, gamma=0.0001, kernel=rbf ..................................\n",
      "[CV] ...... C=10, gamma=0.0001, kernel=rbf, score=0.806, total=   0.0s\n",
      "[CV] C=10, gamma=0.0001, kernel=rbf ..................................\n",
      "[CV] ...... C=10, gamma=0.0001, kernel=rbf, score=0.801, total=   0.0s\n",
      "[CV] C=10, gamma=0.0001, kernel=rbf ..................................\n",
      "[CV] ...... C=10, gamma=0.0001, kernel=rbf, score=0.731, total=   0.0s\n",
      "[CV] C=10, gamma=0.0001, kernel=rbf ..................................\n",
      "[CV] ...... C=10, gamma=0.0001, kernel=rbf, score=0.775, total=   0.0s\n",
      "[CV] C=10, gamma=0.0001, kernel=rbf ..................................\n",
      "[CV] ...... C=10, gamma=0.0001, kernel=rbf, score=0.740, total=   0.0s\n",
      "[CV] C=100, gamma=1, kernel=rbf ......................................\n",
      "[CV] .......... C=100, gamma=1, kernel=rbf, score=0.787, total=   0.0s\n",
      "[CV] C=100, gamma=1, kernel=rbf ......................................\n",
      "[CV] .......... C=100, gamma=1, kernel=rbf, score=0.815, total=   0.0s\n",
      "[CV] C=100, gamma=1, kernel=rbf ......................................\n",
      "[CV] .......... C=100, gamma=1, kernel=rbf, score=0.745, total=   0.0s\n",
      "[CV] C=100, gamma=1, kernel=rbf ......................................\n",
      "[CV] .......... C=100, gamma=1, kernel=rbf, score=0.815, total=   0.0s\n",
      "[CV] C=100, gamma=1, kernel=rbf ......................................\n",
      "[CV] .......... C=100, gamma=1, kernel=rbf, score=0.730, total=   0.0s\n",
      "[CV] C=100, gamma=0.1, kernel=rbf ....................................\n",
      "[CV] ........ C=100, gamma=0.1, kernel=rbf, score=0.841, total=   0.0s\n",
      "[CV] C=100, gamma=0.1, kernel=rbf ....................................\n",
      "[CV] ........ C=100, gamma=0.1, kernel=rbf, score=0.859, total=   0.0s\n",
      "[CV] C=100, gamma=0.1, kernel=rbf ....................................\n",
      "[CV] ........ C=100, gamma=0.1, kernel=rbf, score=0.769, total=   0.0s\n",
      "[CV] C=100, gamma=0.1, kernel=rbf ....................................\n",
      "[CV] ........ C=100, gamma=0.1, kernel=rbf, score=0.862, total=   0.0s\n",
      "[CV] C=100, gamma=0.1, kernel=rbf ....................................\n",
      "[CV] ........ C=100, gamma=0.1, kernel=rbf, score=0.784, total=   0.0s\n",
      "[CV] C=100, gamma=0.01, kernel=rbf ...................................\n",
      "[CV] ....... C=100, gamma=0.01, kernel=rbf, score=0.864, total=   0.0s\n",
      "[CV] C=100, gamma=0.01, kernel=rbf ...................................\n",
      "[CV] ....... C=100, gamma=0.01, kernel=rbf, score=0.859, total=   0.0s\n",
      "[CV] C=100, gamma=0.01, kernel=rbf ...................................\n",
      "[CV] ....... C=100, gamma=0.01, kernel=rbf, score=0.803, total=   0.0s\n",
      "[CV] C=100, gamma=0.01, kernel=rbf ...................................\n",
      "[CV] ....... C=100, gamma=0.01, kernel=rbf, score=0.867, total=   0.0s\n",
      "[CV] C=100, gamma=0.01, kernel=rbf ...................................\n",
      "[CV] ....... C=100, gamma=0.01, kernel=rbf, score=0.787, total=   0.0s\n",
      "[CV] C=100, gamma=0.001, kernel=rbf ..................................\n",
      "[CV] ...... C=100, gamma=0.001, kernel=rbf, score=0.856, total=   0.0s\n",
      "[CV] C=100, gamma=0.001, kernel=rbf ..................................\n",
      "[CV] ...... C=100, gamma=0.001, kernel=rbf, score=0.865, total=   0.0s\n",
      "[CV] C=100, gamma=0.001, kernel=rbf ..................................\n",
      "[CV] ...... C=100, gamma=0.001, kernel=rbf, score=0.791, total=   0.0s\n",
      "[CV] C=100, gamma=0.001, kernel=rbf ..................................\n",
      "[CV] ...... C=100, gamma=0.001, kernel=rbf, score=0.867, total=   0.0s\n",
      "[CV] C=100, gamma=0.001, kernel=rbf ..................................\n",
      "[CV] ...... C=100, gamma=0.001, kernel=rbf, score=0.786, total=   0.0s\n",
      "[CV] C=100, gamma=0.0001, kernel=rbf .................................\n",
      "[CV] ..... C=100, gamma=0.0001, kernel=rbf, score=0.843, total=   0.0s\n",
      "[CV] C=100, gamma=0.0001, kernel=rbf .................................\n",
      "[CV] ..... C=100, gamma=0.0001, kernel=rbf, score=0.870, total=   0.0s\n",
      "[CV] C=100, gamma=0.0001, kernel=rbf .................................\n",
      "[CV] ..... C=100, gamma=0.0001, kernel=rbf, score=0.784, total=   0.0s\n",
      "[CV] C=100, gamma=0.0001, kernel=rbf .................................\n",
      "[CV] ..... C=100, gamma=0.0001, kernel=rbf, score=0.847, total=   0.0s\n",
      "[CV] C=100, gamma=0.0001, kernel=rbf .................................\n",
      "[CV] ..... C=100, gamma=0.0001, kernel=rbf, score=0.782, total=   0.0s\n",
      "[CV] C=1000, gamma=1, kernel=rbf .....................................\n",
      "[CV] ......... C=1000, gamma=1, kernel=rbf, score=0.734, total=   0.1s\n",
      "[CV] C=1000, gamma=1, kernel=rbf .....................................\n",
      "[CV] ......... C=1000, gamma=1, kernel=rbf, score=0.797, total=   0.1s\n",
      "[CV] C=1000, gamma=1, kernel=rbf .....................................\n",
      "[CV] ......... C=1000, gamma=1, kernel=rbf, score=0.706, total=   0.1s\n",
      "[CV] C=1000, gamma=1, kernel=rbf .....................................\n",
      "[CV] ......... C=1000, gamma=1, kernel=rbf, score=0.766, total=   0.1s\n",
      "[CV] C=1000, gamma=1, kernel=rbf .....................................\n",
      "[CV] ......... C=1000, gamma=1, kernel=rbf, score=0.693, total=   0.1s\n",
      "[CV] C=1000, gamma=0.1, kernel=rbf ...................................\n",
      "[CV] ....... C=1000, gamma=0.1, kernel=rbf, score=0.799, total=   0.1s\n",
      "[CV] C=1000, gamma=0.1, kernel=rbf ...................................\n",
      "[CV] ....... C=1000, gamma=0.1, kernel=rbf, score=0.839, total=   0.1s\n",
      "[CV] C=1000, gamma=0.1, kernel=rbf ...................................\n",
      "[CV] ....... C=1000, gamma=0.1, kernel=rbf, score=0.747, total=   0.1s\n",
      "[CV] C=1000, gamma=0.1, kernel=rbf ...................................\n",
      "[CV] ....... C=1000, gamma=0.1, kernel=rbf, score=0.842, total=   0.1s\n",
      "[CV] C=1000, gamma=0.1, kernel=rbf ...................................\n",
      "[CV] ....... C=1000, gamma=0.1, kernel=rbf, score=0.774, total=   0.1s\n",
      "[CV] C=1000, gamma=0.01, kernel=rbf ..................................\n",
      "[CV] ...... C=1000, gamma=0.01, kernel=rbf, score=0.863, total=   0.0s\n",
      "[CV] C=1000, gamma=0.01, kernel=rbf ..................................\n",
      "[CV] ...... C=1000, gamma=0.01, kernel=rbf, score=0.853, total=   0.0s\n",
      "[CV] C=1000, gamma=0.01, kernel=rbf ..................................\n",
      "[CV] ...... C=1000, gamma=0.01, kernel=rbf, score=0.796, total=   0.0s\n",
      "[CV] C=1000, gamma=0.01, kernel=rbf ..................................\n",
      "[CV] ...... C=1000, gamma=0.01, kernel=rbf, score=0.865, total=   0.0s\n",
      "[CV] C=1000, gamma=0.01, kernel=rbf ..................................\n",
      "[CV] ...... C=1000, gamma=0.01, kernel=rbf, score=0.783, total=   0.0s\n",
      "[CV] C=1000, gamma=0.001, kernel=rbf .................................\n",
      "[CV] ..... C=1000, gamma=0.001, kernel=rbf, score=0.862, total=   0.0s\n",
      "[CV] C=1000, gamma=0.001, kernel=rbf .................................\n",
      "[CV] ..... C=1000, gamma=0.001, kernel=rbf, score=0.861, total=   0.0s\n",
      "[CV] C=1000, gamma=0.001, kernel=rbf .................................\n",
      "[CV] ..... C=1000, gamma=0.001, kernel=rbf, score=0.798, total=   0.0s\n",
      "[CV] C=1000, gamma=0.001, kernel=rbf .................................\n",
      "[CV] ..... C=1000, gamma=0.001, kernel=rbf, score=0.866, total=   0.0s\n",
      "[CV] C=1000, gamma=0.001, kernel=rbf .................................\n",
      "[CV] ..... C=1000, gamma=0.001, kernel=rbf, score=0.788, total=   0.0s\n",
      "[CV] C=1000, gamma=0.0001, kernel=rbf ................................\n",
      "[CV] .... C=1000, gamma=0.0001, kernel=rbf, score=0.856, total=   0.0s\n",
      "[CV] C=1000, gamma=0.0001, kernel=rbf ................................\n",
      "[CV] .... C=1000, gamma=0.0001, kernel=rbf, score=0.866, total=   0.0s\n",
      "[CV] C=1000, gamma=0.0001, kernel=rbf ................................\n",
      "[CV] .... C=1000, gamma=0.0001, kernel=rbf, score=0.791, total=   0.0s\n",
      "[CV] C=1000, gamma=0.0001, kernel=rbf ................................\n",
      "[CV] .... C=1000, gamma=0.0001, kernel=rbf, score=0.867, total=   0.0s\n",
      "[CV] C=1000, gamma=0.0001, kernel=rbf ................................\n",
      "[CV] .... C=1000, gamma=0.0001, kernel=rbf, score=0.786, total=   0.0s\n",
      "Best Train Accuracy score:  0.8361386053968655\n",
      "Best parameters: SVC(C=100, cache_size=200, class_weight=None, coef0=0.0,\n",
      "    decision_function_shape='ovr', degree=3, gamma=0.01, kernel='rbf',\n",
      "    max_iter=-1, probability=False, random_state=None, shrinking=True,\n",
      "    tol=0.001, verbose=False)\n",
      "Best Test Accuracy score : 0.7958579881656804\n"
     ]
    },
    {
     "name": "stderr",
     "output_type": "stream",
     "text": [
      "[Parallel(n_jobs=1)]: Done 125 out of 125 | elapsed:    3.9s finished\n"
     ]
    }
   ],
   "source": [
    "classifier_SVM_rbf = SVC()\n",
    "# Grid search for hyperparameter tuning \n",
    "param_grid_svm_rbf = {'C': [0.1, 1, 10, 100, 1000],  \n",
    "              'gamma': [1, 0.1, 0.01, 0.001, 0.0001], \n",
    "              'kernel': ['rbf']}  \n",
    "svm_rbf_grid = GridSearchCV(classifier_SVM_rbf, param_grid_svm_rbf, refit = True, verbose = 3, cv = 5, scoring='roc_auc') \n",
    "  \n",
    "# fitting the model for grid search \n",
    "SVMrbf_best_model= svm_rbf_grid.fit(X_train, y_train) \n",
    "# Predicting test data using best model\n",
    "y_pred = SVMrbf_best_model.predict(X_test)\n",
    "\n",
    "acc = accuracy_score(y_test, y_pred)\n",
    "prec = precision_score(y_test, y_pred,pos_label='1')\n",
    "rec = recall_score(y_test, y_pred, pos_label='1')\n",
    "f1 = f1_score(y_test, y_pred,pos_label='1')\n",
    "\n",
    "model_results_SVM_rbf = pd.DataFrame([['SVM(RBF)_GridCV', acc, prec, rec, f1]],\n",
    "               columns = ['Model', 'Accuracy', 'Precision', 'Recall', 'F1 Score'])\n",
    "\n",
    "Results_all = Results_all.append(model_results_SVM_rbf, ignore_index = True)\n",
    "\n",
    "print(\"Best Train Accuracy score: \",SVMrbf_best_model.best_score_)\n",
    "print(\"Best parameters:\", SVMrbf_best_model.best_estimator_)\n",
    "print(\"Best Test Accuracy score :\", accuracy_score(y_test, y_pred))"
   ]
  },
  {
   "cell_type": "code",
   "execution_count": 403,
   "metadata": {},
   "outputs": [
    {
     "data": {
      "text/plain": [
       "<matplotlib.axes._subplots.AxesSubplot at 0x1369e3ad0>"
      ]
     },
     "execution_count": 403,
     "metadata": {},
     "output_type": "execute_result"
    },
    {
     "data": {
      "image/png": "[encoded data removed]",
      "text/plain": [
       "<Figure size 432x288 with 1 Axes>"
      ]
     },
     "metadata": {
      "needs_background": "light"
     },
     "output_type": "display_data"
    }
   ],
   "source": [
    "sns.lineplot(x='param_C', y='mean_test_score', data=pd.DataFrame(svm_rbf_grid.cv_results_))\n",
    "#pd.DataFrame(svm_rbf_grid.cv_results_)"
   ]
  },
  {
   "cell_type": "code",
   "execution_count": 429,
   "metadata": {},
   "outputs": [
    {
     "data": {
      "text/plain": [
       "<matplotlib.collections.PolyCollection at 0x13d515150>"
      ]
     },
     "execution_count": 429,
     "metadata": {},
     "output_type": "execute_result"
    },
    {
     "data": {
      "image/png": "[encoded data removed]",
      "text/plain": [
       "<Figure size 432x288 with 1 Axes>"
      ]
     },
     "metadata": {
      "needs_background": "light"
     },
     "output_type": "display_data"
    }
   ],
   "source": [
    "%matplotlib inline \n",
    "import mglearn\n",
    "scores = np.array(pd.DataFrame(svm_rbf_grid.cv_results_).mean_test_score).reshape(5, 5)\n",
    "\n",
    "# plot the mean cross-validation scores\n",
    "mglearn.tools.heatmap(scores, xlabel='gamma', xticklabels=param_grid_svm_rbf['gamma'], ylabel='C', yticklabels=param_grid_svm_rbf['C'], cmap=\"viridis\")"
   ]
  },
  {
   "cell_type": "markdown",
   "metadata": {},
   "source": [
    "## Method6: SVM_poly - Grid Search with Cross Validation"
   ]
  },
  {
   "cell_type": "code",
   "execution_count": 457,
   "metadata": {},
   "outputs": [
    {
     "name": "stdout",
     "output_type": "stream",
     "text": [
      "Fitting 5 folds for each of 15 candidates, totalling 75 fits\n",
      "[CV] C=0.1, degree=2, kernel=poly ....................................\n",
      "[CV] ........ C=0.1, degree=2, kernel=poly, score=0.517, total=   0.0s\n",
      "[CV] C=0.1, degree=2, kernel=poly ....................................\n",
      "[CV] ........ C=0.1, degree=2, kernel=poly, score=0.517, total=   0.0s\n",
      "[CV] C=0.1, degree=2, kernel=poly ....................................\n",
      "[CV] ........ C=0.1, degree=2, kernel=poly, score=0.517, total=   0.0s\n",
      "[CV] C=0.1, degree=2, kernel=poly ....................................\n",
      "[CV] ........ C=0.1, degree=2, kernel=poly, score=0.515, total=   0.0s\n",
      "[CV] C=0.1, degree=2, kernel=poly ....................................\n",
      "[CV] ........ C=0.1, degree=2, kernel=poly, score=0.517, total=   0.0s\n",
      "[CV] C=0.1, degree=3, kernel=poly ....................................\n",
      "[CV] ........ C=0.1, degree=3, kernel=poly, score=0.517, total=   0.0s\n",
      "[CV] C=0.1, degree=3, kernel=poly ....................................\n",
      "[CV] ........ C=0.1, degree=3, kernel=poly, score=0.517, total=   0.0s\n",
      "[CV] C=0.1, degree=3, kernel=poly ....................................\n",
      "[CV] ........ C=0.1, degree=3, kernel=poly, score=0.517, total=   0.0s\n",
      "[CV] C=0.1, degree=3, kernel=poly ....................................\n",
      "[CV] ........ C=0.1, degree=3, kernel=poly, score=0.515, total=   0.0s\n",
      "[CV] C=0.1, degree=3, kernel=poly ....................................\n",
      "[CV] ........ C=0.1, degree=3, kernel=poly, score=0.517, total=   0.0s\n",
      "[CV] C=0.1, degree=4, kernel=poly ....................................\n"
     ]
    },
    {
     "name": "stderr",
     "output_type": "stream",
     "text": [
      "[Parallel(n_jobs=1)]: Using backend SequentialBackend with 1 concurrent workers.\n",
      "/Users/swetha/opt/anaconda3/lib/python3.7/site-packages/sklearn/svm/base.py:193: FutureWarning: The default value of gamma will change from 'auto' to 'scale' in version 0.22 to account better for unscaled features. Set gamma explicitly to 'auto' or 'scale' to avoid this warning.\n",
      "  \"avoid this warning.\", FutureWarning)\n",
      "[Parallel(n_jobs=1)]: Done   1 out of   1 | elapsed:    0.0s remaining:    0.0s\n",
      "/Users/swetha/opt/anaconda3/lib/python3.7/site-packages/sklearn/svm/base.py:193: FutureWarning: The default value of gamma will change from 'auto' to 'scale' in version 0.22 to account better for unscaled features. Set gamma explicitly to 'auto' or 'scale' to avoid this warning.\n",
      "  \"avoid this warning.\", FutureWarning)\n",
      "[Parallel(n_jobs=1)]: Done   2 out of   2 | elapsed:    0.0s remaining:    0.0s\n",
      "/Users/swetha/opt/anaconda3/lib/python3.7/site-packages/sklearn/svm/base.py:193: FutureWarning: The default value of gamma will change from 'auto' to 'scale' in version 0.22 to account better for unscaled features. Set gamma explicitly to 'auto' or 'scale' to avoid this warning.\n",
      "  \"avoid this warning.\", FutureWarning)\n",
      "/Users/swetha/opt/anaconda3/lib/python3.7/site-packages/sklearn/svm/base.py:193: FutureWarning: The default value of gamma will change from 'auto' to 'scale' in version 0.22 to account better for unscaled features. Set gamma explicitly to 'auto' or 'scale' to avoid this warning.\n",
      "  \"avoid this warning.\", FutureWarning)\n",
      "/Users/swetha/opt/anaconda3/lib/python3.7/site-packages/sklearn/svm/base.py:193: FutureWarning: The default value of gamma will change from 'auto' to 'scale' in version 0.22 to account better for unscaled features. Set gamma explicitly to 'auto' or 'scale' to avoid this warning.\n",
      "  \"avoid this warning.\", FutureWarning)\n",
      "/Users/swetha/opt/anaconda3/lib/python3.7/site-packages/sklearn/svm/base.py:193: FutureWarning: The default value of gamma will change from 'auto' to 'scale' in version 0.22 to account better for unscaled features. Set gamma explicitly to 'auto' or 'scale' to avoid this warning.\n",
      "  \"avoid this warning.\", FutureWarning)\n",
      "/Users/swetha/opt/anaconda3/lib/python3.7/site-packages/sklearn/svm/base.py:193: FutureWarning: The default value of gamma will change from 'auto' to 'scale' in version 0.22 to account better for unscaled features. Set gamma explicitly to 'auto' or 'scale' to avoid this warning.\n",
      "  \"avoid this warning.\", FutureWarning)\n",
      "/Users/swetha/opt/anaconda3/lib/python3.7/site-packages/sklearn/svm/base.py:193: FutureWarning: The default value of gamma will change from 'auto' to 'scale' in version 0.22 to account better for unscaled features. Set gamma explicitly to 'auto' or 'scale' to avoid this warning.\n",
      "  \"avoid this warning.\", FutureWarning)\n",
      "/Users/swetha/opt/anaconda3/lib/python3.7/site-packages/sklearn/svm/base.py:193: FutureWarning: The default value of gamma will change from 'auto' to 'scale' in version 0.22 to account better for unscaled features. Set gamma explicitly to 'auto' or 'scale' to avoid this warning.\n",
      "  \"avoid this warning.\", FutureWarning)\n",
      "/Users/swetha/opt/anaconda3/lib/python3.7/site-packages/sklearn/svm/base.py:193: FutureWarning: The default value of gamma will change from 'auto' to 'scale' in version 0.22 to account better for unscaled features. Set gamma explicitly to 'auto' or 'scale' to avoid this warning.\n",
      "  \"avoid this warning.\", FutureWarning)\n",
      "/Users/swetha/opt/anaconda3/lib/python3.7/site-packages/sklearn/svm/base.py:193: FutureWarning: The default value of gamma will change from 'auto' to 'scale' in version 0.22 to account better for unscaled features. Set gamma explicitly to 'auto' or 'scale' to avoid this warning.\n",
      "  \"avoid this warning.\", FutureWarning)\n",
      "/Users/swetha/opt/anaconda3/lib/python3.7/site-packages/sklearn/svm/base.py:193: FutureWarning: The default value of gamma will change from 'auto' to 'scale' in version 0.22 to account better for unscaled features. Set gamma explicitly to 'auto' or 'scale' to avoid this warning.\n",
      "  \"avoid this warning.\", FutureWarning)\n",
      "/Users/swetha/opt/anaconda3/lib/python3.7/site-packages/sklearn/svm/base.py:193: FutureWarning: The default value of gamma will change from 'auto' to 'scale' in version 0.22 to account better for unscaled features. Set gamma explicitly to 'auto' or 'scale' to avoid this warning.\n",
      "  \"avoid this warning.\", FutureWarning)\n",
      "/Users/swetha/opt/anaconda3/lib/python3.7/site-packages/sklearn/svm/base.py:193: FutureWarning: The default value of gamma will change from 'auto' to 'scale' in version 0.22 to account better for unscaled features. Set gamma explicitly to 'auto' or 'scale' to avoid this warning.\n",
      "  \"avoid this warning.\", FutureWarning)\n",
      "/Users/swetha/opt/anaconda3/lib/python3.7/site-packages/sklearn/svm/base.py:193: FutureWarning: The default value of gamma will change from 'auto' to 'scale' in version 0.22 to account better for unscaled features. Set gamma explicitly to 'auto' or 'scale' to avoid this warning.\n",
      "  \"avoid this warning.\", FutureWarning)\n",
      "/Users/swetha/opt/anaconda3/lib/python3.7/site-packages/sklearn/svm/base.py:193: FutureWarning: The default value of gamma will change from 'auto' to 'scale' in version 0.22 to account better for unscaled features. Set gamma explicitly to 'auto' or 'scale' to avoid this warning.\n",
      "  \"avoid this warning.\", FutureWarning)\n",
      "/Users/swetha/opt/anaconda3/lib/python3.7/site-packages/sklearn/svm/base.py:193: FutureWarning: The default value of gamma will change from 'auto' to 'scale' in version 0.22 to account better for unscaled features. Set gamma explicitly to 'auto' or 'scale' to avoid this warning.\n",
      "  \"avoid this warning.\", FutureWarning)\n",
      "/Users/swetha/opt/anaconda3/lib/python3.7/site-packages/sklearn/svm/base.py:193: FutureWarning: The default value of gamma will change from 'auto' to 'scale' in version 0.22 to account better for unscaled features. Set gamma explicitly to 'auto' or 'scale' to avoid this warning.\n",
      "  \"avoid this warning.\", FutureWarning)\n",
      "/Users/swetha/opt/anaconda3/lib/python3.7/site-packages/sklearn/svm/base.py:193: FutureWarning: The default value of gamma will change from 'auto' to 'scale' in version 0.22 to account better for unscaled features. Set gamma explicitly to 'auto' or 'scale' to avoid this warning.\n",
      "  \"avoid this warning.\", FutureWarning)\n",
      "/Users/swetha/opt/anaconda3/lib/python3.7/site-packages/sklearn/svm/base.py:193: FutureWarning: The default value of gamma will change from 'auto' to 'scale' in version 0.22 to account better for unscaled features. Set gamma explicitly to 'auto' or 'scale' to avoid this warning.\n",
      "  \"avoid this warning.\", FutureWarning)\n",
      "/Users/swetha/opt/anaconda3/lib/python3.7/site-packages/sklearn/svm/base.py:193: FutureWarning: The default value of gamma will change from 'auto' to 'scale' in version 0.22 to account better for unscaled features. Set gamma explicitly to 'auto' or 'scale' to avoid this warning.\n",
      "  \"avoid this warning.\", FutureWarning)\n"
     ]
    },
    {
     "name": "stdout",
     "output_type": "stream",
     "text": [
      "[CV] ........ C=0.1, degree=4, kernel=poly, score=0.517, total=   0.0s\n",
      "[CV] C=0.1, degree=4, kernel=poly ....................................\n",
      "[CV] ........ C=0.1, degree=4, kernel=poly, score=0.517, total=   0.0s\n",
      "[CV] C=0.1, degree=4, kernel=poly ....................................\n",
      "[CV] ........ C=0.1, degree=4, kernel=poly, score=0.517, total=   0.0s\n",
      "[CV] C=0.1, degree=4, kernel=poly ....................................\n",
      "[CV] ........ C=0.1, degree=4, kernel=poly, score=0.515, total=   0.0s\n",
      "[CV] C=0.1, degree=4, kernel=poly ....................................\n",
      "[CV] ........ C=0.1, degree=4, kernel=poly, score=0.517, total=   0.0s\n",
      "[CV] C=1, degree=2, kernel=poly ......................................\n",
      "[CV] .......... C=1, degree=2, kernel=poly, score=0.764, total=   0.0s\n",
      "[CV] C=1, degree=2, kernel=poly ......................................\n",
      "[CV] .......... C=1, degree=2, kernel=poly, score=0.773, total=   0.0s\n",
      "[CV] C=1, degree=2, kernel=poly ......................................\n",
      "[CV] .......... C=1, degree=2, kernel=poly, score=0.749, total=   0.0s\n",
      "[CV] C=1, degree=2, kernel=poly ......................................\n",
      "[CV] .......... C=1, degree=2, kernel=poly, score=0.792, total=   0.0s\n",
      "[CV] C=1, degree=2, kernel=poly ......................................\n",
      "[CV] .......... C=1, degree=2, kernel=poly, score=0.716, total=   0.0s\n",
      "[CV] C=1, degree=3, kernel=poly ......................................\n",
      "[CV] .......... C=1, degree=3, kernel=poly, score=0.709, total=   0.0s\n",
      "[CV] C=1, degree=3, kernel=poly ......................................\n"
     ]
    },
    {
     "name": "stderr",
     "output_type": "stream",
     "text": [
      "/Users/swetha/opt/anaconda3/lib/python3.7/site-packages/sklearn/svm/base.py:193: FutureWarning: The default value of gamma will change from 'auto' to 'scale' in version 0.22 to account better for unscaled features. Set gamma explicitly to 'auto' or 'scale' to avoid this warning.\n",
      "  \"avoid this warning.\", FutureWarning)\n",
      "/Users/swetha/opt/anaconda3/lib/python3.7/site-packages/sklearn/svm/base.py:193: FutureWarning: The default value of gamma will change from 'auto' to 'scale' in version 0.22 to account better for unscaled features. Set gamma explicitly to 'auto' or 'scale' to avoid this warning.\n",
      "  \"avoid this warning.\", FutureWarning)\n",
      "/Users/swetha/opt/anaconda3/lib/python3.7/site-packages/sklearn/svm/base.py:193: FutureWarning: The default value of gamma will change from 'auto' to 'scale' in version 0.22 to account better for unscaled features. Set gamma explicitly to 'auto' or 'scale' to avoid this warning.\n",
      "  \"avoid this warning.\", FutureWarning)\n",
      "/Users/swetha/opt/anaconda3/lib/python3.7/site-packages/sklearn/svm/base.py:193: FutureWarning: The default value of gamma will change from 'auto' to 'scale' in version 0.22 to account better for unscaled features. Set gamma explicitly to 'auto' or 'scale' to avoid this warning.\n",
      "  \"avoid this warning.\", FutureWarning)\n",
      "/Users/swetha/opt/anaconda3/lib/python3.7/site-packages/sklearn/svm/base.py:193: FutureWarning: The default value of gamma will change from 'auto' to 'scale' in version 0.22 to account better for unscaled features. Set gamma explicitly to 'auto' or 'scale' to avoid this warning.\n",
      "  \"avoid this warning.\", FutureWarning)\n",
      "/Users/swetha/opt/anaconda3/lib/python3.7/site-packages/sklearn/svm/base.py:193: FutureWarning: The default value of gamma will change from 'auto' to 'scale' in version 0.22 to account better for unscaled features. Set gamma explicitly to 'auto' or 'scale' to avoid this warning.\n",
      "  \"avoid this warning.\", FutureWarning)\n",
      "/Users/swetha/opt/anaconda3/lib/python3.7/site-packages/sklearn/svm/base.py:193: FutureWarning: The default value of gamma will change from 'auto' to 'scale' in version 0.22 to account better for unscaled features. Set gamma explicitly to 'auto' or 'scale' to avoid this warning.\n",
      "  \"avoid this warning.\", FutureWarning)\n",
      "/Users/swetha/opt/anaconda3/lib/python3.7/site-packages/sklearn/svm/base.py:193: FutureWarning: The default value of gamma will change from 'auto' to 'scale' in version 0.22 to account better for unscaled features. Set gamma explicitly to 'auto' or 'scale' to avoid this warning.\n",
      "  \"avoid this warning.\", FutureWarning)\n",
      "/Users/swetha/opt/anaconda3/lib/python3.7/site-packages/sklearn/svm/base.py:193: FutureWarning: The default value of gamma will change from 'auto' to 'scale' in version 0.22 to account better for unscaled features. Set gamma explicitly to 'auto' or 'scale' to avoid this warning.\n",
      "  \"avoid this warning.\", FutureWarning)\n",
      "/Users/swetha/opt/anaconda3/lib/python3.7/site-packages/sklearn/svm/base.py:193: FutureWarning: The default value of gamma will change from 'auto' to 'scale' in version 0.22 to account better for unscaled features. Set gamma explicitly to 'auto' or 'scale' to avoid this warning.\n",
      "  \"avoid this warning.\", FutureWarning)\n",
      "/Users/swetha/opt/anaconda3/lib/python3.7/site-packages/sklearn/svm/base.py:193: FutureWarning: The default value of gamma will change from 'auto' to 'scale' in version 0.22 to account better for unscaled features. Set gamma explicitly to 'auto' or 'scale' to avoid this warning.\n",
      "  \"avoid this warning.\", FutureWarning)\n"
     ]
    },
    {
     "name": "stdout",
     "output_type": "stream",
     "text": [
      "[CV] .......... C=1, degree=3, kernel=poly, score=0.606, total=   0.0s\n",
      "[CV] C=1, degree=3, kernel=poly ......................................\n",
      "[CV] .......... C=1, degree=3, kernel=poly, score=0.690, total=   0.0s\n",
      "[CV] C=1, degree=3, kernel=poly ......................................\n",
      "[CV] .......... C=1, degree=3, kernel=poly, score=0.733, total=   0.0s\n",
      "[CV] C=1, degree=3, kernel=poly ......................................\n",
      "[CV] .......... C=1, degree=3, kernel=poly, score=0.577, total=   0.0s\n",
      "[CV] C=1, degree=4, kernel=poly ......................................\n",
      "[CV] .......... C=1, degree=4, kernel=poly, score=0.517, total=   0.0s\n",
      "[CV] C=1, degree=4, kernel=poly ......................................\n",
      "[CV] .......... C=1, degree=4, kernel=poly, score=0.517, total=   0.0s\n",
      "[CV] C=1, degree=4, kernel=poly ......................................\n",
      "[CV] .......... C=1, degree=4, kernel=poly, score=0.517, total=   0.0s\n",
      "[CV] C=1, degree=4, kernel=poly ......................................\n",
      "[CV] .......... C=1, degree=4, kernel=poly, score=0.515, total=   0.0s\n",
      "[CV] C=1, degree=4, kernel=poly ......................................\n",
      "[CV] .......... C=1, degree=4, kernel=poly, score=0.517, total=   0.0s\n",
      "[CV] C=10, degree=2, kernel=poly .....................................\n",
      "[CV] ......... C=10, degree=2, kernel=poly, score=0.788, total=   0.0s\n",
      "[CV] C=10, degree=2, kernel=poly .....................................\n",
      "[CV] ......... C=10, degree=2, kernel=poly, score=0.788, total=   0.0s\n",
      "[CV] C=10, degree=2, kernel=poly .....................................\n"
     ]
    },
    {
     "name": "stderr",
     "output_type": "stream",
     "text": [
      "/Users/swetha/opt/anaconda3/lib/python3.7/site-packages/sklearn/svm/base.py:193: FutureWarning: The default value of gamma will change from 'auto' to 'scale' in version 0.22 to account better for unscaled features. Set gamma explicitly to 'auto' or 'scale' to avoid this warning.\n",
      "  \"avoid this warning.\", FutureWarning)\n",
      "/Users/swetha/opt/anaconda3/lib/python3.7/site-packages/sklearn/svm/base.py:193: FutureWarning: The default value of gamma will change from 'auto' to 'scale' in version 0.22 to account better for unscaled features. Set gamma explicitly to 'auto' or 'scale' to avoid this warning.\n",
      "  \"avoid this warning.\", FutureWarning)\n",
      "/Users/swetha/opt/anaconda3/lib/python3.7/site-packages/sklearn/svm/base.py:193: FutureWarning: The default value of gamma will change from 'auto' to 'scale' in version 0.22 to account better for unscaled features. Set gamma explicitly to 'auto' or 'scale' to avoid this warning.\n",
      "  \"avoid this warning.\", FutureWarning)\n",
      "/Users/swetha/opt/anaconda3/lib/python3.7/site-packages/sklearn/svm/base.py:193: FutureWarning: The default value of gamma will change from 'auto' to 'scale' in version 0.22 to account better for unscaled features. Set gamma explicitly to 'auto' or 'scale' to avoid this warning.\n",
      "  \"avoid this warning.\", FutureWarning)\n",
      "/Users/swetha/opt/anaconda3/lib/python3.7/site-packages/sklearn/svm/base.py:193: FutureWarning: The default value of gamma will change from 'auto' to 'scale' in version 0.22 to account better for unscaled features. Set gamma explicitly to 'auto' or 'scale' to avoid this warning.\n",
      "  \"avoid this warning.\", FutureWarning)\n",
      "/Users/swetha/opt/anaconda3/lib/python3.7/site-packages/sklearn/svm/base.py:193: FutureWarning: The default value of gamma will change from 'auto' to 'scale' in version 0.22 to account better for unscaled features. Set gamma explicitly to 'auto' or 'scale' to avoid this warning.\n",
      "  \"avoid this warning.\", FutureWarning)\n",
      "/Users/swetha/opt/anaconda3/lib/python3.7/site-packages/sklearn/svm/base.py:193: FutureWarning: The default value of gamma will change from 'auto' to 'scale' in version 0.22 to account better for unscaled features. Set gamma explicitly to 'auto' or 'scale' to avoid this warning.\n",
      "  \"avoid this warning.\", FutureWarning)\n",
      "/Users/swetha/opt/anaconda3/lib/python3.7/site-packages/sklearn/svm/base.py:193: FutureWarning: The default value of gamma will change from 'auto' to 'scale' in version 0.22 to account better for unscaled features. Set gamma explicitly to 'auto' or 'scale' to avoid this warning.\n",
      "  \"avoid this warning.\", FutureWarning)\n",
      "/Users/swetha/opt/anaconda3/lib/python3.7/site-packages/sklearn/svm/base.py:193: FutureWarning: The default value of gamma will change from 'auto' to 'scale' in version 0.22 to account better for unscaled features. Set gamma explicitly to 'auto' or 'scale' to avoid this warning.\n",
      "  \"avoid this warning.\", FutureWarning)\n",
      "/Users/swetha/opt/anaconda3/lib/python3.7/site-packages/sklearn/svm/base.py:193: FutureWarning: The default value of gamma will change from 'auto' to 'scale' in version 0.22 to account better for unscaled features. Set gamma explicitly to 'auto' or 'scale' to avoid this warning.\n",
      "  \"avoid this warning.\", FutureWarning)\n",
      "/Users/swetha/opt/anaconda3/lib/python3.7/site-packages/sklearn/svm/base.py:193: FutureWarning: The default value of gamma will change from 'auto' to 'scale' in version 0.22 to account better for unscaled features. Set gamma explicitly to 'auto' or 'scale' to avoid this warning.\n",
      "  \"avoid this warning.\", FutureWarning)\n"
     ]
    },
    {
     "name": "stdout",
     "output_type": "stream",
     "text": [
      "[CV] ......... C=10, degree=2, kernel=poly, score=0.754, total=   0.0s\n",
      "[CV] C=10, degree=2, kernel=poly .....................................\n",
      "[CV] ......... C=10, degree=2, kernel=poly, score=0.807, total=   0.0s\n",
      "[CV] C=10, degree=2, kernel=poly .....................................\n",
      "[CV] ......... C=10, degree=2, kernel=poly, score=0.756, total=   0.0s\n",
      "[CV] C=10, degree=3, kernel=poly .....................................\n",
      "[CV] ......... C=10, degree=3, kernel=poly, score=0.749, total=   0.0s\n",
      "[CV] C=10, degree=3, kernel=poly .....................................\n",
      "[CV] ......... C=10, degree=3, kernel=poly, score=0.744, total=   0.0s\n",
      "[CV] C=10, degree=3, kernel=poly .....................................\n",
      "[CV] ......... C=10, degree=3, kernel=poly, score=0.739, total=   0.0s\n",
      "[CV] C=10, degree=3, kernel=poly .....................................\n",
      "[CV] ......... C=10, degree=3, kernel=poly, score=0.777, total=   0.0s\n",
      "[CV] C=10, degree=3, kernel=poly .....................................\n",
      "[CV] ......... C=10, degree=3, kernel=poly, score=0.716, total=   0.0s\n",
      "[CV] C=10, degree=4, kernel=poly .....................................\n",
      "[CV] ......... C=10, degree=4, kernel=poly, score=0.754, total=   0.0s\n",
      "[CV] C=10, degree=4, kernel=poly .....................................\n",
      "[CV] ......... C=10, degree=4, kernel=poly, score=0.734, total=   0.0s\n",
      "[CV] C=10, degree=4, kernel=poly .....................................\n",
      "[CV] ......... C=10, degree=4, kernel=poly, score=0.719, total=   0.0s\n",
      "[CV] C=10, degree=4, kernel=poly .....................................\n"
     ]
    },
    {
     "name": "stderr",
     "output_type": "stream",
     "text": [
      "/Users/swetha/opt/anaconda3/lib/python3.7/site-packages/sklearn/svm/base.py:193: FutureWarning: The default value of gamma will change from 'auto' to 'scale' in version 0.22 to account better for unscaled features. Set gamma explicitly to 'auto' or 'scale' to avoid this warning.\n",
      "  \"avoid this warning.\", FutureWarning)\n",
      "/Users/swetha/opt/anaconda3/lib/python3.7/site-packages/sklearn/svm/base.py:193: FutureWarning: The default value of gamma will change from 'auto' to 'scale' in version 0.22 to account better for unscaled features. Set gamma explicitly to 'auto' or 'scale' to avoid this warning.\n",
      "  \"avoid this warning.\", FutureWarning)\n",
      "/Users/swetha/opt/anaconda3/lib/python3.7/site-packages/sklearn/svm/base.py:193: FutureWarning: The default value of gamma will change from 'auto' to 'scale' in version 0.22 to account better for unscaled features. Set gamma explicitly to 'auto' or 'scale' to avoid this warning.\n",
      "  \"avoid this warning.\", FutureWarning)\n",
      "/Users/swetha/opt/anaconda3/lib/python3.7/site-packages/sklearn/svm/base.py:193: FutureWarning: The default value of gamma will change from 'auto' to 'scale' in version 0.22 to account better for unscaled features. Set gamma explicitly to 'auto' or 'scale' to avoid this warning.\n",
      "  \"avoid this warning.\", FutureWarning)\n",
      "/Users/swetha/opt/anaconda3/lib/python3.7/site-packages/sklearn/svm/base.py:193: FutureWarning: The default value of gamma will change from 'auto' to 'scale' in version 0.22 to account better for unscaled features. Set gamma explicitly to 'auto' or 'scale' to avoid this warning.\n",
      "  \"avoid this warning.\", FutureWarning)\n",
      "/Users/swetha/opt/anaconda3/lib/python3.7/site-packages/sklearn/svm/base.py:193: FutureWarning: The default value of gamma will change from 'auto' to 'scale' in version 0.22 to account better for unscaled features. Set gamma explicitly to 'auto' or 'scale' to avoid this warning.\n",
      "  \"avoid this warning.\", FutureWarning)\n",
      "/Users/swetha/opt/anaconda3/lib/python3.7/site-packages/sklearn/svm/base.py:193: FutureWarning: The default value of gamma will change from 'auto' to 'scale' in version 0.22 to account better for unscaled features. Set gamma explicitly to 'auto' or 'scale' to avoid this warning.\n",
      "  \"avoid this warning.\", FutureWarning)\n",
      "/Users/swetha/opt/anaconda3/lib/python3.7/site-packages/sklearn/svm/base.py:193: FutureWarning: The default value of gamma will change from 'auto' to 'scale' in version 0.22 to account better for unscaled features. Set gamma explicitly to 'auto' or 'scale' to avoid this warning.\n",
      "  \"avoid this warning.\", FutureWarning)\n",
      "/Users/swetha/opt/anaconda3/lib/python3.7/site-packages/sklearn/svm/base.py:193: FutureWarning: The default value of gamma will change from 'auto' to 'scale' in version 0.22 to account better for unscaled features. Set gamma explicitly to 'auto' or 'scale' to avoid this warning.\n",
      "  \"avoid this warning.\", FutureWarning)\n",
      "/Users/swetha/opt/anaconda3/lib/python3.7/site-packages/sklearn/svm/base.py:193: FutureWarning: The default value of gamma will change from 'auto' to 'scale' in version 0.22 to account better for unscaled features. Set gamma explicitly to 'auto' or 'scale' to avoid this warning.\n",
      "  \"avoid this warning.\", FutureWarning)\n",
      "/Users/swetha/opt/anaconda3/lib/python3.7/site-packages/sklearn/svm/base.py:193: FutureWarning: The default value of gamma will change from 'auto' to 'scale' in version 0.22 to account better for unscaled features. Set gamma explicitly to 'auto' or 'scale' to avoid this warning.\n",
      "  \"avoid this warning.\", FutureWarning)\n",
      "/Users/swetha/opt/anaconda3/lib/python3.7/site-packages/sklearn/svm/base.py:193: FutureWarning: The default value of gamma will change from 'auto' to 'scale' in version 0.22 to account better for unscaled features. Set gamma explicitly to 'auto' or 'scale' to avoid this warning.\n",
      "  \"avoid this warning.\", FutureWarning)\n",
      "/Users/swetha/opt/anaconda3/lib/python3.7/site-packages/sklearn/svm/base.py:193: FutureWarning: The default value of gamma will change from 'auto' to 'scale' in version 0.22 to account better for unscaled features. Set gamma explicitly to 'auto' or 'scale' to avoid this warning.\n",
      "  \"avoid this warning.\", FutureWarning)\n"
     ]
    },
    {
     "name": "stdout",
     "output_type": "stream",
     "text": [
      "[CV] ......... C=10, degree=4, kernel=poly, score=0.743, total=   0.0s\n",
      "[CV] C=10, degree=4, kernel=poly .....................................\n",
      "[CV] ......... C=10, degree=4, kernel=poly, score=0.677, total=   0.0s\n",
      "[CV] C=20, degree=2, kernel=poly .....................................\n",
      "[CV] ......... C=20, degree=2, kernel=poly, score=0.783, total=   0.0s\n",
      "[CV] C=20, degree=2, kernel=poly .....................................\n",
      "[CV] ......... C=20, degree=2, kernel=poly, score=0.793, total=   0.0s\n",
      "[CV] C=20, degree=2, kernel=poly .....................................\n",
      "[CV] ......... C=20, degree=2, kernel=poly, score=0.744, total=   0.0s\n",
      "[CV] C=20, degree=2, kernel=poly .....................................\n",
      "[CV] ......... C=20, degree=2, kernel=poly, score=0.802, total=   0.0s\n",
      "[CV] C=20, degree=2, kernel=poly .....................................\n",
      "[CV] ......... C=20, degree=2, kernel=poly, score=0.741, total=   0.0s\n",
      "[CV] C=20, degree=3, kernel=poly .....................................\n",
      "[CV] ......... C=20, degree=3, kernel=poly, score=0.759, total=   0.0s\n",
      "[CV] C=20, degree=3, kernel=poly .....................................\n",
      "[CV] ......... C=20, degree=3, kernel=poly, score=0.764, total=   0.0s\n",
      "[CV] C=20, degree=3, kernel=poly .....................................\n",
      "[CV] ......... C=20, degree=3, kernel=poly, score=0.768, total=   0.0s\n",
      "[CV] C=20, degree=3, kernel=poly .....................................\n",
      "[CV] ......... C=20, degree=3, kernel=poly, score=0.777, total=   0.0s\n",
      "[CV] C=20, degree=3, kernel=poly .....................................\n",
      "[CV] ......... C=20, degree=3, kernel=poly, score=0.721, total=   0.0s\n",
      "[CV] C=20, degree=4, kernel=poly .....................................\n",
      "[CV] ......... C=20, degree=4, kernel=poly, score=0.729, total=   0.0s\n",
      "[CV] C=20, degree=4, kernel=poly .....................................\n"
     ]
    },
    {
     "name": "stderr",
     "output_type": "stream",
     "text": [
      "/Users/swetha/opt/anaconda3/lib/python3.7/site-packages/sklearn/svm/base.py:193: FutureWarning: The default value of gamma will change from 'auto' to 'scale' in version 0.22 to account better for unscaled features. Set gamma explicitly to 'auto' or 'scale' to avoid this warning.\n",
      "  \"avoid this warning.\", FutureWarning)\n",
      "/Users/swetha/opt/anaconda3/lib/python3.7/site-packages/sklearn/svm/base.py:193: FutureWarning: The default value of gamma will change from 'auto' to 'scale' in version 0.22 to account better for unscaled features. Set gamma explicitly to 'auto' or 'scale' to avoid this warning.\n",
      "  \"avoid this warning.\", FutureWarning)\n",
      "/Users/swetha/opt/anaconda3/lib/python3.7/site-packages/sklearn/svm/base.py:193: FutureWarning: The default value of gamma will change from 'auto' to 'scale' in version 0.22 to account better for unscaled features. Set gamma explicitly to 'auto' or 'scale' to avoid this warning.\n",
      "  \"avoid this warning.\", FutureWarning)\n",
      "/Users/swetha/opt/anaconda3/lib/python3.7/site-packages/sklearn/svm/base.py:193: FutureWarning: The default value of gamma will change from 'auto' to 'scale' in version 0.22 to account better for unscaled features. Set gamma explicitly to 'auto' or 'scale' to avoid this warning.\n",
      "  \"avoid this warning.\", FutureWarning)\n",
      "/Users/swetha/opt/anaconda3/lib/python3.7/site-packages/sklearn/svm/base.py:193: FutureWarning: The default value of gamma will change from 'auto' to 'scale' in version 0.22 to account better for unscaled features. Set gamma explicitly to 'auto' or 'scale' to avoid this warning.\n",
      "  \"avoid this warning.\", FutureWarning)\n",
      "/Users/swetha/opt/anaconda3/lib/python3.7/site-packages/sklearn/svm/base.py:193: FutureWarning: The default value of gamma will change from 'auto' to 'scale' in version 0.22 to account better for unscaled features. Set gamma explicitly to 'auto' or 'scale' to avoid this warning.\n",
      "  \"avoid this warning.\", FutureWarning)\n",
      "/Users/swetha/opt/anaconda3/lib/python3.7/site-packages/sklearn/svm/base.py:193: FutureWarning: The default value of gamma will change from 'auto' to 'scale' in version 0.22 to account better for unscaled features. Set gamma explicitly to 'auto' or 'scale' to avoid this warning.\n",
      "  \"avoid this warning.\", FutureWarning)\n",
      "/Users/swetha/opt/anaconda3/lib/python3.7/site-packages/sklearn/svm/base.py:193: FutureWarning: The default value of gamma will change from 'auto' to 'scale' in version 0.22 to account better for unscaled features. Set gamma explicitly to 'auto' or 'scale' to avoid this warning.\n",
      "  \"avoid this warning.\", FutureWarning)\n",
      "/Users/swetha/opt/anaconda3/lib/python3.7/site-packages/sklearn/svm/base.py:193: FutureWarning: The default value of gamma will change from 'auto' to 'scale' in version 0.22 to account better for unscaled features. Set gamma explicitly to 'auto' or 'scale' to avoid this warning.\n",
      "  \"avoid this warning.\", FutureWarning)\n",
      "/Users/swetha/opt/anaconda3/lib/python3.7/site-packages/sklearn/svm/base.py:193: FutureWarning: The default value of gamma will change from 'auto' to 'scale' in version 0.22 to account better for unscaled features. Set gamma explicitly to 'auto' or 'scale' to avoid this warning.\n",
      "  \"avoid this warning.\", FutureWarning)\n",
      "/Users/swetha/opt/anaconda3/lib/python3.7/site-packages/sklearn/svm/base.py:193: FutureWarning: The default value of gamma will change from 'auto' to 'scale' in version 0.22 to account better for unscaled features. Set gamma explicitly to 'auto' or 'scale' to avoid this warning.\n",
      "  \"avoid this warning.\", FutureWarning)\n",
      "/Users/swetha/opt/anaconda3/lib/python3.7/site-packages/sklearn/svm/base.py:193: FutureWarning: The default value of gamma will change from 'auto' to 'scale' in version 0.22 to account better for unscaled features. Set gamma explicitly to 'auto' or 'scale' to avoid this warning.\n",
      "  \"avoid this warning.\", FutureWarning)\n"
     ]
    },
    {
     "name": "stdout",
     "output_type": "stream",
     "text": [
      "[CV] ......... C=20, degree=4, kernel=poly, score=0.734, total=   0.0s\n",
      "[CV] C=20, degree=4, kernel=poly .....................................\n",
      "[CV] ......... C=20, degree=4, kernel=poly, score=0.719, total=   0.0s\n",
      "[CV] C=20, degree=4, kernel=poly .....................................\n",
      "[CV] ......... C=20, degree=4, kernel=poly, score=0.782, total=   0.0s\n",
      "[CV] C=20, degree=4, kernel=poly .....................................\n",
      "[CV] ......... C=20, degree=4, kernel=poly, score=0.706, total=   0.0s\n",
      "[CV] C=100, degree=2, kernel=poly ....................................\n",
      "[CV] ........ C=100, degree=2, kernel=poly, score=0.773, total=   0.0s\n",
      "[CV] C=100, degree=2, kernel=poly ....................................\n",
      "[CV] ........ C=100, degree=2, kernel=poly, score=0.808, total=   0.0s\n",
      "[CV] C=100, degree=2, kernel=poly ....................................\n",
      "[CV] ........ C=100, degree=2, kernel=poly, score=0.739, total=   0.0s\n",
      "[CV] C=100, degree=2, kernel=poly ....................................\n",
      "[CV] ........ C=100, degree=2, kernel=poly, score=0.797, total=   0.0s\n",
      "[CV] C=100, degree=2, kernel=poly ....................................\n",
      "[CV] ........ C=100, degree=2, kernel=poly, score=0.741, total=   0.0s\n",
      "[CV] C=100, degree=3, kernel=poly ....................................\n",
      "[CV] ........ C=100, degree=3, kernel=poly, score=0.764, total=   0.0s\n",
      "[CV] C=100, degree=3, kernel=poly ....................................\n",
      "[CV] ........ C=100, degree=3, kernel=poly, score=0.803, total=   0.0s\n",
      "[CV] C=100, degree=3, kernel=poly ....................................\n",
      "[CV] ........ C=100, degree=3, kernel=poly, score=0.768, total=   0.0s\n",
      "[CV] C=100, degree=3, kernel=poly ....................................\n",
      "[CV] ........ C=100, degree=3, kernel=poly, score=0.792, total=   0.0s\n",
      "[CV] C=100, degree=3, kernel=poly ....................................\n",
      "[CV] ........ C=100, degree=3, kernel=poly, score=0.736, total=   0.0s\n",
      "[CV] C=100, degree=4, kernel=poly ....................................\n",
      "[CV] ........ C=100, degree=4, kernel=poly, score=0.749, total=   0.0s\n",
      "[CV] C=100, degree=4, kernel=poly ....................................\n",
      "[CV] ........ C=100, degree=4, kernel=poly, score=0.754, total=   0.0s\n",
      "[CV] C=100, degree=4, kernel=poly ....................................\n",
      "[CV] ........ C=100, degree=4, kernel=poly, score=0.749, total=   0.0s\n",
      "[CV] C=100, degree=4, kernel=poly ....................................\n",
      "[CV] ........ C=100, degree=4, kernel=poly, score=0.767, total=   0.0s\n",
      "[CV] C=100, degree=4, kernel=poly ....................................\n",
      "[CV] ........ C=100, degree=4, kernel=poly, score=0.716, total=   0.0s\n",
      "Best Train Accuracy score:  0.7786561264822134\n",
      "Best parameters: SVC(C=10, cache_size=200, class_weight=None, coef0=0.0,\n",
      "    decision_function_shape='ovr', degree=2, gamma='auto_deprecated',\n",
      "    kernel='poly', max_iter=-1, probability=False, random_state=None,\n",
      "    shrinking=True, tol=0.001, verbose=False)\n",
      "Best Test Accuracy score : 0.7810650887573964\n"
     ]
    },
    {
     "name": "stderr",
     "output_type": "stream",
     "text": [
      "/Users/swetha/opt/anaconda3/lib/python3.7/site-packages/sklearn/svm/base.py:193: FutureWarning: The default value of gamma will change from 'auto' to 'scale' in version 0.22 to account better for unscaled features. Set gamma explicitly to 'auto' or 'scale' to avoid this warning.\n",
      "  \"avoid this warning.\", FutureWarning)\n",
      "/Users/swetha/opt/anaconda3/lib/python3.7/site-packages/sklearn/svm/base.py:193: FutureWarning: The default value of gamma will change from 'auto' to 'scale' in version 0.22 to account better for unscaled features. Set gamma explicitly to 'auto' or 'scale' to avoid this warning.\n",
      "  \"avoid this warning.\", FutureWarning)\n",
      "/Users/swetha/opt/anaconda3/lib/python3.7/site-packages/sklearn/svm/base.py:193: FutureWarning: The default value of gamma will change from 'auto' to 'scale' in version 0.22 to account better for unscaled features. Set gamma explicitly to 'auto' or 'scale' to avoid this warning.\n",
      "  \"avoid this warning.\", FutureWarning)\n",
      "/Users/swetha/opt/anaconda3/lib/python3.7/site-packages/sklearn/svm/base.py:193: FutureWarning: The default value of gamma will change from 'auto' to 'scale' in version 0.22 to account better for unscaled features. Set gamma explicitly to 'auto' or 'scale' to avoid this warning.\n",
      "  \"avoid this warning.\", FutureWarning)\n",
      "/Users/swetha/opt/anaconda3/lib/python3.7/site-packages/sklearn/svm/base.py:193: FutureWarning: The default value of gamma will change from 'auto' to 'scale' in version 0.22 to account better for unscaled features. Set gamma explicitly to 'auto' or 'scale' to avoid this warning.\n",
      "  \"avoid this warning.\", FutureWarning)\n",
      "/Users/swetha/opt/anaconda3/lib/python3.7/site-packages/sklearn/svm/base.py:193: FutureWarning: The default value of gamma will change from 'auto' to 'scale' in version 0.22 to account better for unscaled features. Set gamma explicitly to 'auto' or 'scale' to avoid this warning.\n",
      "  \"avoid this warning.\", FutureWarning)\n",
      "/Users/swetha/opt/anaconda3/lib/python3.7/site-packages/sklearn/svm/base.py:193: FutureWarning: The default value of gamma will change from 'auto' to 'scale' in version 0.22 to account better for unscaled features. Set gamma explicitly to 'auto' or 'scale' to avoid this warning.\n",
      "  \"avoid this warning.\", FutureWarning)\n",
      "[Parallel(n_jobs=1)]: Done  75 out of  75 | elapsed:    1.4s finished\n",
      "/Users/swetha/opt/anaconda3/lib/python3.7/site-packages/sklearn/svm/base.py:193: FutureWarning: The default value of gamma will change from 'auto' to 'scale' in version 0.22 to account better for unscaled features. Set gamma explicitly to 'auto' or 'scale' to avoid this warning.\n",
      "  \"avoid this warning.\", FutureWarning)\n"
     ]
    }
   ],
   "source": [
    "classifier_SVM_poly = SVC()\n",
    "# Grid search for hyperparameter tuning \n",
    "param_grid_svm_poly = {'C': [0.1, 1, 10, 20, 100], 'degree': [2,3,4],'kernel': ['poly']}  \n",
    "svm_poly_grid = GridSearchCV(classifier_SVM_poly, param_grid_svm_poly, refit = True, verbose = 3, cv = 5) \n",
    "  \n",
    "# fitting the model for grid search \n",
    "SVMpoly_best_model= svm_poly_grid.fit(X_train, y_train) \n",
    "y_pred = SVMpoly_best_model.predict(X_test)\n",
    "\n",
    "acc = accuracy_score(y_test, y_pred)\n",
    "prec = precision_score(y_test, y_pred,pos_label='1')\n",
    "rec = recall_score(y_test, y_pred, pos_label='1')\n",
    "f1 = f1_score(y_test, y_pred,pos_label='1')\n",
    "\n",
    "model_results_SVM_poly = pd.DataFrame([['SVM(POLY)_GridCV', acc, prec, rec, f1]],\n",
    "               columns = ['Model', 'Accuracy', 'Precision', 'Recall', 'F1 Score'])\n",
    "\n",
    "Results_all = Results_all.append(model_results_SVM_poly, ignore_index = True)\n",
    "\n",
    "print(\"Best Train Accuracy score: \",svm_poly_grid.best_score_)\n",
    "print(\"Best parameters:\", svm_poly_grid.best_estimator_)\n",
    "print(\"Best Test Accuracy score :\", accuracy_score(y_test, y_pred))"
   ]
  },
  {
   "cell_type": "code",
   "execution_count": 446,
   "metadata": {},
   "outputs": [
    {
     "data": {
      "text/plain": [
       "<matplotlib.axes._subplots.AxesSubplot at 0x13e76ee10>"
      ]
     },
     "execution_count": 446,
     "metadata": {},
     "output_type": "execute_result"
    },
    {
     "data": {
      "image/png": "[encoded data removed]",
      "text/plain": [
       "<Figure size 432x288 with 1 Axes>"
      ]
     },
     "metadata": {
      "needs_background": "light"
     },
     "output_type": "display_data"
    }
   ],
   "source": [
    "sns.lineplot(x='param_C', y='mean_test_score', data=pd.DataFrame(svm_poly_grid.cv_results_))\n",
    "#pd.DataFrame(svm_poly_grid.cv_results_)"
   ]
  },
  {
   "cell_type": "code",
   "execution_count": 406,
   "metadata": {},
   "outputs": [
    {
     "name": "stdout",
     "output_type": "stream",
     "text": [
      "Collecting package metadata (current_repodata.json): done\n",
      "Solving environment: failed with initial frozen solve. Retrying with flexible solve.\n",
      "Collecting package metadata (repodata.json): done\n",
      "Solving environment: failed with initial frozen solve. Retrying with flexible solve.\n",
      "\n",
      "PackagesNotFoundError: The following packages are not available from current channels:\n",
      "\n",
      "  - mglearn\n",
      "\n",
      "Current channels:\n",
      "\n",
      "  - https://repo.anaconda.com/pkgs/main/osx-64\n",
      "  - https://repo.anaconda.com/pkgs/main/noarch\n",
      "  - https://repo.anaconda.com/pkgs/r/osx-64\n",
      "  - https://repo.anaconda.com/pkgs/r/noarch\n",
      "\n",
      "To search for alternate channels that may provide the conda package you're\n",
      "looking for, navigate to\n",
      "\n",
      "    https://anaconda.org\n",
      "\n",
      "and use the search bar at the top of the page.\n",
      "\n",
      "\n",
      "\n",
      "Note: you may need to restart the kernel to use updated packages.\n"
     ]
    }
   ],
   "source": [
    "conda install mglearn"
   ]
  },
  {
   "cell_type": "code",
   "execution_count": 407,
   "metadata": {},
   "outputs": [
    {
     "name": "stdout",
     "output_type": "stream",
     "text": [
      "Requirement already satisfied: mglearn in /Users/swetha/opt/anaconda3/lib/python3.7/site-packages (0.1.7)\n",
      "Requirement already satisfied: scikit-learn in /Users/swetha/opt/anaconda3/lib/python3.7/site-packages (from mglearn) (0.21.3)\n",
      "Requirement already satisfied: matplotlib in /Users/swetha/opt/anaconda3/lib/python3.7/site-packages (from mglearn) (3.1.2)\n",
      "Requirement already satisfied: pandas in /Users/swetha/opt/anaconda3/lib/python3.7/site-packages (from mglearn) (0.25.3)\n",
      "Requirement already satisfied: cycler in /Users/swetha/opt/anaconda3/lib/python3.7/site-packages (from mglearn) (0.10.0)\n",
      "Requirement already satisfied: pillow in /Users/swetha/opt/anaconda3/lib/python3.7/site-packages (from mglearn) (6.2.0)\n",
      "Requirement already satisfied: numpy in /Users/swetha/opt/anaconda3/lib/python3.7/site-packages (from mglearn) (1.18.1)\n",
      "Requirement already satisfied: imageio in /Users/swetha/opt/anaconda3/lib/python3.7/site-packages (from mglearn) (2.6.0)\n",
      "Requirement already satisfied: scipy>=0.17.0 in /Users/swetha/opt/anaconda3/lib/python3.7/site-packages (from scikit-learn->mglearn) (1.4.1)\n",
      "Requirement already satisfied: joblib>=0.11 in /Users/swetha/opt/anaconda3/lib/python3.7/site-packages (from scikit-learn->mglearn) (0.13.2)\n",
      "Requirement already satisfied: kiwisolver>=1.0.1 in /Users/swetha/opt/anaconda3/lib/python3.7/site-packages (from matplotlib->mglearn) (1.1.0)\n",
      "Requirement already satisfied: pyparsing!=2.0.4,!=2.1.2,!=2.1.6,>=2.0.1 in /Users/swetha/opt/anaconda3/lib/python3.7/site-packages (from matplotlib->mglearn) (2.4.2)\n",
      "Requirement already satisfied: python-dateutil>=2.1 in /Users/swetha/opt/anaconda3/lib/python3.7/site-packages (from matplotlib->mglearn) (2.8.0)\n",
      "Requirement already satisfied: pytz>=2017.2 in /Users/swetha/opt/anaconda3/lib/python3.7/site-packages (from pandas->mglearn) (2019.3)\n",
      "Requirement already satisfied: six in /Users/swetha/opt/anaconda3/lib/python3.7/site-packages (from cycler->mglearn) (1.12.0)\n",
      "Requirement already satisfied: setuptools in /Users/swetha/opt/anaconda3/lib/python3.7/site-packages (from kiwisolver>=1.0.1->matplotlib->mglearn) (41.4.0)\n",
      "Note: you may need to restart the kernel to use updated packages.\n"
     ]
    }
   ],
   "source": [
    "pip install mglearn"
   ]
  },
  {
   "cell_type": "code",
   "execution_count": 449,
   "metadata": {},
   "outputs": [
    {
     "data": {
      "text/plain": [
       "<matplotlib.collections.PolyCollection at 0x13e991650>"
      ]
     },
     "execution_count": 449,
     "metadata": {},
     "output_type": "execute_result"
    },
    {
     "data": {
      "image/png": "[encoded data removed]",
      "text/plain": [
       "<Figure size 432x288 with 1 Axes>"
      ]
     },
     "metadata": {
      "needs_background": "light"
     },
     "output_type": "display_data"
    }
   ],
   "source": [
    "%matplotlib inline \n",
    "import mglearn\n",
    "scores = np.array(pd.DataFrame(svm_poly_grid.cv_results_).mean_test_score).reshape(3, 5)\n",
    "\n",
    "# plot the mean cross-validation scores\n",
    "mglearn.tools.heatmap(scores, xlabel='C', xticklabels=param_grid_svm_poly['C'], ylabel='degree', yticklabels=param_grid_svm_poly['degree'], cmap=\"viridis\")"
   ]
  },
  {
   "cell_type": "markdown",
   "metadata": {},
   "source": [
    "## Method7: Decision tree classifier - Grid search with cross validation"
   ]
  },
  {
   "cell_type": "code",
   "execution_count": 458,
   "metadata": {},
   "outputs": [
    {
     "name": "stdout",
     "output_type": "stream",
     "text": [
      "Fitting 5 folds for each of 12 candidates, totalling 60 fits\n",
      "[CV] criterion=gini, max_depth=2, min_samples_split=2 ................\n",
      "[CV]  criterion=gini, max_depth=2, min_samples_split=2, score=0.734, total=   0.0s\n",
      "[CV] criterion=gini, max_depth=2, min_samples_split=2 ................\n",
      "[CV]  criterion=gini, max_depth=2, min_samples_split=2, score=0.739, total=   0.0s\n",
      "[CV] criterion=gini, max_depth=2, min_samples_split=2 ................\n",
      "[CV]  criterion=gini, max_depth=2, min_samples_split=2, score=0.670, total=   0.0s\n",
      "[CV] criterion=gini, max_depth=2, min_samples_split=2 ................\n",
      "[CV]  criterion=gini, max_depth=2, min_samples_split=2, score=0.738, total=   0.0s\n",
      "[CV] criterion=gini, max_depth=2, min_samples_split=2 ................\n",
      "[CV]  criterion=gini, max_depth=2, min_samples_split=2, score=0.642, total=   0.0s\n",
      "[CV] criterion=gini, max_depth=2, min_samples_split=10 ...............\n",
      "[CV]  criterion=gini, max_depth=2, min_samples_split=10, score=0.734, total=   0.0s\n",
      "[CV] criterion=gini, max_depth=2, min_samples_split=10 ...............\n",
      "[CV]  criterion=gini, max_depth=2, min_samples_split=10, score=0.739, total=   0.0s\n",
      "[CV] criterion=gini, max_depth=2, min_samples_split=10 ...............\n",
      "[CV]  criterion=gini, max_depth=2, min_samples_split=10, score=0.670, total=   0.0s\n",
      "[CV] criterion=gini, max_depth=2, min_samples_split=10 ...............\n",
      "[CV]  criterion=gini, max_depth=2, min_samples_split=10, score=0.738, total=   0.0s\n",
      "[CV] criterion=gini, max_depth=2, min_samples_split=10 ...............\n",
      "[CV]  criterion=gini, max_depth=2, min_samples_split=10, score=0.642, total=   0.0s\n",
      "[CV] criterion=gini, max_depth=5, min_samples_split=2 ................\n",
      "[CV]  criterion=gini, max_depth=5, min_samples_split=2, score=0.719, total=   0.0s\n",
      "[CV] criterion=gini, max_depth=5, min_samples_split=2 ................\n",
      "[CV]  criterion=gini, max_depth=5, min_samples_split=2, score=0.739, total=   0.0s\n",
      "[CV] criterion=gini, max_depth=5, min_samples_split=2 ................\n",
      "[CV]  criterion=gini, max_depth=5, min_samples_split=2, score=0.700, total=   0.0s\n",
      "[CV] criterion=gini, max_depth=5, min_samples_split=2 ................\n",
      "[CV]  criterion=gini, max_depth=5, min_samples_split=2, score=0.752, total=   0.0s\n",
      "[CV] criterion=gini, max_depth=5, min_samples_split=2 ................\n",
      "[CV]  criterion=gini, max_depth=5, min_samples_split=2, score=0.657, total=   0.0s\n",
      "[CV] criterion=gini, max_depth=5, min_samples_split=10 ...............\n",
      "[CV]  criterion=gini, max_depth=5, min_samples_split=10, score=0.734, total=   0.0s\n",
      "[CV] criterion=gini, max_depth=5, min_samples_split=10 ...............\n",
      "[CV]  criterion=gini, max_depth=5, min_samples_split=10, score=0.759, total=   0.0s\n",
      "[CV] criterion=gini, max_depth=5, min_samples_split=10 ...............\n",
      "[CV]  criterion=gini, max_depth=5, min_samples_split=10, score=0.700, total=   0.0s\n",
      "[CV] criterion=gini, max_depth=5, min_samples_split=10 ...............\n",
      "[CV]  criterion=gini, max_depth=5, min_samples_split=10, score=0.748, total=   0.0s\n",
      "[CV] criterion=gini, max_depth=5, min_samples_split=10 ...............\n",
      "[CV]  criterion=gini, max_depth=5, min_samples_split=10, score=0.662, total=   0.0s\n",
      "[CV] criterion=gini, max_depth=10, min_samples_split=2 ...............\n",
      "[CV]  criterion=gini, max_depth=10, min_samples_split=2, score=0.690, total=   0.0s\n",
      "[CV] criterion=gini, max_depth=10, min_samples_split=2 ...............\n",
      "[CV]  criterion=gini, max_depth=10, min_samples_split=2, score=0.734, total=   0.0s\n",
      "[CV] criterion=gini, max_depth=10, min_samples_split=2 ...............\n",
      "[CV]  criterion=gini, max_depth=10, min_samples_split=2, score=0.635, total=   0.0s\n",
      "[CV] criterion=gini, max_depth=10, min_samples_split=2 ...............\n",
      "[CV]  criterion=gini, max_depth=10, min_samples_split=2, score=0.718, total=   0.0s\n",
      "[CV] criterion=gini, max_depth=10, min_samples_split=2 ...............\n",
      "[CV]  criterion=gini, max_depth=10, min_samples_split=2, score=0.652, total=   0.0s\n",
      "[CV] criterion=gini, max_depth=10, min_samples_split=10 ..............\n",
      "[CV]  criterion=gini, max_depth=10, min_samples_split=10, score=0.729, total=   0.0s\n",
      "[CV] criterion=gini, max_depth=10, min_samples_split=10 ..............\n",
      "[CV]  criterion=gini, max_depth=10, min_samples_split=10, score=0.739, total=   0.0s\n",
      "[CV] criterion=gini, max_depth=10, min_samples_split=10 ..............\n",
      "[CV]  criterion=gini, max_depth=10, min_samples_split=10, score=0.645, total=   0.0s\n",
      "[CV] criterion=gini, max_depth=10, min_samples_split=10 ..............\n",
      "[CV]  criterion=gini, max_depth=10, min_samples_split=10, score=0.723, total=   0.0s\n",
      "[CV] criterion=gini, max_depth=10, min_samples_split=10 ..............\n",
      "[CV]  criterion=gini, max_depth=10, min_samples_split=10, score=0.677, total=   0.0s\n",
      "[CV] criterion=entropy, max_depth=2, min_samples_split=2 .............\n",
      "[CV]  criterion=entropy, max_depth=2, min_samples_split=2, score=0.640, total=   0.0s\n",
      "[CV] criterion=entropy, max_depth=2, min_samples_split=2 .............\n",
      "[CV]  criterion=entropy, max_depth=2, min_samples_split=2, score=0.744, total=   0.0s\n",
      "[CV] criterion=entropy, max_depth=2, min_samples_split=2 .............\n",
      "[CV]  criterion=entropy, max_depth=2, min_samples_split=2, score=0.670, total=   0.0s\n",
      "[CV] criterion=entropy, max_depth=2, min_samples_split=2 .............\n",
      "[CV]  criterion=entropy, max_depth=2, min_samples_split=2, score=0.767, total=   0.0s\n",
      "[CV] criterion=entropy, max_depth=2, min_samples_split=2 .............\n",
      "[CV]  criterion=entropy, max_depth=2, min_samples_split=2, score=0.642, total=   0.0s\n",
      "[CV] criterion=entropy, max_depth=2, min_samples_split=10 ............\n"
     ]
    },
    {
     "name": "stderr",
     "output_type": "stream",
     "text": [
      "[Parallel(n_jobs=1)]: Using backend SequentialBackend with 1 concurrent workers.\n",
      "[Parallel(n_jobs=1)]: Done   1 out of   1 | elapsed:    0.0s remaining:    0.0s\n",
      "[Parallel(n_jobs=1)]: Done   2 out of   2 | elapsed:    0.0s remaining:    0.0s\n"
     ]
    },
    {
     "name": "stdout",
     "output_type": "stream",
     "text": [
      "[CV]  criterion=entropy, max_depth=2, min_samples_split=10, score=0.640, total=   0.0s\n",
      "[CV] criterion=entropy, max_depth=2, min_samples_split=10 ............\n",
      "[CV]  criterion=entropy, max_depth=2, min_samples_split=10, score=0.744, total=   0.0s\n",
      "[CV] criterion=entropy, max_depth=2, min_samples_split=10 ............\n",
      "[CV]  criterion=entropy, max_depth=2, min_samples_split=10, score=0.670, total=   0.0s\n",
      "[CV] criterion=entropy, max_depth=2, min_samples_split=10 ............\n",
      "[CV]  criterion=entropy, max_depth=2, min_samples_split=10, score=0.767, total=   0.0s\n",
      "[CV] criterion=entropy, max_depth=2, min_samples_split=10 ............\n",
      "[CV]  criterion=entropy, max_depth=2, min_samples_split=10, score=0.642, total=   0.0s\n",
      "[CV] criterion=entropy, max_depth=5, min_samples_split=2 .............\n",
      "[CV]  criterion=entropy, max_depth=5, min_samples_split=2, score=0.714, total=   0.0s\n",
      "[CV] criterion=entropy, max_depth=5, min_samples_split=2 .............\n",
      "[CV]  criterion=entropy, max_depth=5, min_samples_split=2, score=0.768, total=   0.0s\n",
      "[CV] criterion=entropy, max_depth=5, min_samples_split=2 .............\n",
      "[CV]  criterion=entropy, max_depth=5, min_samples_split=2, score=0.700, total=   0.0s\n",
      "[CV] criterion=entropy, max_depth=5, min_samples_split=2 .............\n",
      "[CV]  criterion=entropy, max_depth=5, min_samples_split=2, score=0.767, total=   0.0s\n",
      "[CV] criterion=entropy, max_depth=5, min_samples_split=2 .............\n",
      "[CV]  criterion=entropy, max_depth=5, min_samples_split=2, score=0.672, total=   0.0s\n",
      "[CV] criterion=entropy, max_depth=5, min_samples_split=10 ............\n",
      "[CV]  criterion=entropy, max_depth=5, min_samples_split=10, score=0.719, total=   0.0s\n",
      "[CV] criterion=entropy, max_depth=5, min_samples_split=10 ............\n",
      "[CV]  criterion=entropy, max_depth=5, min_samples_split=10, score=0.768, total=   0.0s\n",
      "[CV] criterion=entropy, max_depth=5, min_samples_split=10 ............\n",
      "[CV]  criterion=entropy, max_depth=5, min_samples_split=10, score=0.690, total=   0.0s\n",
      "[CV] criterion=entropy, max_depth=5, min_samples_split=10 ............\n",
      "[CV]  criterion=entropy, max_depth=5, min_samples_split=10, score=0.772, total=   0.0s\n",
      "[CV] criterion=entropy, max_depth=5, min_samples_split=10 ............\n",
      "[CV]  criterion=entropy, max_depth=5, min_samples_split=10, score=0.672, total=   0.0s\n",
      "[CV] criterion=entropy, max_depth=10, min_samples_split=2 ............\n",
      "[CV]  criterion=entropy, max_depth=10, min_samples_split=2, score=0.719, total=   0.0s\n",
      "[CV] criterion=entropy, max_depth=10, min_samples_split=2 ............\n",
      "[CV]  criterion=entropy, max_depth=10, min_samples_split=2, score=0.764, total=   0.0s\n",
      "[CV] criterion=entropy, max_depth=10, min_samples_split=2 ............\n",
      "[CV]  criterion=entropy, max_depth=10, min_samples_split=2, score=0.675, total=   0.0s\n",
      "[CV] criterion=entropy, max_depth=10, min_samples_split=2 ............\n",
      "[CV]  criterion=entropy, max_depth=10, min_samples_split=2, score=0.757, total=   0.0s\n",
      "[CV] criterion=entropy, max_depth=10, min_samples_split=2 ............\n",
      "[CV]  criterion=entropy, max_depth=10, min_samples_split=2, score=0.672, total=   0.0s\n",
      "[CV] criterion=entropy, max_depth=10, min_samples_split=10 ...........\n",
      "[CV]  criterion=entropy, max_depth=10, min_samples_split=10, score=0.734, total=   0.0s\n",
      "[CV] criterion=entropy, max_depth=10, min_samples_split=10 ...........\n",
      "[CV]  criterion=entropy, max_depth=10, min_samples_split=10, score=0.759, total=   0.0s\n",
      "[CV] criterion=entropy, max_depth=10, min_samples_split=10 ...........\n",
      "[CV]  criterion=entropy, max_depth=10, min_samples_split=10, score=0.665, total=   0.0s\n",
      "[CV] criterion=entropy, max_depth=10, min_samples_split=10 ...........\n",
      "[CV]  criterion=entropy, max_depth=10, min_samples_split=10, score=0.752, total=   0.0s\n",
      "[CV] criterion=entropy, max_depth=10, min_samples_split=10 ...........\n",
      "[CV]  criterion=entropy, max_depth=10, min_samples_split=10, score=0.682, total=   0.0s\n",
      "Best Train Accuracy score:  0.724308300395257\n",
      "Best parameters: DecisionTreeClassifier(class_weight=None, criterion='entropy', max_depth=5,\n",
      "                       max_features=None, max_leaf_nodes=None,\n",
      "                       min_impurity_decrease=0.0, min_impurity_split=None,\n",
      "                       min_samples_leaf=1, min_samples_split=2,\n",
      "                       min_weight_fraction_leaf=0.0, presort=False,\n",
      "                       random_state=0, splitter='best')\n",
      "Best Test Accuracy score : 0.6715976331360947\n"
     ]
    },
    {
     "name": "stderr",
     "output_type": "stream",
     "text": [
      "[Parallel(n_jobs=1)]: Done  60 out of  60 | elapsed:    0.3s finished\n"
     ]
    }
   ],
   "source": [
    "classifier_dec = DecisionTreeClassifier(random_state = 0)\n",
    "param_grid_dec = {\"criterion\": [\"gini\", \"entropy\"],\n",
    "              \"min_samples_split\": [2, 10],\n",
    "              \"max_depth\": [2, 5, 10]\n",
    "              }\n",
    "dec_grid = GridSearchCV(classifier_dec, param_grid_dec, refit = True, verbose = 3, cv = 5) \n",
    "  \n",
    "# fitting the model for grid search \n",
    "dec_best_model= dec_grid.fit(X_train, y_train) \n",
    "\n",
    "# Predicting Test Set\n",
    "y_pred = dec_best_model.predict(X_test) \n",
    "\n",
    "acc = accuracy_score(y_test, y_pred)\n",
    "prec = precision_score(y_test, y_pred,pos_label='1')\n",
    "rec = recall_score(y_test, y_pred, pos_label='1')\n",
    "f1 = f1_score(y_test, y_pred,pos_label='1')\n",
    "\n",
    "model_results_dec = pd.DataFrame([['Decision tree_GridCV', acc, prec, rec, f1 ]],\n",
    "               columns = ['Model', 'Accuracy', 'Precision', 'Recall', 'F1 Score'])\n",
    "Results_all = Results_all.append(model_results_dec, ignore_index = True)\n",
    "  \n",
    "print(\"Best Train Accuracy score: \",dec_grid.best_score_)\n",
    "print(\"Best parameters:\", dec_grid.best_estimator_)\n",
    "print(\"Best Test Accuracy score :\", accuracy_score(y_test, y_pred))"
   ]
  },
  {
   "cell_type": "markdown",
   "metadata": {},
   "source": [
    "# Model Comparision"
   ]
  },
  {
   "cell_type": "code",
   "execution_count": 459,
   "metadata": {},
   "outputs": [
    {
     "name": "stdout",
     "output_type": "stream",
     "text": [
      "                        Model  Accuracy  Precision    Recall  F1 Score\n",
      "0                  KNN_GridCV  0.751479   0.815126  0.610063  0.697842\n",
      "1  Logistic Regression_GridCV  0.792899   0.790850  0.761006  0.775641\n",
      "2            LinearSVM_GridCV  0.795858   0.796053  0.761006  0.778135\n",
      "3         SVM (Linear)_GridCV  0.789941   0.801370  0.735849  0.767213\n",
      "4             SVM(RBF)_GridCV  0.795858   0.800000  0.754717  0.776699\n",
      "5            SVM(POLY)_GridCV  0.781065   0.797203  0.716981  0.754967\n",
      "6        Decision tree_GridCV  0.671598   0.690476  0.547170  0.610526\n"
     ]
    }
   ],
   "source": [
    "print(Results_all)"
   ]
  },
  {
   "cell_type": "markdown",
   "metadata": {},
   "source": [
    "* Accuracy can be used when the class distribution is similar while F1-score is a better metric when there are imbalanced classes as in the above case. \n",
    "* In most real-life classification problems, imbalanced class distribution exists and thus F1-score is a better metric to evaluate our model on.\n",
    "* We can see from the above scores results that, Linear Support Vector Machine has better F1_Score =77.8 %, which is greater than all other models. \n",
    "* We can consider this as the best model after applying Grid search and cross validation techniques."
   ]
  },
  {
   "cell_type": "markdown",
   "metadata": {},
   "source": [
    "## Best Models: Linear Support Vector Machine model"
   ]
  },
  {
   "cell_type": "code",
   "execution_count": 470,
   "metadata": {},
   "outputs": [
    {
     "name": "stdout",
     "output_type": "stream",
     "text": [
      "Train Set classification report:\n",
      "               precision    recall  f1-score   support\n",
      "\n",
      "           0       0.76      0.83      0.79       523\n",
      "           1       0.80      0.72      0.76       489\n",
      "\n",
      "    accuracy                           0.78      1012\n",
      "   macro avg       0.78      0.77      0.77      1012\n",
      "weighted avg       0.78      0.78      0.77      1012\n",
      "\n",
      "Test Set classification report:\n",
      "               precision    recall  f1-score   support\n",
      "\n",
      "           0       0.80      0.83      0.81       179\n",
      "           1       0.80      0.76      0.78       159\n",
      "\n",
      "    accuracy                           0.80       338\n",
      "   macro avg       0.80      0.79      0.79       338\n",
      "weighted avg       0.80      0.80      0.80       338\n",
      "\n"
     ]
    }
   ],
   "source": [
    "LinearSVC_best = Linsvm_grid.best_estimator_\n",
    "LinearSVC_best.fit(X_train,y_train)\n",
    "print(\"Train Set classification report:\\n\" ,classification_report(y_train, LinearSVC_best.predict(X_train)))\n",
    "print(\"Test Set classification report:\\n\" ,classification_report(y_test, LinearSVC_best.predict(X_test)))"
   ]
  }
 ],
 "metadata": {
  "kernelspec": {
   "display_name": "Python 3",
   "language": "python",
   "name": "python3"
  },
  "language_info": {
   "codemirror_mode": {
    "name": "ipython",
    "version": 3
   },
   "file_extension": ".py",
   "mimetype": "text/x-python",
   "name": "python",
   "nbconvert_exporter": "python",
   "pygments_lexer": "ipython3",
   "version": "3.7.3"
  }
 },
 "nbformat": 4,
 "nbformat_minor": 4
}
